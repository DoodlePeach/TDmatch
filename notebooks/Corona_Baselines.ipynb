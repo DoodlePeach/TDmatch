{
 "cells": [
  {
   "cell_type": "code",
   "execution_count": null,
   "metadata": {
    "ExecuteTime": {
     "end_time": "2021-02-07T20:39:09.186559Z",
     "start_time": "2021-02-07T20:39:08.496522Z"
    },
    "id": "fvFvBLJV0Dkv"
   },
   "outputs": [],
   "source": [
    "import numpy as np\n",
    "import pandas as pd\n",
    "import torch\n",
    "import warnings\n",
    "warnings.filterwarnings('ignore')"
   ]
  },
  {
   "cell_type": "markdown",
   "metadata": {
    "id": "zQ-42fh0hjsF"
   },
   "source": [
    "# Dataset\n"
   ]
  },
  {
   "cell_type": "code",
   "execution_count": null,
   "metadata": {
    "ExecuteTime": {
     "end_time": "2021-02-07T20:39:09.453830Z",
     "start_time": "2021-02-07T20:39:09.437993Z"
    },
    "id": "cyoj29J24hPX"
   },
   "outputs": [],
   "source": [
    "import pickle\n",
    "all_tables = pickle.load(open('data/Corona/all_tables.pkl','rb')) \n",
    "all_claims = pickle.load(open('data/Corona/all_claims.pkl','rb')) \n",
    "user_claims = pickle.load(open('data/Corona/user_claims.pkl','rb')) "
   ]
  },
  {
   "cell_type": "code",
   "execution_count": null,
   "metadata": {
    "ExecuteTime": {
     "end_time": "2021-02-07T20:39:17.098567Z",
     "start_time": "2021-02-07T20:39:13.375639Z"
    },
    "colab": {
     "base_uri": "https://localhost:8080/"
    },
    "id": "PQGeDwxYMfsI",
    "outputId": "5b84ad6c-02db-447d-d9b9-98e20b782f88"
   },
   "outputs": [],
   "source": [
    "from tqdm import tqdm\n",
    "\n",
    "table_columns = {1:'table',2:'country',3:'january',4:'february',5:'march',6:'april',7:'may',8:'june'}\n",
    "G=nx.Graph()\n",
    "K = 3\n",
    "\n",
    "i = 0\n",
    "nodes_labels = {}\n",
    "row_ids = {}\n",
    "id_rows = {}\n",
    "\n",
    "for row in tqdm(all_tables):\n",
    "    i+=1\n",
    "    row_name = str('RW'+str(i))\n",
    "    G.add_node(row_name , label= row_name, type='Row')\n",
    "    row_ids[row_name] = ' '.join([r for r in row])\n",
    "    id_rows[' '.join(row)] = row_name\n",
    "    \n",
    "    j=0\n",
    "    for cl in row:\n",
    "        j+=1\n",
    "        col_name = table_columns[j]\n",
    "        if cl == '': continue\n",
    "        if not G.has_node(col_name):     G.add_node(col_name , label= col_name, type='Column')\n",
    "        n_grams = [gr.replace(' ','_') for gr in find_all_n_grams(str(cl),K)]\n",
    "        for tg in n_grams:\n",
    "            G.add_node(tg,label=tg, type='Token')\n",
    "            G.add_edge(row_name,tg)\n",
    "            G.add_edge(col_name,tg)\n",
    "            \n",
    "\n",
    "\n",
    "i = 0\n",
    "claim_ids = {}\n",
    "id_claim = {}\n",
    "all_claims.update(user_claims)\n",
    "\n",
    "\n",
    "for claim in tqdm(all_claims):\n",
    "    i += 1\n",
    "    text = (claim)\n",
    "    claim_name = str('Claim'+str(i))\n",
    "    G.add_node(claim_name , label= claim_name, type='Claim')\n",
    "    claim_ids[claim_name] = claim\n",
    "    id_claim[claim] = claim_name\n",
    "    \n",
    "    n_grams = [gr.replace(' ','_') for gr in find_all_n_grams(text,K)]\n",
    "\n",
    "    for tg in n_grams:\n",
    "        if not G.has_node(tg):            \n",
    "            continue\n",
    "           \n",
    "        if not G.has_edge(claim_name,tg):            G.add_edge(claim_name,tg)\n",
    "        "
   ]
  },
  {
   "cell_type": "code",
   "execution_count": null,
   "metadata": {
    "ExecuteTime": {
     "end_time": "2021-02-07T20:39:20.235324Z",
     "start_time": "2021-02-07T20:39:17.100562Z"
    },
    "id": "frJt1r-UMy8j"
   },
   "outputs": [],
   "source": [
    "ground_truth = {}\n",
    "\n",
    "for cl in claim_ids:\n",
    "    ground_truth[cl] = []\n",
    "    if claim_ids[cl] in user_claims:\n",
    "        for r in user_claims[claim_ids[cl]]:\n",
    "            for rr in id_rows:\n",
    "                if ' '.join(reversed(r)) in rr:             \n",
    "                    ground_truth[cl].append(id_rows[rr])\n",
    "    else:\n",
    "        for r in id_rows:\n",
    "            if ' '.join(all_claims[claim_ids[cl]][0:2]) in r:\n",
    "                ground_truth[cl].append(id_rows[r])"
   ]
  },
  {
   "cell_type": "markdown",
   "metadata": {},
   "source": [
    "# Method0: BM25"
   ]
  },
  {
   "cell_type": "code",
   "execution_count": null,
   "metadata": {},
   "outputs": [],
   "source": [
    "from gensim.summarization.bm25 import get_bm25_weights\n",
    "from gensim.summarization.bm25 import BM25"
   ]
  },
  {
   "cell_type": "code",
   "execution_count": null,
   "metadata": {},
   "outputs": [],
   "source": [
    "corpus = [row for row in all_tables]\n",
    "results = BM25(corpus)"
   ]
  },
  {
   "cell_type": "code",
   "execution_count": null,
   "metadata": {},
   "outputs": [],
   "source": [
    "import numpy as np\n",
    "query_BM25 = {}\n",
    "for query in tqdm(ground_truth):\n",
    "    text = claim_ids[query]\n",
    "    scores = results.get_scores(text.split())\n",
    "    arr = np.array(scores)\n",
    "    topK = arr.argsort()[::-1]\n",
    "    query_BM25[query] = [(corpus[idx],scores[idx]) for idx in topK]"
   ]
  },
  {
   "cell_type": "code",
   "execution_count": null,
   "metadata": {},
   "outputs": [],
   "source": [
    "for KK in [1,2,3,5,10,20,50,50000]: \n",
    "    i = 0\n",
    "    precision,recall,fs = 0,0,0\n",
    "    MAP, MRR, hasP = 0,0,0\n",
    "\n",
    "    for query in query_BM25:\n",
    "        if query not in ground_truth or len(ground_truth[query])==0: continue\n",
    "        if query in [id_claim[c] for c in user_claims]: continue\n",
    "            \n",
    "        i+=1\n",
    "        preds = [id_rows[' '.join(f)] for (f,j) in query_BM25[query]][0:KK]\n",
    "        golds = [g for g in ground_truth[query]]\n",
    "        \n",
    "        MAP += utils.MAP_K(golds,preds)\n",
    "        MRR += utils.MRR(golds,preds)\n",
    "        hasP += utils.HAS_POSITIVE(golds,preds)\n",
    "        \n",
    "    print('\\n#################### ' + str(KK) + ' ###########################\\n')\n",
    "    print('MRR:',MRR/i,'MAP:',MAP/i, 'HAS POSITIVE:', hasP/i)\n"
   ]
  },
  {
   "cell_type": "markdown",
   "metadata": {
    "id": "7_MO08_KiAOb"
   },
   "source": [
    "# Method1: Unsupervised SentenceBERT"
   ]
  },
  {
   "cell_type": "code",
   "execution_count": null,
   "metadata": {
    "ExecuteTime": {
     "end_time": "2021-02-07T20:39:20.278282Z",
     "start_time": "2021-02-07T20:39:20.244774Z"
    },
    "id": "itxiXUgAbOJs"
   },
   "outputs": [],
   "source": [
    "from gensim.parsing.preprocessing import remove_stopwords\n",
    "\n",
    "vocabs = set()\n",
    "for node in G.nodes():\n",
    "    if G.nodes()[node]['type'] == 'Token':\n",
    "        if len(node.split('_')) == 1: vocabs.add(node)\n",
    "\n",
    "def return_filtered(text):\n",
    "    text = remove_stopwords(normalize_text(text))\n",
    "    t = ''\n",
    "    for token in word_tokenize(text):\n",
    "        if token in vocabs: t += token + ' '\n",
    "    return t   "
   ]
  },
  {
   "cell_type": "code",
   "execution_count": null,
   "metadata": {
    "ExecuteTime": {
     "end_time": "2021-02-07T20:39:22.378885Z",
     "start_time": "2021-02-07T20:39:20.280092Z"
    },
    "id": "fr3LfheWpA2c"
   },
   "outputs": [],
   "source": [
    "from sentence_transformers import SentenceTransformer"
   ]
  },
  {
   "cell_type": "code",
   "execution_count": null,
   "metadata": {
    "ExecuteTime": {
     "end_time": "2021-02-08T08:51:35.442309Z",
     "start_time": "2021-02-08T08:51:29.782292Z"
    },
    "colab": {
     "base_uri": "https://localhost:8080/"
    },
    "id": "O30uNlqipCSq",
    "outputId": "e506aa94-6b4d-4c37-9d98-161e09466da2"
   },
   "outputs": [],
   "source": [
    "model = SentenceTransformer('bert-large-nli-stsb-mean-tokens')"
   ]
  },
  {
   "cell_type": "code",
   "execution_count": null,
   "metadata": {
    "ExecuteTime": {
     "end_time": "2021-02-07T08:48:16.080516Z",
     "start_time": "2021-02-07T08:48:16.075329Z"
    },
    "id": "okQTtgyEgvt3"
   },
   "outputs": [],
   "source": [
    "special_tokens_dict = {'additional_special_tokens': ['[COL]','[VAL]']}"
   ]
  },
  {
   "cell_type": "code",
   "execution_count": null,
   "metadata": {
    "ExecuteTime": {
     "end_time": "2021-02-07T12:36:41.055257Z",
     "start_time": "2021-02-07T12:36:40.450627Z"
    },
    "colab": {
     "base_uri": "https://localhost:8080/"
    },
    "id": "RTc2I9kNIDLH",
    "outputId": "476acae1-4c14-42c4-befe-a33efcbe7acf"
   },
   "outputs": [],
   "source": [
    "word_embedding_model = model._first_module()   #Your models.Transformer object\n",
    "word_embedding_model.tokenizer.add_special_tokens(special_tokens_dict)\n",
    "word_embedding_model.auto_model.resize_token_embeddings(len(word_embedding_model.tokenizer))"
   ]
  },
  {
   "cell_type": "code",
   "execution_count": null,
   "metadata": {
    "ExecuteTime": {
     "end_time": "2021-02-07T20:39:56.482883Z",
     "start_time": "2021-02-07T20:39:56.473854Z"
    },
    "id": "FMmg36woh-KW"
   },
   "outputs": [],
   "source": [
    "table_content = []\n",
    "for t in all_tables:\n",
    "  for c in range(0,len(t)):\n",
    "    text += ' [COL] ' + str(table_columns[c+1]) + ' [VAL] ' + str(t[c])\n",
    "  \n",
    "  table_content.append(text)"
   ]
  },
  {
   "cell_type": "code",
   "execution_count": null,
   "metadata": {
    "ExecuteTime": {
     "end_time": "2021-02-07T22:08:14.824279Z",
     "start_time": "2021-02-07T22:06:32.957756Z"
    },
    "colab": {
     "base_uri": "https://localhost:8080/",
     "height": 66,
     "referenced_widgets": [
      "88326c5ded924b7c82509df6d13266f4",
      "063de19dd82a4733a1cd405bb33496b2",
      "918cd1d9a3a04b44a9455d39c9d335bc",
      "c1b879f1457042bca653dbd80158e499",
      "14b1f7d37ad84702974bd7373b44bb6f",
      "ed64dfb33dd6496686ce0f7a2982fd6c",
      "ff774db2dd0c4a4da62f03302b5082c1",
      "85d2fb1ae59642f88fbf97246fcef519"
     ]
    },
    "id": "-Kyvdth_WJmb",
    "outputId": "09281204-eae5-4925-f783-00f0a899d1dd"
   },
   "outputs": [],
   "source": [
    "from tqdm import tqdm\n",
    "from sklearn.metrics.pairwise import cosine_similarity\n",
    "\n",
    "claim_embs = model.encode([t for t in table_content],show_progress_bar=True)"
   ]
  },
  {
   "cell_type": "code",
   "execution_count": null,
   "metadata": {
    "ExecuteTime": {
     "end_time": "2021-02-07T23:38:21.898944Z",
     "start_time": "2021-02-07T22:09:37.507992Z"
    },
    "colab": {
     "base_uri": "https://localhost:8080/"
    },
    "id": "SdV18qpcpfJa",
    "outputId": "c4777cc2-c6b4-4bee-cb65-b7d46ae83792",
    "scrolled": true
   },
   "outputs": [],
   "source": [
    "pred_quey = {}\n",
    "\n",
    "for claim in tqdm([g for g in all_claims.keys()],position=0):\n",
    "  text = claim \n",
    "\n",
    "  m_emb = model.encode(claim)\n",
    "  \n",
    "  temp = []\n",
    "  for rv in range(0,len(row_ids)):\n",
    "    temp.append(([r for r in row_ids.keys()][rv],cosine_similarity(m_emb.reshape(1, -1),claim_embs[rv].reshape(1, -1))[0][0]))\n",
    "  pred_quey[id_claim[claim]] = sorted(temp,key=lambda dist:dist[1],reverse=True)\n",
    "  "
   ]
  },
  {
   "cell_type": "code",
   "execution_count": null,
   "metadata": {
    "ExecuteTime": {
     "end_time": "2021-02-08T21:40:27.115795Z",
     "start_time": "2021-02-08T21:40:26.836901Z"
    },
    "colab": {
     "base_uri": "https://localhost:8080/"
    },
    "id": "48isJH_uRceX",
    "outputId": "a9848474-c51d-404c-8792-2a53a123c875"
   },
   "outputs": [],
   "source": [
    "for KK in [1,3,5,10,20,50,500]: \n",
    "    i = 0\n",
    "    MAP, MR, hasP = 0,0,0\n",
    "\n",
    "    for query in pred_reviews:\n",
    "        if query not in ground_truth or len(ground_truth[query])==0: continue\n",
    "        if query not in [id_claim[c] for c in user_claims]: continue\n",
    "            \n",
    "        i+=1\n",
    "        preds = [f for (f,j) in pred_query[query]][0:KK]\n",
    "        golds = [g for g in ground_truth[query]]\n",
    "        \n",
    "        MAP += MAP_K(golds,preds)\n",
    "        MR += MRR(golds,preds)\n",
    "        hasP += HAS_POSITIVE(golds,preds)\n",
    "        \n",
    "    print('\\n#################### ' + str(KK) + ' ###########################\\n')\n",
    "    try:\n",
    "        print('MRR:',MR/i,'MAP:',MAP/i, 'HAS POSITIVE:', hasP/i)\n",
    "    except:\n",
    "        print('y')"
   ]
  },
  {
   "cell_type": "markdown",
   "metadata": {
    "id": "Mx7qwG7xpfmY"
   },
   "source": [
    "# Method2: Supervised SentenceBERT"
   ]
  },
  {
   "cell_type": "code",
   "execution_count": null,
   "metadata": {
    "id": "WIsht5-vwosV"
   },
   "outputs": [],
   "source": [
    "from sentence_transformers import SentenceTransformer\n",
    "SBmodel = SentenceTransformer('bert-large-nli-stsb-mean-tokens')"
   ]
  },
  {
   "cell_type": "code",
   "execution_count": null,
   "metadata": {
    "ExecuteTime": {
     "end_time": "2021-02-07T23:39:00.426637Z",
     "start_time": "2021-02-07T23:39:00.374239Z"
    },
    "id": "ovlInpZinkG9"
   },
   "outputs": [],
   "source": [
    "from numpy import loadtxt\n",
    "from keras.models import Sequential\n",
    "from keras.layers import Dense"
   ]
  },
  {
   "cell_type": "code",
   "execution_count": null,
   "metadata": {
    "ExecuteTime": {
     "end_time": "2021-02-07T23:52:29.153509Z",
     "start_time": "2021-02-07T23:39:12.153527Z"
    },
    "id": "j9Tc9pVSrov5"
   },
   "outputs": [],
   "source": [
    "table_embs = {}\n",
    "for row in tqdm(id_rows,position=0):\n",
    "  table_embs[row] = model.encode(row)\n"
   ]
  },
  {
   "cell_type": "code",
   "execution_count": null,
   "metadata": {
    "ExecuteTime": {
     "end_time": "2021-02-08T08:51:44.934302Z",
     "start_time": "2021-02-08T08:51:41.564954Z"
    },
    "colab": {
     "base_uri": "https://localhost:8080/",
     "height": 34
    },
    "id": "ao6Jk6oEsK_m",
    "outputId": "3654b088-b8ad-4b4f-8564-cc6590bb6e20"
   },
   "outputs": [],
   "source": [
    "query_score = []\n",
    "\n",
    "for claim in tqdm([g for g in all_claims.keys()],position=0):\n",
    "  text = claim\n",
    "    \n",
    "\n",
    "  m_emb = model.encode(text)\n",
    "    \n",
    "  for rw in id_rows:\n",
    "    temp = []\n",
    "    temp.append(cosine_similarity(m_emb.reshape(1, -1),table_embs[rw].reshape(1, -1))[0][0])\n",
    "      \n",
    "    if id_rows[rw] in ground_truth[claim]: temp.append(1)\n",
    "    else: temp.append(0)\n",
    "    query_score.append(temp)"
   ]
  },
  {
   "cell_type": "code",
   "execution_count": null,
   "metadata": {
    "ExecuteTime": {
     "end_time": "2021-02-08T01:09:36.021328Z",
     "start_time": "2021-02-08T01:09:32.345414Z"
    },
    "id": "3IGZ3HOqvh7_"
   },
   "outputs": [],
   "source": [
    "import numpy as np\n",
    "\n",
    "dataset = np.array(query_score)\n",
    "X = dataset[:,0:1]\n",
    "y = dataset[:,1]"
   ]
  },
  {
   "cell_type": "code",
   "execution_count": null,
   "metadata": {
    "ExecuteTime": {
     "end_time": "2021-02-08T01:09:36.107233Z",
     "start_time": "2021-02-08T01:09:36.022964Z"
    },
    "id": "BmM9G3tCvk9k"
   },
   "outputs": [],
   "source": [
    "import keras\n",
    "from keras import losses,optimizers\n",
    "\n",
    "model = Sequential()\n",
    "model.add(Dense(20, input_dim=1, activation='relu'))\n",
    "model.add(Dense(10, activation='relu'))\n",
    "model.add(Dense(1, activation='sigmoid'))\n",
    "model.compile(loss=keras.losses.binary_crossentropy, optimizer=keras.optimizers.Adam(lr=1e-3), metrics=['accuracy'])"
   ]
  },
  {
   "cell_type": "code",
   "execution_count": null,
   "metadata": {
    "ExecuteTime": {
     "end_time": "2021-02-08T01:18:21.302043Z",
     "start_time": "2021-02-08T01:09:36.108844Z"
    },
    "colab": {
     "base_uri": "https://localhost:8080/",
     "height": 544
    },
    "id": "BebLkAxdvp1F",
    "outputId": "34ba187f-2e25-48a5-ea55-bb0ec27a12d7"
   },
   "outputs": [],
   "source": [
    "class_weight = {0: 1.,1: 500.}\n",
    "\n",
    "model.fit(X, y, epochs=50, batch_size=2048,class_weight=class_weight)"
   ]
  },
  {
   "cell_type": "code",
   "execution_count": null,
   "metadata": {
    "ExecuteTime": {
     "end_time": "2021-02-08T08:35:42.889408Z",
     "start_time": "2021-02-08T08:35:21.556166Z"
    },
    "colab": {
     "base_uri": "https://localhost:8080/",
     "height": 34
    },
    "id": "W7kl3keKvsWg",
    "outputId": "af02b32a-404e-45cd-a3c7-40b65bcd9587"
   },
   "outputs": [],
   "source": [
    "query_predictions = {}\n",
    "\n",
    "for query in tqdm(ground_truth,position=0):\n",
    "  if query not in [id_claim[c] for c in user_claims]: continue\n",
    "\n",
    "    \n",
    "  text = claim_ids[query]\n",
    "            \n",
    "  m_emb = SBmodel.encode(text)\n",
    "\n",
    "  seen = []\n",
    "  data,scores = [],[]\n",
    "\n",
    "  for rw in id_rows:\n",
    "    seen.append(rw)\n",
    "    data.append(cosine_similarity(m_emb.reshape(1, -1),table_embs[rw].reshape(1, -1))[0][0])\n",
    "\n",
    "  res = model.predict(np.array(data))\n",
    "        \n",
    "  for i in range(0,len(res)):\n",
    "      scores.append((seen[i],res[i][0]))\n",
    "        \n",
    "  query_predictions[query] = sorted(scores, key=lambda dist: dist[1],reverse = True)"
   ]
  },
  {
   "cell_type": "code",
   "execution_count": null,
   "metadata": {
    "ExecuteTime": {
     "end_time": "2021-02-08T08:53:09.245287Z",
     "start_time": "2021-02-08T08:53:09.209278Z"
    },
    "colab": {
     "base_uri": "https://localhost:8080/",
     "height": 561
    },
    "id": "pf2zTwg7BuaF",
    "outputId": "b94015eb-e002-48b7-acbc-da0e00a41772"
   },
   "outputs": [],
   "source": [
    "for KK in [1,2,3,5,10,20,50,500]: \n",
    "    i = 0\n",
    "    precision,recall,fs = 0,0,0\n",
    "    MAP, MR, hasP = 0,0,0\n",
    "\n",
    "    for query in query_predictions:\n",
    "        if id_claim[query] not in ground_truth or len(ground_truth[id_claim[query]])==0: continue\n",
    "        if query in [id_claim[c] for c in user_claims]: continue\n",
    "        \n",
    "        i+=1\n",
    "        preds = [id_rows[f] for (f,j) in query_predictions[query]][0:KK]\n",
    "        golds = [f for f in ground_truth[id_claim[query]]]\n",
    "\n",
    "        MAP += MAP_K(golds,preds)\n",
    "        MR += MRR(golds,preds)\n",
    "        hasP += HAS_POSITIVE(golds,preds)\n",
    "        \n",
    "    print('\\n#################### ' + str(KK) + ' ###########################\\n')\n",
    "    print('MRR:',MR/i,'MAP:',MAP/i, 'HAS POSITIVE:', hasP/i)"
   ]
  },
  {
   "cell_type": "markdown",
   "metadata": {
    "id": "5yq3mJjHbMwY"
   },
   "source": [
    "# Method3: Reranking"
   ]
  },
  {
   "cell_type": "code",
   "execution_count": null,
   "metadata": {
    "ExecuteTime": {
     "end_time": "2021-02-08T21:50:04.461006Z",
     "start_time": "2021-02-08T21:50:01.897617Z"
    },
    "id": "p29YtWmiCcRf"
   },
   "outputs": [],
   "source": [
    "corona_SB = query_predictions\n",
    "corona_BM25 = query_BM25 "
   ]
  },
  {
   "cell_type": "code",
   "execution_count": null,
   "metadata": {
    "ExecuteTime": {
     "end_time": "2021-02-08T21:51:41.703541Z",
     "start_time": "2021-02-08T21:51:41.658906Z"
    }
   },
   "outputs": [],
   "source": [
    "import dlib\n",
    "data = dlib.ranking_pair()"
   ]
  },
  {
   "cell_type": "code",
   "execution_count": null,
   "metadata": {
    "ExecuteTime": {
     "end_time": "2021-02-08T21:59:35.024205Z",
     "start_time": "2021-02-08T21:55:20.540827Z"
    },
    "colab": {
     "base_uri": "https://localhost:8080/",
     "height": 34
    },
    "id": "aulyl4NUfTEn",
    "outputId": "1fb56d02-4bcd-4db0-a3ea-4183c2e3f219"
   },
   "outputs": [],
   "source": [
    "import time\n",
    "st = time.time()\n",
    "for query in tqdm(ground_truth,position=0):\n",
    "\n",
    "    m_BM = [' '.join(i) for (i,j) in corona_BM25[ query]]\n",
    "    m_SB = [i for (i,j) in corona_SB[query]]\n",
    "    \n",
    "    \n",
    "    for r in row_ids:\n",
    "        if r in ground_truth[query]: \n",
    "            data.relevant.append(dlib.vector([m_BM.index(row_ids[r])+1, m_SB.index(r)+1]))\n",
    "        else:  data.nonrelevant.append(dlib.vector([m_BM.index(row_ids[r])+1, m_SB.index(r)+1]))\n",
    "\n",
    "trainer = dlib.svm_rank_trainer()\n",
    "trainer.c = 1000\n",
    "\n",
    "rank = trainer.train(data)\n",
    "print(time.time()-st)"
   ]
  },
  {
   "cell_type": "code",
   "execution_count": null,
   "metadata": {
    "ExecuteTime": {
     "end_time": "2021-02-08T22:06:36.369832Z",
     "start_time": "2021-02-08T22:02:48.904687Z"
    }
   },
   "outputs": [],
   "source": [
    "st = time.time()\n",
    "i=0\n",
    "rerank_corona = {}\n",
    "\n",
    "for query in tqdm(ground_truth,position=0):\n",
    "    i+=1\n",
    "\n",
    "    m_BM = [' '.join(i) for (i,j) in corona_BM25[ query]]\n",
    "    m_SB = [i for (i,j) in corona_SB[query]]\n",
    "\n",
    "    temp = []\n",
    "    for r in row_ids:\n",
    "        temp.append((r,rank(dlib.vector([m_BM.index(row_ids[r])+1, m_SB.index(r)+1]))))\n",
    "    temp = sorted(temp, key=lambda dist: dist[1],reverse = True)\n",
    "    rerank_corona[query] = temp\n",
    "print((time.time()-st)/i)"
   ]
  },
  {
   "cell_type": "code",
   "execution_count": null,
   "metadata": {
    "ExecuteTime": {
     "end_time": "2021-02-08T22:09:20.117566Z",
     "start_time": "2021-02-08T22:09:13.992500Z"
    },
    "colab": {
     "base_uri": "https://localhost:8080/",
     "height": 697
    },
    "id": "UAoA5hflvs78",
    "outputId": "7293ee00-40f9-4fbc-da7d-188abc64aa47"
   },
   "outputs": [],
   "source": [
    "for KK in [1,2,3,5,10,20,50,500]: \n",
    "    i = 0\n",
    "    precision,recall,fs = 0,0,0\n",
    "    MAP, MR, hasP = 0,0,0\n",
    "\n",
    "    for query in rerank_corona:\n",
    "        if query not in ground_truth or len(ground_truth[query])==0: continue\n",
    "        if query in [id_claim[c] for c in user_claims]: continue\n",
    "        \n",
    "        i+=1\n",
    "        preds = [f for (f,j) in rerank_corona[query]][0:KK]\n",
    "        golds = [f for f in ground_truth[query]]\n",
    "\n",
    "        MAP += MAP_K(golds,preds)\n",
    "        MR += MRR(golds,preds)\n",
    "        hasP += HAS_POSITIVE(golds,preds)\n",
    "        \n",
    "    print('\\n#################### ' + str(KK) + ' ###########################\\n')\n",
    "    print('MRR:',MR/i,'MAP:',MAP/i, 'HAS POSITIVE:', hasP/i)"
   ]
  },
  {
   "cell_type": "markdown",
   "metadata": {},
   "source": [
    "# Method4: Doc2Vec"
   ]
  },
  {
   "cell_type": "code",
   "execution_count": null,
   "metadata": {},
   "outputs": [],
   "source": [
    "from gensim.models.doc2vec import Doc2Vec, TaggedDocument"
   ]
  },
  {
   "cell_type": "code",
   "execution_count": null,
   "metadata": {},
   "outputs": [],
   "source": [
    "data = []\n",
    "for query in all_tables:\n",
    "    text = ' '.join([str(m) for m in query]) \n",
    "    data.append(text)\n",
    "tagged_data = [TaggedDocument(words=word_tokenize(_d), tags=[str(i)]) for i, _d in enumerate(data)]"
   ]
  },
  {
   "cell_type": "code",
   "execution_count": null,
   "metadata": {},
   "outputs": [],
   "source": [
    "%env PYTHONHASHSEED=0\n",
    "max_epochs = 10\n",
    "vec_size = 50\n",
    "\n",
    "model = Doc2Vec(size=vec_size, min_count=10, dm =0, workers=1, window=4,seed=0, epochs=max_epochs\n",
    "                )\n",
    "\n",
    "model.build_vocab(tagged_data)\n",
    "\n",
    "model.train(tagged_data, total_examples=model.corpus_count,epochs=model.epochs)\n",
    "\n",
    "\n",
    "print(\"Model Saved\")"
   ]
  },
  {
   "cell_type": "code",
   "execution_count": null,
   "metadata": {},
   "outputs": [],
   "source": [
    "import numpy as np\n",
    "query_d2v = {}\n",
    "for query in tqdm(ground_truth):\n",
    "    text = claim_ids[query]\n",
    "    \n",
    "    query_d2v[query] = utils.cosine_distance(model,text,id_rows,500)"
   ]
  },
  {
   "cell_type": "code",
   "execution_count": null,
   "metadata": {},
   "outputs": [],
   "source": [
    "for KK in [1,2,3,5,10,20,50,2000]: \n",
    "    i = 0\n",
    "    precision,recall,fs = 0,0,0\n",
    "    MAP, MRR, hasP = 0,0,0\n",
    "\n",
    "    for query in query_d2v:\n",
    "        if claim_ids[query] not in ground_truth: continue\n",
    "        i+=1\n",
    "        preds = [id_review[f] for (f,j) in query_d2v[query]][0:KK]\n",
    "        golds = [f for f in ground_truth[row_ids[query]]]\n",
    "\n",
    "        MAP += utils.MAP_K(golds,preds)\n",
    "        MRR += utils.MRR(golds,preds)\n",
    "        hasP += utils.HAS_POSITIVE(golds,preds)\n",
    "        \n",
    "    print('\\n#################### ' + str(KK) + ' ###########################\\n')\n",
    "    print('MRR:',MRR/i,'MAP:',MAP/i, 'HAS POSITIVE:', hasP/i)"
   ]
  }
 ],
 "metadata": {
  "colab": {
   "collapsed_sections": [],
   "machine_shape": "hm",
   "name": "SentenceBERT_Corona",
   "provenance": [],
   "toc_visible": true
  },
  "kernelspec": {
   "display_name": "Python 3",
   "language": "python",
   "name": "python3"
  },
  "language_info": {
   "codemirror_mode": {
    "name": "ipython",
    "version": 3
   },
   "file_extension": ".py",
   "mimetype": "text/x-python",
   "name": "python",
   "nbconvert_exporter": "python",
   "pygments_lexer": "ipython3",
   "version": "3.6.8"
  },
  "widgets": {
   "application/vnd.jupyter.widget-state+json": {
    "063de19dd82a4733a1cd405bb33496b2": {
     "model_module": "@jupyter-widgets/base",
     "model_name": "LayoutModel",
     "state": {
      "_model_module": "@jupyter-widgets/base",
      "_model_module_version": "1.2.0",
      "_model_name": "LayoutModel",
      "_view_count": null,
      "_view_module": "@jupyter-widgets/base",
      "_view_module_version": "1.2.0",
      "_view_name": "LayoutView",
      "align_content": null,
      "align_items": null,
      "align_self": null,
      "border": null,
      "bottom": null,
      "display": null,
      "flex": null,
      "flex_flow": null,
      "grid_area": null,
      "grid_auto_columns": null,
      "grid_auto_flow": null,
      "grid_auto_rows": null,
      "grid_column": null,
      "grid_gap": null,
      "grid_row": null,
      "grid_template_areas": null,
      "grid_template_columns": null,
      "grid_template_rows": null,
      "height": null,
      "justify_content": null,
      "justify_items": null,
      "left": null,
      "margin": null,
      "max_height": null,
      "max_width": null,
      "min_height": null,
      "min_width": null,
      "object_fit": null,
      "object_position": null,
      "order": null,
      "overflow": null,
      "overflow_x": null,
      "overflow_y": null,
      "padding": null,
      "right": null,
      "top": null,
      "visibility": null,
      "width": null
     }
    },
    "14b1f7d37ad84702974bd7373b44bb6f": {
     "model_module": "@jupyter-widgets/controls",
     "model_name": "ProgressStyleModel",
     "state": {
      "_model_module": "@jupyter-widgets/controls",
      "_model_module_version": "1.5.0",
      "_model_name": "ProgressStyleModel",
      "_view_count": null,
      "_view_module": "@jupyter-widgets/base",
      "_view_module_version": "1.2.0",
      "_view_name": "StyleView",
      "bar_color": null,
      "description_width": "initial"
     }
    },
    "85d2fb1ae59642f88fbf97246fcef519": {
     "model_module": "@jupyter-widgets/base",
     "model_name": "LayoutModel",
     "state": {
      "_model_module": "@jupyter-widgets/base",
      "_model_module_version": "1.2.0",
      "_model_name": "LayoutModel",
      "_view_count": null,
      "_view_module": "@jupyter-widgets/base",
      "_view_module_version": "1.2.0",
      "_view_name": "LayoutView",
      "align_content": null,
      "align_items": null,
      "align_self": null,
      "border": null,
      "bottom": null,
      "display": null,
      "flex": null,
      "flex_flow": null,
      "grid_area": null,
      "grid_auto_columns": null,
      "grid_auto_flow": null,
      "grid_auto_rows": null,
      "grid_column": null,
      "grid_gap": null,
      "grid_row": null,
      "grid_template_areas": null,
      "grid_template_columns": null,
      "grid_template_rows": null,
      "height": null,
      "justify_content": null,
      "justify_items": null,
      "left": null,
      "margin": null,
      "max_height": null,
      "max_width": null,
      "min_height": null,
      "min_width": null,
      "object_fit": null,
      "object_position": null,
      "order": null,
      "overflow": null,
      "overflow_x": null,
      "overflow_y": null,
      "padding": null,
      "right": null,
      "top": null,
      "visibility": null,
      "width": null
     }
    },
    "88326c5ded924b7c82509df6d13266f4": {
     "model_module": "@jupyter-widgets/controls",
     "model_name": "HBoxModel",
     "state": {
      "_dom_classes": [],
      "_model_module": "@jupyter-widgets/controls",
      "_model_module_version": "1.5.0",
      "_model_name": "HBoxModel",
      "_view_count": null,
      "_view_module": "@jupyter-widgets/controls",
      "_view_module_version": "1.5.0",
      "_view_name": "HBoxView",
      "box_style": "",
      "children": [
       "IPY_MODEL_918cd1d9a3a04b44a9455d39c9d335bc",
       "IPY_MODEL_c1b879f1457042bca653dbd80158e499"
      ],
      "layout": "IPY_MODEL_063de19dd82a4733a1cd405bb33496b2"
     }
    },
    "918cd1d9a3a04b44a9455d39c9d335bc": {
     "model_module": "@jupyter-widgets/controls",
     "model_name": "FloatProgressModel",
     "state": {
      "_dom_classes": [],
      "_model_module": "@jupyter-widgets/controls",
      "_model_module_version": "1.5.0",
      "_model_name": "FloatProgressModel",
      "_view_count": null,
      "_view_module": "@jupyter-widgets/controls",
      "_view_module_version": "1.5.0",
      "_view_name": "ProgressView",
      "bar_style": "success",
      "description": "Batches: 100%",
      "description_tooltip": null,
      "layout": "IPY_MODEL_ed64dfb33dd6496686ce0f7a2982fd6c",
      "max": 37,
      "min": 0,
      "orientation": "horizontal",
      "style": "IPY_MODEL_14b1f7d37ad84702974bd7373b44bb6f",
      "value": 37
     }
    },
    "c1b879f1457042bca653dbd80158e499": {
     "model_module": "@jupyter-widgets/controls",
     "model_name": "HTMLModel",
     "state": {
      "_dom_classes": [],
      "_model_module": "@jupyter-widgets/controls",
      "_model_module_version": "1.5.0",
      "_model_name": "HTMLModel",
      "_view_count": null,
      "_view_module": "@jupyter-widgets/controls",
      "_view_module_version": "1.5.0",
      "_view_name": "HTMLView",
      "description": "",
      "description_tooltip": null,
      "layout": "IPY_MODEL_85d2fb1ae59642f88fbf97246fcef519",
      "placeholder": "​",
      "style": "IPY_MODEL_ff774db2dd0c4a4da62f03302b5082c1",
      "value": " 37/37 [04:07&lt;00:00,  6.68s/it]"
     }
    },
    "ed64dfb33dd6496686ce0f7a2982fd6c": {
     "model_module": "@jupyter-widgets/base",
     "model_name": "LayoutModel",
     "state": {
      "_model_module": "@jupyter-widgets/base",
      "_model_module_version": "1.2.0",
      "_model_name": "LayoutModel",
      "_view_count": null,
      "_view_module": "@jupyter-widgets/base",
      "_view_module_version": "1.2.0",
      "_view_name": "LayoutView",
      "align_content": null,
      "align_items": null,
      "align_self": null,
      "border": null,
      "bottom": null,
      "display": null,
      "flex": null,
      "flex_flow": null,
      "grid_area": null,
      "grid_auto_columns": null,
      "grid_auto_flow": null,
      "grid_auto_rows": null,
      "grid_column": null,
      "grid_gap": null,
      "grid_row": null,
      "grid_template_areas": null,
      "grid_template_columns": null,
      "grid_template_rows": null,
      "height": null,
      "justify_content": null,
      "justify_items": null,
      "left": null,
      "margin": null,
      "max_height": null,
      "max_width": null,
      "min_height": null,
      "min_width": null,
      "object_fit": null,
      "object_position": null,
      "order": null,
      "overflow": null,
      "overflow_x": null,
      "overflow_y": null,
      "padding": null,
      "right": null,
      "top": null,
      "visibility": null,
      "width": null
     }
    },
    "ff774db2dd0c4a4da62f03302b5082c1": {
     "model_module": "@jupyter-widgets/controls",
     "model_name": "DescriptionStyleModel",
     "state": {
      "_model_module": "@jupyter-widgets/controls",
      "_model_module_version": "1.5.0",
      "_model_name": "DescriptionStyleModel",
      "_view_count": null,
      "_view_module": "@jupyter-widgets/base",
      "_view_module_version": "1.2.0",
      "_view_name": "StyleView",
      "description_width": ""
     }
    }
   }
  }
 },
 "nbformat": 4,
 "nbformat_minor": 1
}
