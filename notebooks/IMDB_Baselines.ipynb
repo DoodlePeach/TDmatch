{
 "cells": [
  {
   "cell_type": "code",
   "execution_count": null,
   "metadata": {
    "ExecuteTime": {
     "end_time": "2021-02-07T20:38:05.423353Z",
     "start_time": "2021-02-07T20:38:03.627910Z"
    },
    "id": "fvFvBLJV0Dkv"
   },
   "outputs": [],
   "source": [
    "import numpy as np\n",
    "import pandas as pd\n",
    "import torch\n",
    "import warnings\n",
    "warnings.filterwarnings('ignore')"
   ]
  },
  {
   "cell_type": "markdown",
   "metadata": {
    "id": "zQ-42fh0hjsF"
   },
   "source": [
    "# Dataset\n"
   ]
  },
  {
   "cell_type": "code",
   "execution_count": null,
   "metadata": {
    "ExecuteTime": {
     "end_time": "2021-02-07T20:38:06.151051Z",
     "start_time": "2021-02-07T20:38:06.129078Z"
    },
    "id": "cyoj29J24hPX"
   },
   "outputs": [],
   "source": [
    "import pickle\n",
    "df = pickle.load(open('data/imdb/imdb_reviews_1000film.df','rb'))"
   ]
  },
  {
   "cell_type": "code",
   "execution_count": null,
   "metadata": {
    "ExecuteTime": {
     "end_time": "2021-02-07T20:38:07.035991Z",
     "start_time": "2021-02-07T20:38:07.033168Z"
    },
    "id": "Cob5vdG0cKLC"
   },
   "outputs": [],
   "source": [
    "cols = {0:'actor', 1:'actor', 2:'actor',3:'color',4:'rating',5:'director',6:'genre',7:'language',8:'company',9:'country',10:'release date',11:'year'}"
   ]
  },
  {
   "cell_type": "code",
   "execution_count": null,
   "metadata": {
    "ExecuteTime": {
     "end_time": "2021-02-07T20:38:08.076584Z",
     "start_time": "2021-02-07T20:38:07.627044Z"
    },
    "id": "G_ZWqFBttbPf"
   },
   "outputs": [],
   "source": [
    "import datetime\n",
    "import csv\n",
    "\n",
    "movies_dic = {}\n",
    "with open('data/imdb/imdb_movielens.csv') as csv_file:\n",
    "    csv_reader = csv.reader(csv_file, delimiter=',')\n",
    "    next(csv_reader)\n",
    "    for row in csv_reader:\n",
    "        if row[12].replace('_',' ') in movies_dic: continue\n",
    "        movies_dic[row[12].replace('_',' ')] = [r.replace('_',' ') for r in row[0:10]]\n",
    "        month,year = '',''\n",
    "        if len(row[10]) > 0:        \n",
    "            month = datetime.date(1900, int(row[10][4::]), 1).strftime('%B')\n",
    "            year = row[10][0:4]\n",
    "        \n",
    "        movies_dic[row[12].replace('_',' ')].append(month.lower() + ' ' + year)\n",
    "        movies_dic[row[12].replace('_',' ')].append(int(float(row[14])))"
   ]
  },
  {
   "cell_type": "code",
   "execution_count": null,
   "metadata": {
    "ExecuteTime": {
     "end_time": "2021-02-07T20:38:12.019648Z",
     "start_time": "2021-02-07T20:38:08.229291Z"
    },
    "id": "ZOeZRqB4MR0t"
   },
   "outputs": [],
   "source": [
    "import networkx as nx\n",
    "from gensim.parsing.preprocessing import remove_stopwords\n",
    "from nltk.tokenize import word_tokenize\n",
    "import nltk\n",
    "ps = nltk.stem.PorterStemmer()\n",
    "\n",
    "def return_n_grams(text,k):\n",
    "    tokens = word_tokenize(text)\n",
    "    n_grams = set()\n",
    "    for i in range(0,len(tokens)-(k-1)):\n",
    "        n_grams.add( ' '.join( ( [tk for tk in tokens[i:i+k]]) ))\n",
    "        \n",
    "    return n_grams\n",
    "\n",
    "\n",
    "def find_all_n_grams (text,n):\n",
    "    n_grams = []\n",
    "    for k in range(1,n+1):\n",
    "        k_grams = return_n_grams(text,k)\n",
    "        for g in k_grams: n_grams.append(g)\n",
    "    return n_grams\n",
    "\n",
    "\n",
    "import re\n",
    "def normalize_text(text):\n",
    "    text = re.sub(r'#+', ' ', text )\n",
    "    text = re.sub(r'@[A-Za-z0-9]+', ' ', text)\n",
    "    #text = re.sub(r'[0-9]+', '', text)\n",
    "    text = re.sub('\\W', ' ', text)\n",
    "    #text = re.sub(r'\\d+', ' ', text)\n",
    "    text = re.sub('\\s+', ' ', text)\n",
    "    text = re.sub(r\"\\'s\", ' ', text)\n",
    "    #text = re.sub('[^A-Za-z]+', ' ', text)\n",
    "    text = re.sub(r'\\b\\w\\b', ' ', text)\n",
    "    text = text.strip()\n",
    "    text = re.sub('\\s+', ' ', text).strip()\n",
    "    text = re.sub('\\n+', ' ', text).strip()\n",
    "    text = re.sub('\\t+', ' ', text).strip()\n",
    "    \n",
    "    \n",
    "    return text.lower()\n",
    "\n"
   ]
  },
  {
   "cell_type": "code",
   "execution_count": null,
   "metadata": {
    "ExecuteTime": {
     "end_time": "2021-02-07T20:39:21.738158Z",
     "start_time": "2021-02-07T20:38:12.022115Z"
    },
    "colab": {
     "base_uri": "https://localhost:8080/"
    },
    "id": "PQGeDwxYMfsI",
    "outputId": "96b8f835-d10e-484d-b4f4-dcfcc45d899a"
   },
   "outputs": [],
   "source": [
    "from tqdm import tqdm\n",
    "\n",
    "G=nx.Graph()\n",
    "K = 3\n",
    "\n",
    "i = 0\n",
    "nodes_labels = {}\n",
    "row_ids = {}\n",
    "id_rows = {}\n",
    "\n",
    "for movie in tqdm(movies_dic, position=0):\n",
    "    i+=1\n",
    "    row_name = str('RW'+str(i))\n",
    "    G.add_node(row_name , label= row_name, type='Row')\n",
    "    row_ids[row_name] = movie\n",
    "    id_rows[movie] = row_name\n",
    "    j=0\n",
    "    for cl in movies_dic[movie]:\n",
    "        j+=1\n",
    "        col_name = str('CL'+str(j))\n",
    "        if cl == '': continue\n",
    "        if not G.has_node(col_name):     G.add_node(col_name , label= col_name, type='Column')\n",
    "        n_grams = [gr.replace(' ','_') for gr in find_all_n_grams(str(cl),K)]\n",
    "        for tg in n_grams:\n",
    "            G.add_node(tg,label=tg, type='Token')\n",
    "            G.add_edge(row_name,tg)\n",
    "            G.add_edge(col_name,tg)\n",
    "            \n",
    "            \n",
    "i = 0\n",
    "review_ids = {}\n",
    "id_review = {}\n",
    "\n",
    "for row in tqdm(df.itertuples()):\n",
    "    if row.movie.lower() not in movies_dic: continue\n",
    "    i += 1\n",
    "    text = remove_stopwords(normalize_text(row.user_review.lower()))\n",
    "    review_name = str('Review'+str(i))\n",
    "    G.add_node(review_name , label= review_name, type='Review')\n",
    "    review_ids[review_name] = row.user_review\n",
    "    id_review[text] = review_name\n",
    "    \n",
    "    n_grams = [gr.replace(' ','_') for gr in find_all_n_grams(text,K)]\n",
    "\n",
    "    for tg in n_grams:\n",
    "        if not G.has_node(tg):            continue\n",
    "        if not G.has_edge(review_name,tg):            G.add_edge(review_name,tg)\n",
    "    "
   ]
  },
  {
   "cell_type": "code",
   "execution_count": null,
   "metadata": {
    "ExecuteTime": {
     "end_time": "2021-02-07T20:39:22.811191Z",
     "start_time": "2021-02-07T20:39:21.739807Z"
    },
    "colab": {
     "base_uri": "https://localhost:8080/"
    },
    "id": "frJt1r-UMy8j",
    "outputId": "d5aac359-07bf-4678-946f-09aaccc3ae06"
   },
   "outputs": [],
   "source": [
    "ground_truth = {}\n",
    "for row in tqdm(df.itertuples()):\n",
    "    if row.movie.lower() not in movies_dic:         continue\n",
    "    movie_name = row.movie.lower() \n",
    "    if movie_name not in ground_truth: ground_truth[movie_name] = []\n",
    "    ground_truth[movie_name]. append(id_review[remove_stopwords(normalize_text(row.user_review.lower()))])"
   ]
  },
  {
   "cell_type": "markdown",
   "metadata": {},
   "source": [
    "# Method0: BM25"
   ]
  },
  {
   "cell_type": "code",
   "execution_count": null,
   "metadata": {},
   "outputs": [],
   "source": [
    "from gensim.summarization.bm25 import get_bm25_weights\n",
    "from gensim.summarization.bm25 import BM25"
   ]
  },
  {
   "cell_type": "code",
   "execution_count": null,
   "metadata": {},
   "outputs": [],
   "source": [
    "corpus = [rev.split() for rev in id_review]\n",
    "results = BM25(corpus)\n",
    "review_full = {}\n",
    "for r in id_review:    review_full[r] = r"
   ]
  },
  {
   "cell_type": "code",
   "execution_count": null,
   "metadata": {},
   "outputs": [],
   "source": [
    "import numpy as np\n",
    "movie_review_BM25 = {}\n",
    "for movie in tqdm(ground_truth):\n",
    "    m_id = id_rows[movie]\n",
    "    text = ''\n",
    "    try:\n",
    "        text += ' '.join(movies_dic[movie])\n",
    "    except:\n",
    "        for tt in movies_dic[movie]:         text += ' '.join([str(t) for t in tt])\n",
    "\n",
    "    #text += ' ' + movie \n",
    "    scores = results.get_scores((text).split())\n",
    "    arr = np.array(scores)\n",
    "    topK = arr.argsort()[::-1]\n",
    "    movie_review_BM25[m_id] = [(id_review[review_full[' '.join(corpus[idx])]],scores[idx]) for idx in topK]"
   ]
  },
  {
   "cell_type": "code",
   "execution_count": null,
   "metadata": {},
   "outputs": [],
   "source": [
    "for KK in [1,2,3,5,10,20,5000000]: \n",
    "    i = 0\n",
    "    precision,recall,fs = 0,0,0\n",
    "    MAP, MRR, hasP = 0,0,0\n",
    "\n",
    "    for movie in movie_review_BM25:\n",
    "        #if row_ids[movie] not in ground_truth: continue\n",
    "        i+=1\n",
    "        preds = [f for (f,j) in movie_review_BM25[movie]][0:KK]\n",
    "        golds = [f for f in ground_truth[row_ids[movie]]]\n",
    "\n",
    "        MAP += utils.MAP_K(golds,preds)\n",
    "        MRR += utils.MRR(golds,preds)\n",
    "        hasP += utils.HAS_POSITIVE(golds,preds)\n",
    "        \n",
    "    print('\\n#################### ' + str(KK) + ' ###########################\\n')\n",
    "    print('MRR:',MRR/i,'MAP:',MAP/i, 'HAS POSITIVE:', hasP/i)"
   ]
  },
  {
   "cell_type": "markdown",
   "metadata": {
    "id": "7_MO08_KiAOb"
   },
   "source": [
    "# Method1: Unsupervised SentenceBERT"
   ]
  },
  {
   "cell_type": "code",
   "execution_count": null,
   "metadata": {
    "ExecuteTime": {
     "end_time": "2021-02-07T20:39:22.818494Z",
     "start_time": "2021-02-07T20:39:22.813074Z"
    },
    "id": "ySrle-8IRu4D"
   },
   "outputs": [],
   "source": [
    "########################## METRICS\n",
    "\n",
    "def HAS_POSITIVE(actual,preds):\n",
    "    for i in range(0,len(preds)):\n",
    "        if preds[i] in actual:\n",
    "            return 1\n",
    "    return 0\n",
    "\n",
    "def MRR(actual,preds):\n",
    "    for i in range(0,len(preds)):\n",
    "        if preds[i] in actual:\n",
    "            return 1/(i+1)\n",
    "    return 0\n",
    "\n",
    "\n",
    "def MAP_K(actual,preds):\n",
    "    precision = 0\n",
    "    hit = 0\n",
    "    for i in range(0,len(preds)):\n",
    "        if preds[i] in actual:\n",
    "            hit += 1\n",
    "            precision += hit/(i+1)\n",
    "    return precision/len(actual)    \n"
   ]
  },
  {
   "cell_type": "code",
   "execution_count": null,
   "metadata": {
    "ExecuteTime": {
     "end_time": "2021-02-07T20:39:23.102273Z",
     "start_time": "2021-02-07T20:39:22.819929Z"
    },
    "id": "itxiXUgAbOJs"
   },
   "outputs": [],
   "source": [
    "from gensim.parsing.preprocessing import remove_stopwords\n",
    "\n",
    "vocabs = set()\n",
    "for node in G.nodes():\n",
    "    if G.nodes()[node]['type'] == 'Token':\n",
    "        if len(node.split('_')) == 1: vocabs.add(node)\n",
    "\n",
    "def return_filtered(text):\n",
    "    text = remove_stopwords(normalize_text(text))\n",
    "    t = ''\n",
    "    for token in word_tokenize(text):\n",
    "        if token in vocabs: t += token + ' '\n",
    "    return t   "
   ]
  },
  {
   "cell_type": "code",
   "execution_count": null,
   "metadata": {
    "ExecuteTime": {
     "end_time": "2021-02-07T20:39:24.490710Z",
     "start_time": "2021-02-07T20:39:23.103737Z"
    },
    "id": "fr3LfheWpA2c"
   },
   "outputs": [],
   "source": [
    "from sentence_transformers import SentenceTransformer"
   ]
  },
  {
   "cell_type": "code",
   "execution_count": null,
   "metadata": {
    "ExecuteTime": {
     "end_time": "2021-02-08T10:28:31.179851Z",
     "start_time": "2021-02-08T10:28:25.847685Z"
    },
    "colab": {
     "base_uri": "https://localhost:8080/"
    },
    "id": "O30uNlqipCSq",
    "outputId": "7ea7002a-19f6-43e5-b520-f448e7c56339"
   },
   "outputs": [],
   "source": [
    "model = SentenceTransformer('bert-large-nli-stsb-mean-tokens')"
   ]
  },
  {
   "cell_type": "code",
   "execution_count": null,
   "metadata": {
    "ExecuteTime": {
     "end_time": "2021-02-07T20:52:50.618781Z",
     "start_time": "2021-02-07T20:39:34.231743Z"
    },
    "colab": {
     "base_uri": "https://localhost:8080/",
     "height": 389,
     "referenced_widgets": [
      "961c3760dacd4349959baf57e8efcb47",
      "a3dde83b2b014389b739ed778a22c4cb",
      "c211f16d894248259089d40a439d09d5",
      "3a37344e59e84bd2aa0adcd3ed13f86e",
      "7b0e70248e194cc0810dd4309e211431",
      "e4ad96c32ab949ca81776efd3ff9909a",
      "0df3873ae2794cedb58e10d7fcf1322f",
      "5d08a9c1704d404895f790550bdb1307"
     ]
    },
    "id": "-Kyvdth_WJmb",
    "outputId": "ee686abf-d37c-4e20-b9df-17fd8d280f78"
   },
   "outputs": [],
   "source": [
    "from tqdm import tqdm\n",
    "from sklearn.metrics.pairwise import cosine_similarity\n",
    "review_embs_f = model.encode([return_filtered(rev) for rev in id_review],show_progress_bar=True)"
   ]
  },
  {
   "cell_type": "code",
   "execution_count": null,
   "metadata": {
    "ExecuteTime": {
     "end_time": "2021-02-06T16:31:17.078494Z",
     "start_time": "2021-02-06T16:31:16.222514Z"
    },
    "colab": {
     "base_uri": "https://localhost:8080/"
    },
    "id": "lH7hck3Ql3Bk",
    "outputId": "9483ffba-1e4e-4322-b1b3-85b1cf399dc8"
   },
   "outputs": [],
   "source": [
    "special_tokens_dict = {'additional_special_tokens': ['[COL]','[VAL]']}\n",
    "\n",
    "word_embedding_model = model._first_module()   #Your models.Transformer object\n",
    "word_embedding_model.tokenizer.add_special_tokens(special_tokens_dict)\n",
    "word_embedding_model.auto_model.resize_token_embeddings(len(word_embedding_model.tokenizer))"
   ]
  },
  {
   "cell_type": "code",
   "execution_count": null,
   "metadata": {
    "ExecuteTime": {
     "end_time": "2021-02-08T11:05:18.052832Z",
     "start_time": "2021-02-08T10:57:08.672981Z"
    },
    "colab": {
     "base_uri": "https://localhost:8080/"
    },
    "id": "SdV18qpcpfJa",
    "outputId": "18a931b9-d581-488c-8006-f46167a416c8"
   },
   "outputs": [],
   "source": [
    "import time\n",
    "st = time.time()\n",
    "pred_reviews = {}\n",
    "\n",
    "\n",
    "for movie in tqdm(ground_truth,position=0):\n",
    "  text = '[COL] title [VAL] ' + movie + ' '\n",
    "  for c in range(0,len(movies_dic[movie])):\n",
    "    text += ' [COL] ' + str(cols[c]) + ' [VAL] ' + str(movies_dic[movie][c])\n",
    "\n",
    "#  text = ' '.join([str(m) for m in movies_dic[movie]])\n",
    "#  text += ' ' + movie\n",
    "\n",
    "  m_emb = model.encode(return_filtered(text))\n",
    "  \n",
    "  temp = []\n",
    "  for rv in range(0,len(review_ids)):\n",
    "    temp.append(([r for r in review_ids.keys()][rv],cosine_similarity(m_emb.reshape(1, -1),review_embs_f[rv].reshape(1, -1))[0][0]))\n",
    "  pred_reviews[movie] = sorted(temp,key=lambda dist:dist[1],reverse=True)\n",
    "  \n",
    "#print(time.time()-st)"
   ]
  },
  {
   "cell_type": "code",
   "execution_count": null,
   "metadata": {
    "ExecuteTime": {
     "end_time": "2021-02-08T11:06:29.137024Z",
     "start_time": "2021-02-08T11:06:28.228167Z"
    },
    "colab": {
     "base_uri": "https://localhost:8080/"
    },
    "id": "48isJH_uRceX",
    "outputId": "f701dacf-e814-4b0b-8df0-c4bb638b2dca"
   },
   "outputs": [],
   "source": [
    "for KK in [1,2,3,5,10,20,50,5000]: \n",
    "    i = 0\n",
    "    precision,recall,fs = 0,0,0\n",
    "    MAP, MR, hasP = 0,0,0\n",
    "\n",
    "    for movie in pred_reviews:\n",
    "        if movie not in ground_truth: continue\n",
    "        i+=1\n",
    "        preds = [f for (f,j) in pred_reviews[movie]][0:KK]\n",
    "        golds = [f for f in ground_truth[movie]]\n",
    "\n",
    "        MAP += MAP_K(golds,preds)\n",
    "        MR += MRR(golds,preds)\n",
    "        hasP += HAS_POSITIVE(golds,preds)\n",
    "        \n",
    "    print('\\n#################### ' + str(KK) + ' ###########################\\n')\n",
    "    print('MRR:',MR/i,'MAP:',MAP/i, 'HAS POSITIVE:', hasP/i)"
   ]
  },
  {
   "cell_type": "markdown",
   "metadata": {
    "id": "Mx7qwG7xpfmY"
   },
   "source": [
    "# Method2: Supervised SentenceBERT"
   ]
  },
  {
   "cell_type": "code",
   "execution_count": null,
   "metadata": {
    "ExecuteTime": {
     "end_time": "2021-02-07T21:56:26.723313Z",
     "start_time": "2021-02-07T21:56:26.721121Z"
    },
    "id": "WIsht5-vwosV"
   },
   "outputs": [],
   "source": [
    "from sentence_transformers import SentenceTransformer\n",
    "SBmodel = SentenceTransformer('bert-large-nli-stsb-mean-tokens')"
   ]
  },
  {
   "cell_type": "code",
   "execution_count": null,
   "metadata": {
    "ExecuteTime": {
     "end_time": "2021-02-07T21:56:35.471892Z",
     "start_time": "2021-02-07T21:56:35.410610Z"
    },
    "id": "ovlInpZinkG9"
   },
   "outputs": [],
   "source": [
    "from numpy import loadtxt\n",
    "from keras.models import Sequential\n",
    "from keras.layers import Dense"
   ]
  },
  {
   "cell_type": "code",
   "execution_count": null,
   "metadata": {
    "ExecuteTime": {
     "end_time": "2021-02-07T21:56:35.623837Z",
     "start_time": "2021-02-07T21:56:35.619792Z"
    },
    "id": "j9Tc9pVSrov5"
   },
   "outputs": [],
   "source": [
    "from tqdm import tqdm\n",
    "from sklearn.metrics.pairwise import cosine_similarity"
   ]
  },
  {
   "cell_type": "code",
   "execution_count": null,
   "metadata": {
    "ExecuteTime": {
     "end_time": "2021-02-07T22:07:49.451783Z",
     "start_time": "2021-02-07T21:57:11.346644Z"
    },
    "colab": {
     "base_uri": "https://localhost:8080/"
    },
    "id": "ao6Jk6oEsK_m",
    "outputId": "33cd9eef-8373-46aa-db44-d77c893d6ff6"
   },
   "outputs": [],
   "source": [
    "st = time.time()\n",
    "movie_review_score = []\n",
    "review_embs = model.encode([rev for rev in id_review])\n",
    "for movie in tqdm(ground_truth,position=0):\n",
    "\n",
    "  text = '[COL] title [VAL] ' + movie + ' '\n",
    "  for c in range(0,len(movies_dic[movie])):\n",
    "    text += ' [COL] ' + str(cols[c]) + ' [VAL] ' + str(movies_dic[movie][c])\n",
    "#  text = ' '.join([str(m) for m in movies_dic[movie]])\n",
    "#  text += ' ' + movie\n",
    "    \n",
    "  m_emb = SBmodel.encode(text)\n",
    "    \n",
    "  for review in range(0,len(id_review)):\n",
    "    temp = []\n",
    "    review_emb = review_embs[review]\n",
    "    temp.append(cosine_similarity(m_emb.reshape(1, -1),review_embs[review].reshape(1, -1))[0][0])\n",
    "      \n",
    "    if id_review[[r for r in id_review.keys()][review]] in ground_truth[movie]: temp.append(1)\n",
    "    else: temp.append(0)\n",
    "    movie_review_score.append(temp)\n",
    "\n",
    "  time.time()-st"
   ]
  },
  {
   "cell_type": "code",
   "execution_count": null,
   "metadata": {
    "ExecuteTime": {
     "end_time": "2021-02-07T22:09:41.863796Z",
     "start_time": "2021-02-07T22:09:41.317867Z"
    },
    "id": "3IGZ3HOqvh7_"
   },
   "outputs": [],
   "source": [
    "import numpy as np\n",
    "\n",
    "dataset = np.array(movie_review_score)\n",
    "X = dataset[:,0:1]\n",
    "y = dataset[:,1]"
   ]
  },
  {
   "cell_type": "code",
   "execution_count": null,
   "metadata": {
    "ExecuteTime": {
     "end_time": "2021-02-07T22:09:42.902563Z",
     "start_time": "2021-02-07T22:09:42.808377Z"
    },
    "id": "BmM9G3tCvk9k"
   },
   "outputs": [],
   "source": [
    "import keras\n",
    "from keras import losses,optimizers\n",
    "\n",
    "model = Sequential()\n",
    "model.add(Dense(20, input_dim=1, activation='relu'))\n",
    "model.add(Dense(10, activation='relu'))\n",
    "model.add(Dense(1, activation='sigmoid'))\n",
    "model.compile(loss=keras.losses.binary_crossentropy, optimizer=keras.optimizers.Adam(lr=1e-3), metrics=['accuracy'])"
   ]
  },
  {
   "cell_type": "code",
   "execution_count": null,
   "metadata": {
    "ExecuteTime": {
     "end_time": "2021-02-07T22:15:02.495296Z",
     "start_time": "2021-02-07T22:09:45.009745Z"
    },
    "colab": {
     "base_uri": "https://localhost:8080/"
    },
    "id": "BebLkAxdvp1F",
    "outputId": "85224dff-7c76-4454-f3be-8c16e3f65ad2",
    "scrolled": true
   },
   "outputs": [],
   "source": [
    "st = time.time()\n",
    "class_weight = {0: 1.,1: 50.}\n",
    "\n",
    "model.fit(X, y, epochs=150, batch_size=2048,class_weight=class_weight)\n",
    "print(time.time()-st)"
   ]
  },
  {
   "cell_type": "code",
   "execution_count": null,
   "metadata": {
    "ExecuteTime": {
     "end_time": "2021-02-07T23:03:19.777697Z",
     "start_time": "2021-02-07T22:50:22.056341Z"
    },
    "colab": {
     "base_uri": "https://localhost:8080/"
    },
    "id": "W7kl3keKvsWg",
    "outputId": "e0902912-cf88-4843-ada7-ff4cf9dabdf4"
   },
   "outputs": [],
   "source": [
    "movie_predictions = {}\n",
    "st = time.time()\n",
    "\n",
    "for movie in tqdm(ground_truth,position=0):\n",
    "    \n",
    "\n",
    "  text = '[COL] title [VAL] ' + movie + ' '\n",
    "  for c in range(0,len(movies_dic[movie])):\n",
    "    text += ' [COL] ' + str(cols[c]) + ' [VAL] ' + str(movies_dic[movie][c])\n",
    "\n",
    "  #text = ' '.join([str(m) for m in movies_dic[movie]])\n",
    "  #text += ' ' + movie\n",
    "    \n",
    "  m_emb = SBmodel.encode(text)\n",
    "\n",
    "  seen = []\n",
    "  data,scores = [],[]\n",
    "\n",
    "  for review in range(0,len(id_review)):\n",
    "    seen.append(id_review[[r for r in id_review.keys()][review]])\n",
    "    data.append(cosine_similarity(m_emb.reshape(1, -1),review_embs[review].reshape(1, -1))[0][0])\n",
    "\n",
    "  res = model.predict(np.array(data))\n",
    "        \n",
    "  for i in range(0,len(res)):\n",
    "      scores.append((seen[i],res[i][0]))\n",
    "        \n",
    "  movie_predictions[movie] = sorted(scores, key=lambda dist: dist[1],reverse = True)"
   ]
  },
  {
   "cell_type": "code",
   "execution_count": null,
   "metadata": {
    "ExecuteTime": {
     "end_time": "2021-02-07T22:50:19.071552Z",
     "start_time": "2021-02-07T22:50:18.022727Z"
    },
    "colab": {
     "base_uri": "https://localhost:8080/",
     "height": 561
    },
    "id": "pf2zTwg7BuaF",
    "outputId": "b94015eb-e002-48b7-acbc-da0e00a41772"
   },
   "outputs": [],
   "source": [
    "for KK in [1,2,3,5,10,20,50,50000]: \n",
    "    i = 0\n",
    "    precision,recall,fs = 0,0,0\n",
    "    MAP, MR, hasP = 0,0,0\n",
    "\n",
    "    for movie in movie_predictions:\n",
    "        if movie not in ground_truth: continue\n",
    "        i+=1\n",
    "        preds = [f for (f,j) in movie_predictions[movie]][0:KK]\n",
    "        golds = [f for f in ground_truth[movie]]\n",
    "\n",
    "        MAP += MAP_K(golds,preds)\n",
    "        MR += MRR(golds,preds)\n",
    "        hasP += HAS_POSITIVE(golds,preds)\n",
    "        \n",
    "    print('\\n#################### ' + str(KK) + ' ###########################\\n')\n",
    "    print('MRR:',MR/i,'MAP:',MAP/i, 'HAS POSITIVE:', hasP/i)"
   ]
  },
  {
   "cell_type": "markdown",
   "metadata": {
    "id": "Mx7qwG7xpfmY"
   },
   "source": [
    "# Method3: Supervised SentenceBERT - n_sentence"
   ]
  },
  {
   "cell_type": "code",
   "execution_count": null,
   "metadata": {
    "ExecuteTime": {
     "end_time": "2021-02-06T16:31:21.249064Z",
     "start_time": "2021-02-06T16:31:21.243079Z"
    },
    "id": "WIsht5-vwosV"
   },
   "outputs": [],
   "source": [
    "from sentence_transformers import SentenceTransformer\n",
    "SBmodel = SentenceTransformer('bert-large-nli-stsb-mean-tokens')"
   ]
  },
  {
   "cell_type": "code",
   "execution_count": null,
   "metadata": {
    "ExecuteTime": {
     "end_time": "2021-02-06T19:28:37.207446Z",
     "start_time": "2021-02-06T19:28:37.201184Z"
    },
    "id": "ovlInpZinkG9"
   },
   "outputs": [],
   "source": [
    "from numpy import loadtxt\n",
    "from keras.models import Sequential\n",
    "from keras.layers import Dense"
   ]
  },
  {
   "cell_type": "code",
   "execution_count": null,
   "metadata": {
    "ExecuteTime": {
     "end_time": "2021-02-06T19:28:39.177543Z",
     "start_time": "2021-02-06T19:28:39.174951Z"
    },
    "id": "j9Tc9pVSrov5"
   },
   "outputs": [],
   "source": [
    "from tqdm import tqdm\n",
    "from sklearn.metrics.pairwise import cosine_similarity"
   ]
  },
  {
   "cell_type": "code",
   "execution_count": null,
   "metadata": {
    "ExecuteTime": {
     "end_time": "2021-02-07T23:53:47.406564Z",
     "start_time": "2021-02-07T23:03:41.253684Z"
    }
   },
   "outputs": [],
   "source": [
    "review_embeds = {}\n",
    "review_embeds_sent = {}\n",
    "for rv in tqdm(id_review,position=0):\n",
    "    review_embeds [rv] = SBmodel.encode(rv)\n",
    "    review_embeds_sent [rv] = []\n",
    "    \n",
    "    sents = nltk.tokenize.sent_tokenize(rv)\n",
    "    for s in sents:\n",
    "        review_embeds_sent[rv].append(SBmodel.encode(s))\n"
   ]
  },
  {
   "cell_type": "code",
   "execution_count": null,
   "metadata": {
    "ExecuteTime": {
     "end_time": "2021-02-08T00:13:11.360085Z",
     "start_time": "2021-02-07T23:53:47.411245Z"
    },
    "colab": {
     "base_uri": "https://localhost:8080/"
    },
    "id": "ao6Jk6oEsK_m",
    "outputId": "33cd9eef-8373-46aa-db44-d77c893d6ff6",
    "scrolled": true
   },
   "outputs": [],
   "source": [
    "K = 5\n",
    "movie_review_score = []\n",
    "for movie in tqdm(ground_truth,position=0):\n",
    "  text = '[COL] title [VAL] ' + movie + ' '\n",
    "  for c in range(0,len(movies_dic[movie])):\n",
    "    text += ' [COL] ' + str(cols[c]) + ' [VAL] ' + str(movies_dic[movie][c])\n",
    "\n",
    "  #text = ' '.join([str(m) for m in movies_dic[movie]])\n",
    "  #text += ' ' + movie\n",
    "    \n",
    "  m_emb = SBmodel.encode(text)\n",
    "    \n",
    "  for review in id_review:\n",
    "    temp = []\n",
    "    for sent in review_embeds_sent[review]:\n",
    "        temp.append(cosine_similarity(m_emb.reshape(1, -1),sent.reshape(1, -1))[0][0])\n",
    "    temp = sorted(temp,reverse=True)[0:3]\n",
    "    temp.append(cosine_similarity(m_emb.reshape(1, -1),review_embeds[review].reshape(1, -1))[0][0])\n",
    "    \n",
    "    while len(temp) < K:\n",
    "        temp.append(0)\n",
    "        \n",
    "    if id_review[review] in ground_truth[movie]: temp.append(1)\n",
    "    else: temp.append(0)\n",
    "        \n",
    "    movie_review_score.append(temp)\n",
    "\n"
   ]
  },
  {
   "cell_type": "code",
   "execution_count": null,
   "metadata": {
    "ExecuteTime": {
     "end_time": "2021-02-08T00:13:12.706105Z",
     "start_time": "2021-02-08T00:13:11.363506Z"
    },
    "id": "3IGZ3HOqvh7_"
   },
   "outputs": [],
   "source": [
    "import numpy as np\n",
    "\n",
    "dataset = np.array(movie_review_score)\n",
    "X = dataset[:,0:4]\n",
    "y = dataset[:,5]"
   ]
  },
  {
   "cell_type": "code",
   "execution_count": null,
   "metadata": {
    "ExecuteTime": {
     "end_time": "2021-02-08T00:13:12.836901Z",
     "start_time": "2021-02-08T00:13:12.733318Z"
    },
    "id": "BmM9G3tCvk9k"
   },
   "outputs": [],
   "source": [
    "import keras\n",
    "from keras import losses,optimizers\n",
    "\n",
    "model = Sequential()\n",
    "model.add(Dense(20, input_dim=4, activation='relu'))\n",
    "model.add(Dense(10, activation='relu'))\n",
    "model.add(Dense(1, activation='sigmoid'))\n",
    "model.compile(loss=keras.losses.binary_crossentropy, optimizer=keras.optimizers.Adam(lr=1e-3), metrics=['accuracy'])"
   ]
  },
  {
   "cell_type": "code",
   "execution_count": null,
   "metadata": {
    "ExecuteTime": {
     "end_time": "2021-02-08T00:19:13.510098Z",
     "start_time": "2021-02-08T00:13:12.839120Z"
    },
    "colab": {
     "base_uri": "https://localhost:8080/"
    },
    "id": "BebLkAxdvp1F",
    "outputId": "85224dff-7c76-4454-f3be-8c16e3f65ad2",
    "scrolled": true
   },
   "outputs": [],
   "source": [
    "st = time.time()\n",
    "class_weight = {0: 1.,1: 50.}\n",
    "\n",
    "model.fit(X, y, epochs=150, batch_size=2048,class_weight=class_weight)\n",
    "print(time.time()-st)"
   ]
  },
  {
   "cell_type": "code",
   "execution_count": null,
   "metadata": {
    "ExecuteTime": {
     "end_time": "2021-02-08T01:05:19.400803Z",
     "start_time": "2021-02-08T00:46:11.552297Z"
    },
    "colab": {
     "base_uri": "https://localhost:8080/"
    },
    "id": "W7kl3keKvsWg",
    "outputId": "e0902912-cf88-4843-ada7-ff4cf9dabdf4"
   },
   "outputs": [],
   "source": [
    "movie_predictions = {}\n",
    "\n",
    "movie_review_score = []\n",
    "for movie in tqdm(ground_truth,position=0):\n",
    "  text = '[COL] title [VAL] ' + movie + ' '\n",
    "  for c in range(0,len(movies_dic[movie])):\n",
    "    text += ' [COL] ' + str(cols[c]) + ' [VAL] ' + str(movies_dic[movie][c])\n",
    "\n",
    "  #text = ' '.join([str(m) for m in movies_dic[movie]])\n",
    "  #text += ' ' + movie\n",
    "    \n",
    "  m_emb = SBmodel.encode(text)\n",
    "\n",
    "  seen = []\n",
    "  data,scores = [],[]\n",
    "\n",
    "  for review in id_review:\n",
    "    seen.append(id_review[review])\n",
    "\n",
    "    temp = []\n",
    "    for sent in review_embeds_sent[review]:\n",
    "        temp.append(cosine_similarity(m_emb.reshape(1, -1),sent.reshape(1, -1))[0][0])\n",
    "    temp = sorted(temp,reverse=True)[0:3]\n",
    "    temp.append(cosine_similarity(m_emb.reshape(1, -1),review_embeds[review].reshape(1, -1))[0][0])\n",
    "    \n",
    "    while len(temp) < K-1:\n",
    "        temp.append(0)\n",
    "\n",
    "    \n",
    "    data.append(temp)\n",
    "\n",
    "  res = model.predict(np.array(data))\n",
    "        \n",
    "  for i in range(0,len(res)):\n",
    "      scores.append((seen[i],res[i][0]))\n",
    "        \n",
    "  movie_predictions[movie] = sorted(scores, key=lambda dist: dist[1],reverse = True)"
   ]
  },
  {
   "cell_type": "code",
   "execution_count": null,
   "metadata": {
    "ExecuteTime": {
     "end_time": "2021-02-08T00:45:56.334001Z",
     "start_time": "2021-02-08T00:45:55.196155Z"
    },
    "colab": {
     "base_uri": "https://localhost:8080/",
     "height": 561
    },
    "id": "pf2zTwg7BuaF",
    "outputId": "b94015eb-e002-48b7-acbc-da0e00a41772"
   },
   "outputs": [],
   "source": [
    "for KK in [1,2,3,5,10,20,50,50000]: \n",
    "    i = 0\n",
    "    precision,recall,fs = 0,0,0\n",
    "    MAP, MR, hasP = 0,0,0\n",
    "\n",
    "    for movie in movie_predictions:\n",
    "        if movie not in ground_truth: continue\n",
    "        i+=1\n",
    "        preds = [f for (f,j) in movie_predictions[movie]][0:KK]\n",
    "        golds = [f for f in ground_truth[movie]]\n",
    "\n",
    "        MAP += MAP_K(golds,preds)\n",
    "        MR += MRR(golds,preds)\n",
    "        hasP += HAS_POSITIVE(golds,preds)\n",
    "        \n",
    "    print('\\n#################### ' + str(KK) + ' ###########################\\n')\n",
    "    print('MRR:',MR/i,'MAP:',MAP/i, 'HAS POSITIVE:', hasP/i)"
   ]
  },
  {
   "cell_type": "markdown",
   "metadata": {
    "id": "5yq3mJjHbMwY"
   },
   "source": [
    "# Method4: Reranking"
   ]
  },
  {
   "cell_type": "code",
   "execution_count": null,
   "metadata": {
    "ExecuteTime": {
     "end_time": "2021-02-08T21:34:16.980085Z",
     "start_time": "2021-02-08T21:34:16.904857Z"
    },
    "id": "NJ9EoM6O7m3B"
   },
   "outputs": [],
   "source": [
    "import dlib"
   ]
  },
  {
   "cell_type": "code",
   "execution_count": null,
   "metadata": {
    "ExecuteTime": {
     "end_time": "2021-02-08T22:00:43.815315Z",
     "start_time": "2021-02-08T22:00:43.183850Z"
    },
    "id": "p29YtWmiCcRf"
   },
   "outputs": [],
   "source": [
    "movie_predictions_SB = movie_predictions\n",
    "movie_review_BM25 = movie_review_BM25"
   ]
  },
  {
   "cell_type": "code",
   "execution_count": null,
   "metadata": {
    "ExecuteTime": {
     "end_time": "2021-02-08T22:00:47.764993Z",
     "start_time": "2021-02-08T22:00:47.758057Z"
    },
    "id": "qMDRtZE772Iv"
   },
   "outputs": [],
   "source": [
    "data = dlib.ranking_pair()"
   ]
  },
  {
   "cell_type": "code",
   "execution_count": null,
   "metadata": {
    "ExecuteTime": {
     "end_time": "2021-02-08T22:11:46.003980Z",
     "start_time": "2021-02-08T22:00:48.119316Z"
    },
    "colab": {
     "base_uri": "https://localhost:8080/"
    },
    "id": "aulyl4NUfTEn",
    "outputId": "86f2c089-38f3-4d0c-fa4f-080064a29b84"
   },
   "outputs": [],
   "source": [
    "st = time.time()\n",
    "for movie in tqdm(movies_dic,position=0):\n",
    "    if movie not in movie_predictions_SB or id_rows[movie] not in movie_review_BM25: continue\n",
    "\n",
    "    m_BM = [i for (i,j) in movie_review_BM25[ id_rows[movie]]]\n",
    "    m_SB = [i for (i,j) in movie_predictions_SB[movie]]\n",
    "    \n",
    "    \n",
    "    for r in review_ids:\n",
    "        if r in ground_truth[movie]: \n",
    "            data.relevant.append(dlib.vector([m_BM.index(r)+1, m_SB.index(r)+1]))\n",
    "        else:  data.nonrelevant.append(dlib.vector([m_BM.index(r)+1, m_SB.index(r)+1]))\n",
    "\n",
    "trainer = dlib.svm_rank_trainer()\n",
    "trainer.c = 1000\n",
    "\n",
    "rank = trainer.train(data)\n",
    "print(time.time()-st)"
   ]
  },
  {
   "cell_type": "code",
   "execution_count": null,
   "metadata": {
    "ExecuteTime": {
     "end_time": "2021-02-08T22:12:29.161487Z",
     "start_time": "2021-02-08T22:11:46.005839Z"
    },
    "colab": {
     "base_uri": "https://localhost:8080/"
    },
    "id": "Xi8ODnnUh2yX",
    "outputId": "bed480f6-c45d-40ce-d557-42f7589b4c4a"
   },
   "outputs": [],
   "source": [
    "st = time.time()\n",
    "i=0\n",
    "rerank_imdb = {}\n",
    "\n",
    "for movie in tqdm(movies_dic,position=0):\n",
    "    if movie not in movie_predictions or id_rows[movie] not in movie_review_BM25: continue\n",
    "    i+=1\n",
    "\n",
    "    m_BM = [i for (i,j) in movie_review_BM25[ id_rows[movie]]]\n",
    "    m_SB = [i for (i,j) in movie_predictions_SB[movie]]\n",
    "\n",
    "    temp = []\n",
    "    for r in review_ids:\n",
    "        temp.append((r,rank(dlib.vector([m_BM.index(r)+1, m_SB.index(r)+1]))))\n",
    "    temp = sorted(temp, key=lambda dist: dist[1],reverse = True)\n",
    "    rerank_imdb[movie] = temp\n",
    "print((time.time()-st)/i)"
   ]
  },
  {
   "cell_type": "code",
   "execution_count": null,
   "metadata": {
    "ExecuteTime": {
     "end_time": "2021-02-08T22:12:39.147485Z",
     "start_time": "2021-02-08T22:12:38.009793Z"
    },
    "colab": {
     "base_uri": "https://localhost:8080/",
     "height": 697
    },
    "id": "UAoA5hflvs78",
    "outputId": "7293ee00-40f9-4fbc-da7d-188abc64aa47"
   },
   "outputs": [],
   "source": [
    "for KK in [1,2,3,5,10,20,50,50000]: \n",
    "    i = 0\n",
    "    precision,recall,fs = 0,0,0\n",
    "    MAP, MR, hasP = 0,0,0\n",
    "\n",
    "    for movie in rerank_imdb:\n",
    "        if movie not in ground_truth: continue\n",
    "        i+=1\n",
    "        preds = [f for (f,j) in rerank_imdb[movie]][0:KK]\n",
    "        golds = [f for f in ground_truth[movie]]\n",
    "\n",
    "        MAP += MAP_K(golds,preds)\n",
    "        MR += MRR(golds,preds)\n",
    "        hasP += HAS_POSITIVE(golds,preds)\n",
    "        \n",
    "    print('\\n#################### ' + str(KK) + ' ###########################\\n')\n",
    "    print('MRR:',MR/i,'MAP:',MAP/i, 'HAS POSITIVE:', hasP/i)"
   ]
  },
  {
   "cell_type": "markdown",
   "metadata": {
    "ExecuteTime": {
     "end_time": "2021-02-08T23:21:47.348172Z",
     "start_time": "2021-02-08T23:21:47.343626Z"
    }
   },
   "source": [
    "# Method5: Doc2Vec"
   ]
  },
  {
   "cell_type": "code",
   "execution_count": null,
   "metadata": {},
   "outputs": [],
   "source": [
    "from gensim.models.doc2vec import Doc2Vec, TaggedDocument"
   ]
  },
  {
   "cell_type": "code",
   "execution_count": null,
   "metadata": {},
   "outputs": [],
   "source": [
    "data = []\n",
    "for movie in movies_dic:\n",
    "    text = ' '.join(movies_dic[movie])\n",
    "    text += ' ' + movie\n",
    "    data.append(text)\n",
    "\n",
    "for review in id_review:    data.append((review))\n",
    "    \n",
    "tagged_data = [TaggedDocument(words=word_tokenize(_d), tags=[str(i)]) for i, _d in enumerate(data)]"
   ]
  },
  {
   "cell_type": "code",
   "execution_count": null,
   "metadata": {},
   "outputs": [],
   "source": [
    "%env PYTHONHASHSEED=0\n",
    "max_epochs = 10\n",
    "vec_size = 300\n",
    "\n",
    "model = Doc2Vec(size=vec_size, min_count=10, dm =0, workers=1, window=4,seed=0, epochs=max_epochs\n",
    "\n",
    "model.build_vocab(tagged_data)\n",
    "\n",
    "model.train(tagged_data, total_examples=model.corpus_count,epochs=model.epochs)\n",
    "\n",
    "\n",
    "print(\"Model Saved\")"
   ]
  },
  {
   "cell_type": "code",
   "execution_count": null,
   "metadata": {},
   "outputs": [],
   "source": [
    "import numpy as np\n",
    "movie_review_d2v = {}\n",
    "for movie in tqdm([g for g in ground_truth]):\n",
    "    m_id = id_rows[movie]\n",
    "    text = ' '.join(movies_dic[movie])\n",
    "\n",
    "    text += ' ' + movie\n",
    "\n",
    "    movie_review_d2v[m_id] = utils.cosine_distance(model,text,[utils.normalize_text(return_filtered(r)) \n",
    "                                                               for r in id_review],500)"
   ]
  },
  {
   "cell_type": "code",
   "execution_count": null,
   "metadata": {},
   "outputs": [],
   "source": [
    "for KK in [1,2,3,5,10,20,50,500]: \n",
    "    i = 0\n",
    "    precision,recall,fs = 0,0,0\n",
    "    MAP, MRR, hasP = 0,0,0\n",
    "\n",
    "    for movie in movie_review_d2v:\n",
    "        if row_ids[movie] not in ground_truth: continue\n",
    "        \n",
    "        i+=1\n",
    "        preds = [id_review[review_full[f]] for (f,j) in movie_review_d2v[movie]][0:KK]\n",
    "        golds = [f for f in ground_truth[row_ids[movie]]]\n",
    "\n",
    "        MAP += utils.MAP_K(golds,preds)\n",
    "        MRR += utils.MRR(golds,preds)\n",
    "        hasP += utils.HAS_POSITIVE(golds,preds)\n",
    "        \n",
    "    print('\\n#################### ' + str(KK) + ' ###########################\\n')\n",
    "    print('MRR:',MRR/i,'MAP:',MAP/i, 'HAS POSITIVE:', hasP/i)"
   ]
  }
 ],
 "metadata": {
  "colab": {
   "collapsed_sections": [],
   "machine_shape": "hm",
   "name": "SentenceBERT_IMDB",
   "provenance": []
  },
  "kernelspec": {
   "display_name": "Python 3",
   "language": "python",
   "name": "python3"
  },
  "language_info": {
   "codemirror_mode": {
    "name": "ipython",
    "version": 3
   },
   "file_extension": ".py",
   "mimetype": "text/x-python",
   "name": "python",
   "nbconvert_exporter": "python",
   "pygments_lexer": "ipython3",
   "version": "3.6.8"
  },
  "widgets": {
   "application/vnd.jupyter.widget-state+json": {
    "0df3873ae2794cedb58e10d7fcf1322f": {
     "model_module": "@jupyter-widgets/controls",
     "model_name": "DescriptionStyleModel",
     "state": {
      "_model_module": "@jupyter-widgets/controls",
      "_model_module_version": "1.5.0",
      "_model_name": "DescriptionStyleModel",
      "_view_count": null,
      "_view_module": "@jupyter-widgets/base",
      "_view_module_version": "1.2.0",
      "_view_name": "StyleView",
      "description_width": ""
     }
    },
    "3a37344e59e84bd2aa0adcd3ed13f86e": {
     "model_module": "@jupyter-widgets/controls",
     "model_name": "HTMLModel",
     "state": {
      "_dom_classes": [],
      "_model_module": "@jupyter-widgets/controls",
      "_model_module_version": "1.5.0",
      "_model_name": "HTMLModel",
      "_view_count": null,
      "_view_module": "@jupyter-widgets/controls",
      "_view_module_version": "1.5.0",
      "_view_name": "HTMLView",
      "description": "",
      "description_tooltip": null,
      "layout": "IPY_MODEL_5d08a9c1704d404895f790550bdb1307",
      "placeholder": "​",
      "style": "IPY_MODEL_0df3873ae2794cedb58e10d7fcf1322f",
      "value": " 28/50 [16:18&lt;19:16, 52.59s/it]"
     }
    },
    "5d08a9c1704d404895f790550bdb1307": {
     "model_module": "@jupyter-widgets/base",
     "model_name": "LayoutModel",
     "state": {
      "_model_module": "@jupyter-widgets/base",
      "_model_module_version": "1.2.0",
      "_model_name": "LayoutModel",
      "_view_count": null,
      "_view_module": "@jupyter-widgets/base",
      "_view_module_version": "1.2.0",
      "_view_name": "LayoutView",
      "align_content": null,
      "align_items": null,
      "align_self": null,
      "border": null,
      "bottom": null,
      "display": null,
      "flex": null,
      "flex_flow": null,
      "grid_area": null,
      "grid_auto_columns": null,
      "grid_auto_flow": null,
      "grid_auto_rows": null,
      "grid_column": null,
      "grid_gap": null,
      "grid_row": null,
      "grid_template_areas": null,
      "grid_template_columns": null,
      "grid_template_rows": null,
      "height": null,
      "justify_content": null,
      "justify_items": null,
      "left": null,
      "margin": null,
      "max_height": null,
      "max_width": null,
      "min_height": null,
      "min_width": null,
      "object_fit": null,
      "object_position": null,
      "order": null,
      "overflow": null,
      "overflow_x": null,
      "overflow_y": null,
      "padding": null,
      "right": null,
      "top": null,
      "visibility": null,
      "width": null
     }
    },
    "7b0e70248e194cc0810dd4309e211431": {
     "model_module": "@jupyter-widgets/controls",
     "model_name": "ProgressStyleModel",
     "state": {
      "_model_module": "@jupyter-widgets/controls",
      "_model_module_version": "1.5.0",
      "_model_name": "ProgressStyleModel",
      "_view_count": null,
      "_view_module": "@jupyter-widgets/base",
      "_view_module_version": "1.2.0",
      "_view_name": "StyleView",
      "bar_color": null,
      "description_width": "initial"
     }
    },
    "961c3760dacd4349959baf57e8efcb47": {
     "model_module": "@jupyter-widgets/controls",
     "model_name": "HBoxModel",
     "state": {
      "_dom_classes": [],
      "_model_module": "@jupyter-widgets/controls",
      "_model_module_version": "1.5.0",
      "_model_name": "HBoxModel",
      "_view_count": null,
      "_view_module": "@jupyter-widgets/controls",
      "_view_module_version": "1.5.0",
      "_view_name": "HBoxView",
      "box_style": "",
      "children": [
       "IPY_MODEL_c211f16d894248259089d40a439d09d5",
       "IPY_MODEL_3a37344e59e84bd2aa0adcd3ed13f86e"
      ],
      "layout": "IPY_MODEL_a3dde83b2b014389b739ed778a22c4cb"
     }
    },
    "a3dde83b2b014389b739ed778a22c4cb": {
     "model_module": "@jupyter-widgets/base",
     "model_name": "LayoutModel",
     "state": {
      "_model_module": "@jupyter-widgets/base",
      "_model_module_version": "1.2.0",
      "_model_name": "LayoutModel",
      "_view_count": null,
      "_view_module": "@jupyter-widgets/base",
      "_view_module_version": "1.2.0",
      "_view_name": "LayoutView",
      "align_content": null,
      "align_items": null,
      "align_self": null,
      "border": null,
      "bottom": null,
      "display": null,
      "flex": null,
      "flex_flow": null,
      "grid_area": null,
      "grid_auto_columns": null,
      "grid_auto_flow": null,
      "grid_auto_rows": null,
      "grid_column": null,
      "grid_gap": null,
      "grid_row": null,
      "grid_template_areas": null,
      "grid_template_columns": null,
      "grid_template_rows": null,
      "height": null,
      "justify_content": null,
      "justify_items": null,
      "left": null,
      "margin": null,
      "max_height": null,
      "max_width": null,
      "min_height": null,
      "min_width": null,
      "object_fit": null,
      "object_position": null,
      "order": null,
      "overflow": null,
      "overflow_x": null,
      "overflow_y": null,
      "padding": null,
      "right": null,
      "top": null,
      "visibility": null,
      "width": null
     }
    },
    "c211f16d894248259089d40a439d09d5": {
     "model_module": "@jupyter-widgets/controls",
     "model_name": "FloatProgressModel",
     "state": {
      "_dom_classes": [],
      "_model_module": "@jupyter-widgets/controls",
      "_model_module_version": "1.5.0",
      "_model_name": "FloatProgressModel",
      "_view_count": null,
      "_view_module": "@jupyter-widgets/controls",
      "_view_module_version": "1.5.0",
      "_view_name": "ProgressView",
      "bar_style": "danger",
      "description": "Batches:  56%",
      "description_tooltip": null,
      "layout": "IPY_MODEL_e4ad96c32ab949ca81776efd3ff9909a",
      "max": 50,
      "min": 0,
      "orientation": "horizontal",
      "style": "IPY_MODEL_7b0e70248e194cc0810dd4309e211431",
      "value": 28
     }
    },
    "e4ad96c32ab949ca81776efd3ff9909a": {
     "model_module": "@jupyter-widgets/base",
     "model_name": "LayoutModel",
     "state": {
      "_model_module": "@jupyter-widgets/base",
      "_model_module_version": "1.2.0",
      "_model_name": "LayoutModel",
      "_view_count": null,
      "_view_module": "@jupyter-widgets/base",
      "_view_module_version": "1.2.0",
      "_view_name": "LayoutView",
      "align_content": null,
      "align_items": null,
      "align_self": null,
      "border": null,
      "bottom": null,
      "display": null,
      "flex": null,
      "flex_flow": null,
      "grid_area": null,
      "grid_auto_columns": null,
      "grid_auto_flow": null,
      "grid_auto_rows": null,
      "grid_column": null,
      "grid_gap": null,
      "grid_row": null,
      "grid_template_areas": null,
      "grid_template_columns": null,
      "grid_template_rows": null,
      "height": null,
      "justify_content": null,
      "justify_items": null,
      "left": null,
      "margin": null,
      "max_height": null,
      "max_width": null,
      "min_height": null,
      "min_width": null,
      "object_fit": null,
      "object_position": null,
      "order": null,
      "overflow": null,
      "overflow_x": null,
      "overflow_y": null,
      "padding": null,
      "right": null,
      "top": null,
      "visibility": null,
      "width": null
     }
    }
   }
  }
 },
 "nbformat": 4,
 "nbformat_minor": 1
}
