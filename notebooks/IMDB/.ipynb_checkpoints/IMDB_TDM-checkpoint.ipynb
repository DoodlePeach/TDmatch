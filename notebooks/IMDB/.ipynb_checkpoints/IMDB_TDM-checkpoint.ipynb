{
 "cells": [
  {
   "cell_type": "code",
   "execution_count": 2,
   "metadata": {
    "ExecuteTime": {
     "end_time": "2021-07-23T10:42:04.340218Z",
     "start_time": "2021-07-23T10:42:04.324111Z"
    }
   },
   "outputs": [],
   "source": [
    "import requests\n",
    "from bs4 import BeautifulSoup\n",
    "import re\n",
    "import pandas as pd\n",
    "import numpy as np\n",
    "import itertools\n",
    "import csv\n",
    "pd.options.display.max_colwidth=500\n",
    "from tqdm import tqdm"
   ]
  },
  {
   "cell_type": "code",
   "execution_count": 3,
   "metadata": {
    "ExecuteTime": {
     "end_time": "2021-07-23T10:42:16.477023Z",
     "start_time": "2021-07-23T10:42:14.064581Z"
    }
   },
   "outputs": [],
   "source": [
    "import sys\n",
    "sys.path.append('../')\n",
    "from utils import *\n",
    "from graphUtils import *"
   ]
  },
  {
   "cell_type": "code",
   "execution_count": 4,
   "metadata": {
    "ExecuteTime": {
     "end_time": "2021-07-23T10:42:38.287026Z",
     "start_time": "2021-07-23T10:42:38.261446Z"
    }
   },
   "outputs": [],
   "source": [
    "import pickle\n",
    "df = pickle.load(open('../../data/imdb/imdb_reviews_1000film.df','rb'))"
   ]
  },
  {
   "cell_type": "code",
   "execution_count": 5,
   "metadata": {
    "ExecuteTime": {
     "end_time": "2021-07-23T10:42:45.837912Z",
     "start_time": "2021-07-23T10:42:45.294583Z"
    }
   },
   "outputs": [],
   "source": [
    "import datetime\n",
    "\n",
    "movies_dic = {}\n",
    "with open('../../data/imdb/imdb_movielens.csv') as csv_file:\n",
    "    csv_reader = csv.reader(csv_file, delimiter=',')\n",
    "    next(csv_reader)\n",
    "    for row in csv_reader:\n",
    "        if row[12].replace('_',' ') not in movies_dic: \n",
    "            movies_dic[row[12].replace('_',' ')] = []\n",
    "            \n",
    "        temp = [r.replace('_',' ') for r in row[0:10]]\n",
    "        \n",
    "        month,year = '',''\n",
    "        if len(row[10]) > 0:        \n",
    "            month = datetime.date(1900, int(row[10][4::]), 1).strftime('%B')\n",
    "            year = row[10][0:4]\n",
    "        \n",
    "        temp.append(month.lower() + ' ' + year)\n",
    "        temp.append(int(float(row[14])))\n",
    "        \n",
    "        movies_dic[row[12].replace('_',' ')].append(temp)\n",
    "        "
   ]
  },
  {
   "cell_type": "markdown",
   "metadata": {},
   "source": [
    "# Create Graph"
   ]
  },
  {
   "cell_type": "code",
   "execution_count": 6,
   "metadata": {
    "ExecuteTime": {
     "end_time": "2021-07-23T10:43:18.468907Z",
     "start_time": "2021-07-23T10:43:18.462704Z"
    }
   },
   "outputs": [],
   "source": [
    "from gensim.parsing.preprocessing import remove_stopwords\n",
    "import nltk\n",
    "from nltk.corpus import stopwords\n",
    "stopwords = stopwords.words('english')"
   ]
  },
  {
   "cell_type": "code",
   "execution_count": 9,
   "metadata": {
    "ExecuteTime": {
     "end_time": "2021-07-23T10:46:10.035058Z",
     "start_time": "2021-07-23T10:44:08.477736Z"
    },
    "scrolled": true
   },
   "outputs": [
    {
     "name": "stderr",
     "output_type": "stream",
     "text": [
      "100%|██████████| 42206/42206 [02:01<00:00, 347.28it/s]\n"
     ]
    }
   ],
   "source": [
    "import networkx as nx\n",
    "\n",
    "G=nx.Graph()\n",
    "K = 3\n",
    "\n",
    "i = 0\n",
    "nodes_labels = {}\n",
    "row_ids = {}\n",
    "id_rows = {}\n",
    "\n",
    "for movie in tqdm(movies_dic):\n",
    "    i+=1\n",
    "    row_name = str('RW'+str(i))\n",
    "    G.add_node(row_name , label= row_name, type='Row')\n",
    "    row_ids[row_name] = movie\n",
    "    id_rows[movie] = row_name\n",
    "    j=0\n",
    "    \n",
    "    #cols = [movie]\n",
    "    cols = []\n",
    "    for c in movies_dic[movie]: \n",
    "        for cl in c:\n",
    "            cols.append(cl)\n",
    "    \n",
    "    for cl in cols:\n",
    "        j+=1\n",
    "        col_name = str('CL'+str(j))\n",
    "        if cl == '': continue\n",
    "        \n",
    "        if not G.has_node(col_name):     G.add_node(col_name , label= col_name, type='Column')\n",
    "        n_grams = [gr.replace(' ','_') for gr in find_all_n_grams(str(normalize_text(cl)),K)]\n",
    "        \n",
    "        \n",
    "        for tg in n_grams:\n",
    "            \n",
    "            if not G.has_node(tg):\n",
    "                G.add_node(tg,label=tg, type='Token')\n",
    "            G.add_edge(row_name,tg)\n",
    "            G.add_edge(col_name,tg)\n",
    "            \n",
    "            \n",
    "            "
   ]
  },
  {
   "cell_type": "code",
   "execution_count": 10,
   "metadata": {
    "ExecuteTime": {
     "end_time": "2021-07-23T10:46:16.863892Z",
     "start_time": "2021-07-23T10:46:10.036590Z"
    }
   },
   "outputs": [
    {
     "name": "stderr",
     "output_type": "stream",
     "text": [
      "2000it [00:06, 293.51it/s]\n"
     ]
    }
   ],
   "source": [
    "i = 0\n",
    "review_ids = {}\n",
    "id_review = {}\n",
    "\n",
    "for row in tqdm(df.itertuples()):\n",
    "    if row.movie.lower() not in movies_dic: continue\n",
    "    i += 1\n",
    "    text = remove_stopwords(normalize_text(row.user_review.lower()))\n",
    "    review_name = str('Review'+str(i))\n",
    "    G.add_node(review_name , label= review_name, type='Review')\n",
    "    review_ids[review_name] = row.user_review\n",
    "    id_review[text] = review_name\n",
    "    \n",
    "    n_grams = [gr.replace(' ','_') for gr in find_all_n_grams(text,K)]\n",
    "\n",
    "    for tg in n_grams:\n",
    "        \n",
    "        \n",
    "        if not G.has_node(tg):\n",
    "            continue\n",
    "           # G.add_node(tg,label=tg, type='Token')\n",
    "            \n",
    "        if not G.has_edge(review_name,tg):            G.add_edge(review_name,tg)\n",
    "    "
   ]
  },
  {
   "cell_type": "code",
   "execution_count": 11,
   "metadata": {
    "ExecuteTime": {
     "end_time": "2021-07-23T10:46:17.862981Z",
     "start_time": "2021-07-23T10:46:16.865668Z"
    },
    "scrolled": true
   },
   "outputs": [
    {
     "name": "stderr",
     "output_type": "stream",
     "text": [
      "2000it [00:00, 2017.69it/s]\n"
     ]
    }
   ],
   "source": [
    "ground_truth = {}\n",
    "for row in tqdm(df.itertuples()):\n",
    "    if row.movie.lower() not in movies_dic:         continue\n",
    "    movie_name = row.movie.lower() \n",
    "    if movie_name not in ground_truth: ground_truth[movie_name] = []\n",
    "    #if remove_stopwords(row.user_review.lower()) not in id_review: continue\n",
    "    ground_truth[movie_name]. append(id_review[remove_stopwords(normalize_text(row.user_review.lower()))])"
   ]
  },
  {
   "cell_type": "markdown",
   "metadata": {},
   "source": [
    "# Expansion with DBpedia"
   ]
  },
  {
   "cell_type": "code",
   "execution_count": null,
   "metadata": {
    "ExecuteTime": {
     "end_time": "2021-07-02T13:10:20.736280Z",
     "start_time": "2021-07-02T13:10:20.722422Z"
    }
   },
   "outputs": [],
   "source": [
    "from SPARQLWrapper import SPARQLWrapper, JSON\n",
    "\n",
    "sparql = SPARQLWrapper(\"http://dbpedia.org/sparql\")\n",
    "Q = \"\"\"\n",
    "    select distinct ?o    where {    \n",
    "    <http://dbpedia.org/resource/%s> <http://dbpedia.org/ontology/wikiPageWikiLink> ?o . }\n",
    "    \"\"\"\n",
    "\n",
    "\n",
    "def run_dbpedia(name):\n",
    "    cname = ''\n",
    "    for n in name.split('_'): cname += n.capitalize() + '_'\n",
    "        \n",
    "    cname = cname[0:-1]\n",
    "    query = Q%cname\n",
    "    \n",
    "    sparql.setQuery(query)\n",
    "    sparql.setReturnFormat(JSON)\n",
    "    results = sparql.query().convert()\n",
    "    \n",
    "    res = []\n",
    "    for result in results[\"results\"][\"bindings\"]:\n",
    "        if not '.jpg' in result[\"o\"][\"value\"] and not 'http://dbpedia.org/resource/Category:' in result[\"o\"][\"value\"]:  \n",
    "            res.append (result[\"o\"][\"value\"].split('/')[-1])\n",
    "    return res"
   ]
  },
  {
   "cell_type": "code",
   "execution_count": null,
   "metadata": {
    "ExecuteTime": {
     "end_time": "2021-07-04T11:12:07.691063Z",
     "start_time": "2021-07-02T13:10:20.738211Z"
    }
   },
   "outputs": [],
   "source": [
    "for node in tqdm(G.copy().nodes()):\n",
    "    if G.nodes()[node]['type'] != 'Token': continue\n",
    "    \n",
    "    if len(node.split('_')) < 2: continue \n",
    "    \n",
    "    if len(node.split('_'))==2 and node.split('_')[1].isdigit(): continue\n",
    "    \n",
    "    try:\n",
    "        for e in run_dbpedia(node):\n",
    "            for n in utils.normalize_text(e).split('_'):\n",
    "                if not G.has_node(n):\n",
    "                    G.add_node(n, label = n, type = 'Token')\n",
    "                    G.add_edge(node,n,type= 'dbp')\n",
    "    except:\n",
    "        continue\n",
    "        \n",
    "for n in G.copy().nodes():\n",
    "    if G.degree()[n] < 2:\n",
    "        G.remove_node(n)"
   ]
  },
  {
   "cell_type": "code",
   "execution_count": null,
   "metadata": {
    "ExecuteTime": {
     "end_time": "2021-07-04T20:21:37.517453Z",
     "start_time": "2021-07-04T20:21:29.268434Z"
    }
   },
   "outputs": [],
   "source": [
    "#nx.write_graphml(G,'data/imdb/imdb_expanded.gml')"
   ]
  },
  {
   "cell_type": "markdown",
   "metadata": {},
   "source": [
    "# Compression"
   ]
  },
  {
   "cell_type": "markdown",
   "metadata": {},
   "source": [
    "## SSuM"
   ]
  },
  {
   "cell_type": "code",
   "execution_count": null,
   "metadata": {
    "ExecuteTime": {
     "end_time": "2021-06-09T10:58:35.313545Z",
     "start_time": "2021-06-09T10:58:35.174437Z"
    }
   },
   "outputs": [],
   "source": [
    "i = 0\n",
    "node_ids = {}\n",
    "\n",
    "for n in G.nodes:\n",
    "    node_ids[n] = i\n",
    "    i+=1\n",
    "inv_nodes = {v: k for k, v in node_ids.items()}"
   ]
  },
  {
   "cell_type": "code",
   "execution_count": null,
   "metadata": {
    "ExecuteTime": {
     "end_time": "2021-06-09T11:08:08.183249Z",
     "start_time": "2021-06-09T11:08:04.745210Z"
    }
   },
   "outputs": [],
   "source": [
    "file = open('imdb_edgelist', 'w')\n",
    "\n",
    "for e in G.edges():    file.write(str(node_ids[e[0]]) + '\\t' + str(node_ids[e[1]]) + '\\n')"
   ]
  },
  {
   "cell_type": "code",
   "execution_count": null,
   "metadata": {
    "ExecuteTime": {
     "end_time": "2021-06-10T09:10:13.367711Z",
     "start_time": "2021-06-10T09:10:13.006819Z"
    }
   },
   "outputs": [],
   "source": [
    "with open('../SSumM/output/summary_imdb_edgelist_0.9.txt') as f:\n",
    "    sum_grapph = f.readlines()\n",
    "# you may also want to remove whitespace characters like `\\n` at the end of each line\n",
    "sum_grapph = [x.strip() for x in sum_grapph] "
   ]
  },
  {
   "cell_type": "code",
   "execution_count": null,
   "metadata": {
    "ExecuteTime": {
     "end_time": "2021-06-10T09:10:16.975795Z",
     "start_time": "2021-06-10T09:10:13.879581Z"
    }
   },
   "outputs": [],
   "source": [
    "super_nodes,super_edges = {},[]\n",
    "edge_weights = {}\n",
    "\n",
    "for i in range(1,sum_grapph.index('<Superedge info>')):\n",
    "    node = sum_grapph[i].split('\\t')\n",
    "    idd = node[0]\n",
    "    node = [inv_nodes[int(n)] for n in node[1::]]\n",
    "    super_nodes[idd] = node\n",
    "\n",
    "for i in range(sum_grapph.index('<Superedge info>')+1,len(sum_grapph)):\n",
    "    e = sum_grapph[i].split('\\t')\n",
    "    if e[0] not in edge_weights:        edge_weights[e[0]] = {}\n",
    "    if e[1] not in edge_weights:        edge_weights[e[1]] = {}\n",
    "        \n",
    "\n",
    "    edge_weights[e[0]][e[1]] = e[2]\n",
    "    edge_weights[e[1]][e[0]] = e[2]\n",
    "    \n",
    "    super_edges.append((e[0],e[1]))\n",
    "\n"
   ]
  },
  {
   "cell_type": "code",
   "execution_count": null,
   "metadata": {
    "ExecuteTime": {
     "end_time": "2021-06-10T09:10:27.060220Z",
     "start_time": "2021-06-10T09:10:17.945682Z"
    }
   },
   "outputs": [],
   "source": [
    "SG = nx.Graph()\n",
    "\n",
    "for node in super_nodes:\n",
    "    name = ''\n",
    "    if ' '.join(super_nodes[node]).startswith(('RW','Review','CL')):\n",
    "        name = ' '.join(super_nodes[node])\n",
    "    else:\n",
    "        name = super_nodes[node][0]\n",
    "        \n",
    "    SG.add_node(node , label= name, type='node')\n",
    "    \n",
    "for e in super_edges:\n",
    "    SG.add_edge(e[0],e[1])"
   ]
  },
  {
   "cell_type": "code",
   "execution_count": null,
   "metadata": {
    "ExecuteTime": {
     "end_time": "2021-06-10T09:10:28.578214Z",
     "start_time": "2021-06-10T09:10:28.504257Z"
    }
   },
   "outputs": [],
   "source": [
    "G = SG\n",
    "len(G.nodes()),len(G.edges())"
   ]
  },
  {
   "cell_type": "markdown",
   "metadata": {},
   "source": [
    "# MSP"
   ]
  },
  {
   "cell_type": "code",
   "execution_count": 13,
   "metadata": {
    "ExecuteTime": {
     "end_time": "2021-07-21T12:15:22.463854Z",
     "start_time": "2021-07-20T21:57:58.328524Z"
    }
   },
   "outputs": [
    {
     "name": "stderr",
     "output_type": "stream",
     "text": [
      " 63%|██████▎   | 36075/57692 [14:17:22<9:29:02,  1.58s/it] "
     ]
    },
    {
     "ename": "KeyboardInterrupt",
     "evalue": "",
     "output_type": "error",
     "traceback": [
      "\u001b[0;31m---------------------------------------------------------------------------\u001b[0m",
      "\u001b[0;31mKeyboardInterrupt\u001b[0m                         Traceback (most recent call last)",
      "\u001b[0;32m<ipython-input-13-011e059cc95e>\u001b[0m in \u001b[0;36m<module>\u001b[0;34m\u001b[0m\n\u001b[1;32m      8\u001b[0m     \u001b[0mfirst\u001b[0m \u001b[0;34m=\u001b[0m \u001b[0mchoice\u001b[0m\u001b[0;34m(\u001b[0m\u001b[0;34m[\u001b[0m\u001b[0mn\u001b[0m \u001b[0;32mfor\u001b[0m \u001b[0mn\u001b[0m \u001b[0;32min\u001b[0m \u001b[0mG\u001b[0m\u001b[0;34m.\u001b[0m\u001b[0mnodes\u001b[0m\u001b[0;34m(\u001b[0m\u001b[0;34m)\u001b[0m \u001b[0;32mif\u001b[0m \u001b[0mG\u001b[0m\u001b[0;34m.\u001b[0m\u001b[0mnodes\u001b[0m\u001b[0;34m(\u001b[0m\u001b[0;34m)\u001b[0m\u001b[0;34m[\u001b[0m\u001b[0mn\u001b[0m\u001b[0;34m]\u001b[0m\u001b[0;34m[\u001b[0m\u001b[0;34m'type'\u001b[0m\u001b[0;34m]\u001b[0m \u001b[0;34m==\u001b[0m \u001b[0;34m'Row'\u001b[0m\u001b[0;34m]\u001b[0m\u001b[0;34m)\u001b[0m\u001b[0;34m\u001b[0m\u001b[0;34m\u001b[0m\u001b[0m\n\u001b[1;32m      9\u001b[0m     \u001b[0msecond\u001b[0m \u001b[0;34m=\u001b[0m \u001b[0mchoice\u001b[0m\u001b[0;34m(\u001b[0m\u001b[0;34m[\u001b[0m\u001b[0mn\u001b[0m \u001b[0;32mfor\u001b[0m \u001b[0mn\u001b[0m \u001b[0;32min\u001b[0m \u001b[0mG\u001b[0m\u001b[0;34m.\u001b[0m\u001b[0mnodes\u001b[0m\u001b[0;34m(\u001b[0m\u001b[0;34m)\u001b[0m \u001b[0;32mif\u001b[0m \u001b[0mG\u001b[0m\u001b[0;34m.\u001b[0m\u001b[0mnodes\u001b[0m\u001b[0;34m(\u001b[0m\u001b[0;34m)\u001b[0m\u001b[0;34m[\u001b[0m\u001b[0mn\u001b[0m\u001b[0;34m]\u001b[0m\u001b[0;34m[\u001b[0m\u001b[0;34m'type'\u001b[0m\u001b[0;34m]\u001b[0m \u001b[0;34m==\u001b[0m \u001b[0;34m'Review'\u001b[0m\u001b[0;34m]\u001b[0m\u001b[0;34m)\u001b[0m\u001b[0;34m\u001b[0m\u001b[0;34m\u001b[0m\u001b[0m\n\u001b[0;32m---> 10\u001b[0;31m     \u001b[0mpaths\u001b[0m \u001b[0;34m=\u001b[0m \u001b[0mnx\u001b[0m\u001b[0;34m.\u001b[0m\u001b[0mall_shortest_paths\u001b[0m\u001b[0;34m(\u001b[0m\u001b[0mG\u001b[0m\u001b[0;34m,\u001b[0m \u001b[0mfirst\u001b[0m\u001b[0;34m,\u001b[0m\u001b[0msecond\u001b[0m\u001b[0;34m,\u001b[0m \u001b[0mweight\u001b[0m\u001b[0;34m=\u001b[0m\u001b[0;32mNone\u001b[0m\u001b[0;34m)\u001b[0m\u001b[0;34m\u001b[0m\u001b[0;34m\u001b[0m\u001b[0m\n\u001b[0m\u001b[1;32m     11\u001b[0m     \u001b[0;32mfor\u001b[0m \u001b[0mp\u001b[0m \u001b[0;32min\u001b[0m \u001b[0mpaths\u001b[0m\u001b[0;34m:\u001b[0m\u001b[0;34m\u001b[0m\u001b[0;34m\u001b[0m\u001b[0m\n\u001b[1;32m     12\u001b[0m         \u001b[0mG1\u001b[0m\u001b[0;34m.\u001b[0m\u001b[0madd_nodes_from\u001b[0m\u001b[0;34m(\u001b[0m\u001b[0mp\u001b[0m\u001b[0;34m)\u001b[0m\u001b[0;34m\u001b[0m\u001b[0;34m\u001b[0m\u001b[0m\n",
      "\u001b[0;32m~/.local/lib/python3.6/site-packages/networkx/algorithms/shortest_paths/generic.py\u001b[0m in \u001b[0;36mall_shortest_paths\u001b[0;34m(G, source, target, weight, method)\u001b[0m\n\u001b[1;32m    471\u001b[0m     \u001b[0mmethod\u001b[0m \u001b[0;34m=\u001b[0m \u001b[0;34m\"unweighted\"\u001b[0m \u001b[0;32mif\u001b[0m \u001b[0mweight\u001b[0m \u001b[0;32mis\u001b[0m \u001b[0;32mNone\u001b[0m \u001b[0;32melse\u001b[0m \u001b[0mmethod\u001b[0m\u001b[0;34m\u001b[0m\u001b[0;34m\u001b[0m\u001b[0m\n\u001b[1;32m    472\u001b[0m     \u001b[0;32mif\u001b[0m \u001b[0mmethod\u001b[0m \u001b[0;34m==\u001b[0m \u001b[0;34m\"unweighted\"\u001b[0m\u001b[0;34m:\u001b[0m\u001b[0;34m\u001b[0m\u001b[0;34m\u001b[0m\u001b[0m\n\u001b[0;32m--> 473\u001b[0;31m         \u001b[0mpred\u001b[0m \u001b[0;34m=\u001b[0m \u001b[0mnx\u001b[0m\u001b[0;34m.\u001b[0m\u001b[0mpredecessor\u001b[0m\u001b[0;34m(\u001b[0m\u001b[0mG\u001b[0m\u001b[0;34m,\u001b[0m \u001b[0msource\u001b[0m\u001b[0;34m)\u001b[0m\u001b[0;34m\u001b[0m\u001b[0;34m\u001b[0m\u001b[0m\n\u001b[0m\u001b[1;32m    474\u001b[0m     \u001b[0;32melif\u001b[0m \u001b[0mmethod\u001b[0m \u001b[0;34m==\u001b[0m \u001b[0;34m\"dijkstra\"\u001b[0m\u001b[0;34m:\u001b[0m\u001b[0;34m\u001b[0m\u001b[0;34m\u001b[0m\u001b[0m\n\u001b[1;32m    475\u001b[0m         \u001b[0mpred\u001b[0m\u001b[0;34m,\u001b[0m \u001b[0mdist\u001b[0m \u001b[0;34m=\u001b[0m \u001b[0mnx\u001b[0m\u001b[0;34m.\u001b[0m\u001b[0mdijkstra_predecessor_and_distance\u001b[0m\u001b[0;34m(\u001b[0m\u001b[0mG\u001b[0m\u001b[0;34m,\u001b[0m \u001b[0msource\u001b[0m\u001b[0;34m,\u001b[0m \u001b[0mweight\u001b[0m\u001b[0;34m=\u001b[0m\u001b[0mweight\u001b[0m\u001b[0;34m)\u001b[0m\u001b[0;34m\u001b[0m\u001b[0;34m\u001b[0m\u001b[0m\n",
      "\u001b[0;32m~/.local/lib/python3.6/site-packages/networkx/algorithms/shortest_paths/unweighted.py\u001b[0m in \u001b[0;36mpredecessor\u001b[0;34m(G, source, target, cutoff, return_seen)\u001b[0m\n\u001b[1;32m    511\u001b[0m                     \u001b[0mnextlevel\u001b[0m\u001b[0;34m.\u001b[0m\u001b[0mappend\u001b[0m\u001b[0;34m(\u001b[0m\u001b[0mw\u001b[0m\u001b[0;34m)\u001b[0m\u001b[0;34m\u001b[0m\u001b[0;34m\u001b[0m\u001b[0m\n\u001b[1;32m    512\u001b[0m                 \u001b[0;32melif\u001b[0m \u001b[0mseen\u001b[0m\u001b[0;34m[\u001b[0m\u001b[0mw\u001b[0m\u001b[0;34m]\u001b[0m \u001b[0;34m==\u001b[0m \u001b[0mlevel\u001b[0m\u001b[0;34m:\u001b[0m  \u001b[0;31m# add v to predecessor list if it\u001b[0m\u001b[0;34m\u001b[0m\u001b[0;34m\u001b[0m\u001b[0m\n\u001b[0;32m--> 513\u001b[0;31m                     \u001b[0mpred\u001b[0m\u001b[0;34m[\u001b[0m\u001b[0mw\u001b[0m\u001b[0;34m]\u001b[0m\u001b[0;34m.\u001b[0m\u001b[0mappend\u001b[0m\u001b[0;34m(\u001b[0m\u001b[0mv\u001b[0m\u001b[0;34m)\u001b[0m  \u001b[0;31m# is at the correct level\u001b[0m\u001b[0;34m\u001b[0m\u001b[0;34m\u001b[0m\u001b[0m\n\u001b[0m\u001b[1;32m    514\u001b[0m         \u001b[0;32mif\u001b[0m \u001b[0mcutoff\u001b[0m \u001b[0;32mand\u001b[0m \u001b[0mcutoff\u001b[0m \u001b[0;34m<=\u001b[0m \u001b[0mlevel\u001b[0m\u001b[0;34m:\u001b[0m\u001b[0;34m\u001b[0m\u001b[0;34m\u001b[0m\u001b[0m\n\u001b[1;32m    515\u001b[0m             \u001b[0;32mbreak\u001b[0m\u001b[0;34m\u001b[0m\u001b[0;34m\u001b[0m\u001b[0m\n",
      "\u001b[0;31mKeyboardInterrupt\u001b[0m: "
     ]
    }
   ],
   "source": [
    "#G1 = nx.Graph()\n",
    "from random import choice\n",
    "L = int(len(G.nodes())/2)\n",
    "sp = []\n",
    "i =0 \n",
    "pbar = tqdm(total=L,position=0)\n",
    "while i < L:\n",
    "    first = choice([n for n in G.nodes() if G.nodes()[n]['type'] == 'Row'])\n",
    "    second = choice([n for n in G.nodes() if G.nodes()[n]['type'] == 'Review'])\n",
    "    paths = nx.all_shortest_paths(G, first,second, weight=None)\n",
    "    for p in paths:\n",
    "        G1.add_nodes_from(p)\n",
    "        nx.add_path(G1,p)    \n",
    "    i+=1\n",
    "    pbar.update(1)\n",
    "    "
   ]
  },
  {
   "cell_type": "code",
   "execution_count": 14,
   "metadata": {
    "ExecuteTime": {
     "end_time": "2021-07-21T12:15:24.747318Z",
     "start_time": "2021-07-21T12:15:24.690392Z"
    }
   },
   "outputs": [
    {
     "data": {
      "text/plain": [
       "(81878, 886369)"
      ]
     },
     "execution_count": 14,
     "metadata": {},
     "output_type": "execute_result"
    }
   ],
   "source": [
    "G = G1\n",
    "len(G.nodes()), len(G.edges())"
   ]
  },
  {
   "cell_type": "markdown",
   "metadata": {},
   "source": [
    "# RandomWalk"
   ]
  },
  {
   "cell_type": "code",
   "execution_count": null,
   "metadata": {
    "ExecuteTime": {
     "start_time": "2021-07-23T10:45:24.581Z"
    },
    "scrolled": true
   },
   "outputs": [
    {
     "name": "stderr",
     "output_type": "stream",
     "text": [
      "\r",
      "  0%|          | 0/30 [00:00<?, ?it/s]"
     ]
    }
   ],
   "source": [
    "docs = []\n",
    "random_paths = generate_random_walks(G,30,l=30)\n",
    "for p in random_paths:\n",
    "    docs.append(p)"
   ]
  },
  {
   "cell_type": "markdown",
   "metadata": {},
   "source": [
    "# Word Embeddings"
   ]
  },
  {
   "cell_type": "code",
   "execution_count": 19,
   "metadata": {
    "ExecuteTime": {
     "end_time": "2021-07-21T13:14:42.819347Z",
     "start_time": "2021-07-21T13:14:42.815103Z"
    }
   },
   "outputs": [],
   "source": [
    "from gensim.models.word2vec import Word2Vec\n",
    "from gensim.models.doc2vec import Doc2Vec, TaggedDocument\n",
    "from nltk.tokenize import word_tokenize"
   ]
  },
  {
   "cell_type": "code",
   "execution_count": 20,
   "metadata": {
    "ExecuteTime": {
     "end_time": "2021-07-21T13:24:13.373921Z",
     "start_time": "2021-07-21T13:14:42.821770Z"
    }
   },
   "outputs": [
    {
     "name": "stderr",
     "output_type": "stream",
     "text": [
      "100%|██████████| 2456340/2456340 [09:30<00:00, 4305.29it/s]\n"
     ]
    }
   ],
   "source": [
    "from gensim.parsing.preprocessing import remove_stopwords\n",
    "from tqdm import tqdm \n",
    "tagged_data = []\n",
    "for d in tqdm(docs,position=0):\n",
    "    tagged_data.append(word_tokenize(d))\n"
   ]
  },
  {
   "cell_type": "code",
   "execution_count": 21,
   "metadata": {
    "ExecuteTime": {
     "end_time": "2021-07-21T13:46:00.317332Z",
     "start_time": "2021-07-21T13:24:13.375935Z"
    }
   },
   "outputs": [
    {
     "name": "stdout",
     "output_type": "stream",
     "text": [
      "env: PYTHONHASHSEED=0\n",
      "Model is Ready\n"
     ]
    }
   ],
   "source": [
    "%env PYTHONHASHSEED=0\n",
    "max_epochs = 10\n",
    "vec_size = 300\n",
    "\n",
    "model = Word2Vec(size=vec_size, min_count=10, window=3, sg=1, seed=0, workers = 4)\n",
    "model.build_vocab(tagged_data)\n",
    "model.train(tagged_data, total_examples=model.corpus_count, epochs=model.epochs)\n",
    "\n",
    "print(\"Model is Ready\")"
   ]
  },
  {
   "cell_type": "markdown",
   "metadata": {
    "ExecuteTime": {
     "end_time": "2021-07-23T09:25:45.814399Z",
     "start_time": "2021-07-23T09:25:45.804038Z"
    }
   },
   "source": [
    "# Test"
   ]
  },
  {
   "cell_type": "code",
   "execution_count": 22,
   "metadata": {
    "ExecuteTime": {
     "end_time": "2021-07-21T13:46:22.829024Z",
     "start_time": "2021-07-21T13:46:00.318983Z"
    }
   },
   "outputs": [
    {
     "name": "stderr",
     "output_type": "stream",
     "text": [
      "\n",
      "  0%|          | 0/785 [00:00<?, ?it/s]\u001b[A\n",
      "  0%|          | 3/785 [00:00<00:30, 26.00it/s]\u001b[A\n",
      "  1%|          | 6/785 [00:00<00:29, 26.62it/s]\u001b[A\n",
      "  1%|          | 9/785 [00:00<00:28, 27.28it/s]\u001b[A\n",
      "  2%|▏         | 13/785 [00:00<00:27, 28.01it/s]\u001b[A\n",
      "  2%|▏         | 16/785 [00:00<00:27, 28.44it/s]\u001b[A\n",
      "  3%|▎         | 20/785 [00:00<00:25, 30.21it/s]\u001b[A\n",
      "  3%|▎         | 24/785 [00:00<00:24, 30.89it/s]\u001b[A\n",
      "  4%|▎         | 28/785 [00:00<00:24, 31.28it/s]\u001b[A\n",
      "  4%|▍         | 31/785 [00:01<00:24, 30.76it/s]\u001b[A\n",
      "  4%|▍         | 35/785 [00:01<00:23, 32.34it/s]\u001b[A\n",
      "  5%|▍         | 39/785 [00:01<00:22, 33.65it/s]\u001b[A\n",
      "  5%|▌         | 43/785 [00:01<00:21, 34.71it/s]\u001b[A\n",
      "  6%|▌         | 47/785 [00:01<00:21, 33.83it/s]\u001b[A\n",
      "  6%|▋         | 51/785 [00:01<00:21, 33.81it/s]\u001b[A\n",
      "  7%|▋         | 55/785 [00:01<00:20, 34.98it/s]\u001b[A\n",
      "  8%|▊         | 59/785 [00:01<00:20, 35.78it/s]\u001b[A\n",
      "  8%|▊         | 63/785 [00:01<00:19, 36.49it/s]\u001b[A\n",
      "  9%|▊         | 67/785 [00:02<00:19, 36.46it/s]\u001b[A\n",
      "  9%|▉         | 71/785 [00:02<00:19, 36.59it/s]\u001b[A\n",
      " 10%|▉         | 75/785 [00:02<00:19, 36.70it/s]\u001b[A\n",
      " 10%|█         | 79/785 [00:02<00:19, 35.83it/s]\u001b[A\n",
      " 11%|█         | 83/785 [00:02<00:19, 36.09it/s]\u001b[A\n",
      " 11%|█         | 87/785 [00:02<00:20, 34.51it/s]\u001b[A\n",
      " 12%|█▏        | 91/785 [00:02<00:20, 34.31it/s]\u001b[A\n",
      " 12%|█▏        | 95/785 [00:02<00:19, 34.60it/s]\u001b[A\n",
      " 13%|█▎        | 99/785 [00:02<00:19, 34.71it/s]\u001b[A\n",
      " 13%|█▎        | 103/785 [00:03<00:19, 34.96it/s]\u001b[A\n",
      " 14%|█▎        | 107/785 [00:03<00:19, 35.19it/s]\u001b[A\n",
      " 14%|█▍        | 111/785 [00:03<00:19, 35.25it/s]\u001b[A\n",
      " 15%|█▍        | 115/785 [00:03<00:18, 35.28it/s]\u001b[A\n",
      " 15%|█▌        | 119/785 [00:03<00:18, 35.21it/s]\u001b[A\n",
      " 16%|█▌        | 123/785 [00:03<00:18, 35.25it/s]\u001b[A\n",
      " 16%|█▌        | 127/785 [00:03<00:18, 36.41it/s]\u001b[A\n",
      " 17%|█▋        | 131/785 [00:03<00:17, 37.02it/s]\u001b[A\n",
      " 17%|█▋        | 135/785 [00:03<00:18, 35.68it/s]\u001b[A\n",
      " 18%|█▊        | 139/785 [00:04<00:18, 34.76it/s]\u001b[A\n",
      " 18%|█▊        | 143/785 [00:04<00:18, 34.92it/s]\u001b[A\n",
      " 19%|█▊        | 147/785 [00:04<00:18, 35.07it/s]\u001b[A\n",
      " 19%|█▉        | 151/785 [00:04<00:18, 35.15it/s]\u001b[A\n",
      " 20%|█▉        | 155/785 [00:04<00:17, 35.24it/s]\u001b[A\n",
      " 20%|██        | 159/785 [00:04<00:18, 33.22it/s]\u001b[A\n",
      " 21%|██        | 163/785 [00:04<00:18, 34.06it/s]\u001b[A\n",
      " 21%|██▏       | 167/785 [00:04<00:17, 34.49it/s]\u001b[A\n",
      " 22%|██▏       | 171/785 [00:04<00:17, 34.66it/s]\u001b[A\n",
      " 22%|██▏       | 175/785 [00:05<00:17, 34.99it/s]\u001b[A\n",
      " 23%|██▎       | 179/785 [00:05<00:17, 35.00it/s]\u001b[A\n",
      " 23%|██▎       | 183/785 [00:05<00:17, 35.25it/s]\u001b[A\n",
      " 24%|██▍       | 187/785 [00:05<00:16, 35.36it/s]\u001b[A\n",
      " 24%|██▍       | 191/785 [00:05<00:16, 35.43it/s]\u001b[A\n",
      " 25%|██▍       | 195/785 [00:05<00:16, 35.51it/s]\u001b[A\n",
      " 25%|██▌       | 199/785 [00:05<00:16, 35.21it/s]\u001b[A\n",
      " 26%|██▌       | 203/785 [00:05<00:16, 35.29it/s]\u001b[A\n",
      " 26%|██▋       | 207/785 [00:06<00:16, 35.07it/s]\u001b[A\n",
      " 27%|██▋       | 211/785 [00:06<00:16, 35.25it/s]\u001b[A\n",
      " 27%|██▋       | 215/785 [00:06<00:15, 35.83it/s]\u001b[A\n",
      " 28%|██▊       | 219/785 [00:06<00:15, 36.79it/s]\u001b[A\n",
      " 28%|██▊       | 223/785 [00:06<00:15, 36.16it/s]\u001b[A\n",
      " 29%|██▉       | 227/785 [00:06<00:15, 35.74it/s]\u001b[A\n",
      " 29%|██▉       | 231/785 [00:06<00:15, 35.54it/s]\u001b[A\n",
      " 30%|██▉       | 235/785 [00:06<00:15, 35.31it/s]\u001b[A\n",
      " 30%|███       | 239/785 [00:06<00:15, 35.15it/s]\u001b[A\n",
      " 31%|███       | 243/785 [00:07<00:15, 34.37it/s]\u001b[A\n",
      " 31%|███▏      | 247/785 [00:07<00:15, 34.42it/s]\u001b[A\n",
      " 32%|███▏      | 251/785 [00:07<00:15, 34.54it/s]\u001b[A\n",
      " 32%|███▏      | 255/785 [00:07<00:15, 34.67it/s]\u001b[A\n",
      " 33%|███▎      | 259/785 [00:07<00:15, 33.87it/s]\u001b[A\n",
      " 34%|███▎      | 263/785 [00:07<00:15, 34.10it/s]\u001b[A\n",
      " 34%|███▍      | 267/785 [00:07<00:15, 33.99it/s]\u001b[A\n",
      " 35%|███▍      | 271/785 [00:07<00:15, 34.05it/s]\u001b[A\n",
      " 35%|███▌      | 275/785 [00:07<00:14, 34.08it/s]\u001b[A\n",
      " 36%|███▌      | 279/785 [00:08<00:14, 34.26it/s]\u001b[A\n",
      " 36%|███▌      | 283/785 [00:08<00:14, 34.22it/s]\u001b[A\n",
      " 37%|███▋      | 287/785 [00:08<00:14, 34.44it/s]\u001b[A\n",
      " 37%|███▋      | 291/785 [00:08<00:14, 34.28it/s]\u001b[A\n",
      " 38%|███▊      | 295/785 [00:08<00:14, 34.29it/s]\u001b[A\n",
      " 38%|███▊      | 299/785 [00:08<00:14, 34.54it/s]\u001b[A\n",
      " 39%|███▊      | 303/785 [00:08<00:14, 33.51it/s]\u001b[A\n",
      " 39%|███▉      | 307/785 [00:08<00:14, 33.43it/s]\u001b[A\n",
      " 40%|███▉      | 311/785 [00:09<00:14, 33.14it/s]\u001b[A\n",
      " 40%|████      | 315/785 [00:09<00:14, 33.10it/s]\u001b[A\n",
      " 41%|████      | 319/785 [00:09<00:14, 33.18it/s]\u001b[A\n",
      " 41%|████      | 323/785 [00:09<00:13, 33.60it/s]\u001b[A\n",
      " 42%|████▏     | 327/785 [00:09<00:13, 33.55it/s]\u001b[A\n",
      " 42%|████▏     | 331/785 [00:09<00:13, 33.45it/s]\u001b[A\n",
      " 43%|████▎     | 335/785 [00:09<00:13, 33.79it/s]\u001b[A\n",
      " 43%|████▎     | 339/785 [00:09<00:13, 34.06it/s]\u001b[A\n",
      " 44%|████▎     | 343/785 [00:09<00:13, 33.91it/s]\u001b[A\n",
      " 44%|████▍     | 347/785 [00:10<00:12, 33.98it/s]\u001b[A\n",
      " 45%|████▍     | 351/785 [00:10<00:12, 34.16it/s]\u001b[A\n",
      " 45%|████▌     | 355/785 [00:10<00:12, 34.85it/s]\u001b[A\n",
      " 46%|████▌     | 359/785 [00:10<00:12, 35.44it/s]\u001b[A\n",
      " 46%|████▌     | 363/785 [00:10<00:11, 35.52it/s]\u001b[A\n",
      " 47%|████▋     | 367/785 [00:10<00:11, 35.81it/s]\u001b[A\n",
      " 47%|████▋     | 371/785 [00:10<00:11, 35.94it/s]\u001b[A\n",
      " 48%|████▊     | 375/785 [00:10<00:11, 36.29it/s]\u001b[A\n",
      " 48%|████▊     | 379/785 [00:10<00:11, 36.20it/s]\u001b[A\n",
      " 49%|████▉     | 383/785 [00:11<00:11, 36.31it/s]\u001b[A\n",
      " 49%|████▉     | 387/785 [00:11<00:10, 36.33it/s]\u001b[A\n",
      " 50%|████▉     | 391/785 [00:11<00:10, 35.91it/s]\u001b[A\n",
      " 50%|█████     | 395/785 [00:11<00:11, 33.48it/s]\u001b[A\n",
      " 51%|█████     | 399/785 [00:11<00:11, 33.59it/s]\u001b[A\n",
      " 51%|█████▏    | 403/785 [00:11<00:11, 34.03it/s]\u001b[A\n",
      " 52%|█████▏    | 407/785 [00:11<00:10, 34.50it/s]\u001b[A\n",
      " 52%|█████▏    | 411/785 [00:11<00:10, 35.01it/s]\u001b[A\n",
      " 53%|█████▎    | 415/785 [00:12<00:10, 34.75it/s]\u001b[A\n",
      " 53%|█████▎    | 419/785 [00:12<00:10, 35.51it/s]\u001b[A\n",
      " 54%|█████▍    | 423/785 [00:12<00:10, 35.72it/s]\u001b[A\n",
      " 54%|█████▍    | 427/785 [00:12<00:09, 35.82it/s]\u001b[A\n",
      " 55%|█████▍    | 431/785 [00:12<00:09, 35.61it/s]\u001b[A\n",
      " 55%|█████▌    | 435/785 [00:12<00:09, 35.75it/s]\u001b[A\n",
      " 56%|█████▌    | 439/785 [00:12<00:09, 35.74it/s]\u001b[A\n",
      " 56%|█████▋    | 443/785 [00:12<00:10, 33.65it/s]\u001b[A\n",
      " 57%|█████▋    | 447/785 [00:12<00:10, 32.77it/s]\u001b[A\n",
      " 57%|█████▋    | 451/785 [00:13<00:09, 33.63it/s]\u001b[A\n",
      " 58%|█████▊    | 455/785 [00:13<00:09, 34.09it/s]\u001b[A\n",
      " 58%|█████▊    | 459/785 [00:13<00:09, 34.57it/s]\u001b[A\n",
      " 59%|█████▉    | 463/785 [00:13<00:09, 35.07it/s]\u001b[A\n",
      " 59%|█████▉    | 467/785 [00:13<00:09, 34.43it/s]\u001b[A\n",
      " 60%|██████    | 471/785 [00:13<00:09, 34.66it/s]\u001b[A\n",
      " 61%|██████    | 475/785 [00:13<00:08, 35.43it/s]\u001b[A\n",
      " 61%|██████    | 479/785 [00:13<00:08, 34.94it/s]\u001b[A\n",
      " 62%|██████▏   | 483/785 [00:13<00:08, 35.13it/s]\u001b[A\n",
      " 62%|██████▏   | 487/785 [00:14<00:08, 34.47it/s]\u001b[A\n",
      " 63%|██████▎   | 491/785 [00:14<00:08, 35.12it/s]\u001b[A\n",
      " 63%|██████▎   | 495/785 [00:14<00:08, 35.49it/s]\u001b[A\n",
      " 64%|██████▎   | 499/785 [00:14<00:08, 34.54it/s]\u001b[A\n",
      " 64%|██████▍   | 503/785 [00:14<00:08, 34.60it/s]\u001b[A\n",
      " 65%|██████▍   | 507/785 [00:14<00:07, 35.33it/s]\u001b[A\n",
      " 65%|██████▌   | 511/785 [00:14<00:07, 35.82it/s]\u001b[A\n",
      " 66%|██████▌   | 515/785 [00:14<00:07, 36.15it/s]\u001b[A\n",
      " 66%|██████▌   | 519/785 [00:14<00:07, 36.20it/s]\u001b[A\n",
      " 67%|██████▋   | 523/785 [00:15<00:07, 36.23it/s]\u001b[A\n",
      " 67%|██████▋   | 527/785 [00:15<00:07, 36.26it/s]\u001b[A\n",
      " 68%|██████▊   | 531/785 [00:15<00:07, 35.85it/s]\u001b[A\n",
      " 68%|██████▊   | 535/785 [00:15<00:07, 35.25it/s]\u001b[A\n",
      " 69%|██████▊   | 539/785 [00:15<00:07, 35.10it/s]\u001b[A\n",
      " 69%|██████▉   | 543/785 [00:15<00:07, 34.45it/s]\u001b[A\n",
      " 70%|██████▉   | 547/785 [00:15<00:07, 33.97it/s]\u001b[A\n",
      " 70%|███████   | 551/785 [00:15<00:06, 33.99it/s]\u001b[A\n",
      " 71%|███████   | 555/785 [00:16<00:06, 34.06it/s]\u001b[A\n",
      " 71%|███████   | 559/785 [00:16<00:06, 33.87it/s]\u001b[A\n",
      " 72%|███████▏  | 563/785 [00:16<00:06, 33.47it/s]\u001b[A\n",
      " 72%|███████▏  | 567/785 [00:16<00:06, 33.63it/s]\u001b[A\n",
      " 73%|███████▎  | 571/785 [00:16<00:06, 34.05it/s]\u001b[A\n",
      " 73%|███████▎  | 575/785 [00:16<00:06, 34.33it/s]\u001b[A\n",
      " 74%|███████▍  | 579/785 [00:16<00:05, 34.55it/s]\u001b[A\n",
      " 74%|███████▍  | 583/785 [00:16<00:05, 34.38it/s]\u001b[A\n",
      " 75%|███████▍  | 587/785 [00:16<00:05, 34.55it/s]\u001b[A\n",
      " 75%|███████▌  | 591/785 [00:17<00:05, 34.68it/s]\u001b[A\n",
      " 76%|███████▌  | 595/785 [00:17<00:05, 34.94it/s]\u001b[A\n",
      " 76%|███████▋  | 599/785 [00:17<00:05, 34.67it/s]\u001b[A\n",
      " 77%|███████▋  | 603/785 [00:17<00:05, 34.65it/s]\u001b[A\n",
      " 77%|███████▋  | 607/785 [00:17<00:05, 34.93it/s]\u001b[A\n",
      " 78%|███████▊  | 611/785 [00:17<00:04, 35.06it/s]\u001b[A\n",
      " 78%|███████▊  | 615/785 [00:17<00:04, 34.93it/s]\u001b[A\n",
      " 79%|███████▉  | 619/785 [00:17<00:04, 34.39it/s]\u001b[A\n",
      " 79%|███████▉  | 623/785 [00:17<00:04, 34.70it/s]\u001b[A\n",
      " 80%|███████▉  | 627/785 [00:18<00:04, 34.91it/s]\u001b[A\n",
      " 80%|████████  | 631/785 [00:18<00:04, 35.57it/s]\u001b[A\n",
      " 81%|████████  | 635/785 [00:18<00:04, 35.88it/s]\u001b[A\n",
      " 81%|████████▏ | 639/785 [00:18<00:04, 36.22it/s]\u001b[A\n",
      " 82%|████████▏ | 643/785 [00:18<00:03, 36.00it/s]\u001b[A\n",
      " 82%|████████▏ | 647/785 [00:18<00:03, 36.18it/s]\u001b[A\n",
      " 83%|████████▎ | 651/785 [00:18<00:03, 36.01it/s]\u001b[A\n",
      " 83%|████████▎ | 655/785 [00:18<00:03, 36.07it/s]\u001b[A\n",
      " 84%|████████▍ | 659/785 [00:18<00:03, 35.75it/s]\u001b[A\n",
      " 84%|████████▍ | 663/785 [00:19<00:03, 35.89it/s]\u001b[A\n",
      " 85%|████████▍ | 667/785 [00:19<00:03, 36.04it/s]\u001b[A\n",
      " 85%|████████▌ | 671/785 [00:19<00:03, 36.11it/s]\u001b[A\n",
      " 86%|████████▌ | 675/785 [00:19<00:03, 35.81it/s]\u001b[A\n",
      " 86%|████████▋ | 679/785 [00:19<00:02, 35.33it/s]\u001b[A\n",
      " 87%|████████▋ | 683/785 [00:19<00:02, 35.09it/s]\u001b[A\n",
      " 88%|████████▊ | 687/785 [00:19<00:02, 35.00it/s]\u001b[A\n",
      " 88%|████████▊ | 691/785 [00:19<00:02, 34.97it/s]\u001b[A\n",
      " 89%|████████▊ | 695/785 [00:20<00:02, 34.66it/s]\u001b[A\n",
      " 89%|████████▉ | 699/785 [00:20<00:02, 34.98it/s]\u001b[A\n",
      " 90%|████████▉ | 703/785 [00:20<00:02, 34.92it/s]\u001b[A\n",
      " 90%|█████████ | 707/785 [00:20<00:02, 34.78it/s]\u001b[A\n",
      " 91%|█████████ | 711/785 [00:20<00:02, 34.56it/s]\u001b[A\n",
      " 91%|█████████ | 715/785 [00:20<00:02, 34.35it/s]\u001b[A\n",
      " 92%|█████████▏| 719/785 [00:20<00:01, 34.38it/s]\u001b[A\n",
      " 92%|█████████▏| 723/785 [00:20<00:01, 34.35it/s]\u001b[A\n",
      " 93%|█████████▎| 727/785 [00:20<00:01, 34.34it/s]\u001b[A\n",
      " 93%|█████████▎| 731/785 [00:21<00:01, 33.73it/s]\u001b[A\n",
      " 94%|█████████▎| 735/785 [00:21<00:01, 34.04it/s]\u001b[A\n",
      " 94%|█████████▍| 739/785 [00:21<00:01, 33.95it/s]\u001b[A\n",
      " 95%|█████████▍| 743/785 [00:21<00:01, 34.88it/s]\u001b[A\n",
      " 95%|█████████▌| 747/785 [00:21<00:01, 35.59it/s]\u001b[A\n",
      " 96%|█████████▌| 751/785 [00:21<00:00, 36.28it/s]\u001b[A\n",
      " 96%|█████████▌| 755/785 [00:21<00:00, 37.18it/s]\u001b[A\n",
      " 97%|█████████▋| 759/785 [00:21<00:00, 37.52it/s]\u001b[A\n",
      " 97%|█████████▋| 763/785 [00:21<00:00, 37.93it/s]\u001b[A\n",
      " 98%|█████████▊| 767/785 [00:22<00:00, 38.03it/s]\u001b[A\n",
      " 98%|█████████▊| 771/785 [00:22<00:00, 38.26it/s]\u001b[A\n",
      " 99%|█████████▊| 775/785 [00:22<00:00, 38.50it/s]\u001b[A\n",
      " 99%|█████████▉| 779/785 [00:22<00:00, 38.55it/s]\u001b[A\n",
      "100%|██████████| 785/785 [00:22<00:00, 34.88it/s]\u001b[A\n"
     ]
    }
   ],
   "source": [
    "movie_reviews = {}\n",
    "for movie in tqdm(ground_truth):\n",
    "    review_new = []\n",
    "    \n",
    "    m_id = id_rows[movie]\n",
    "    \n",
    "    for r in ground_truth[movie]:\n",
    "        review_new.append(r)\n",
    "        \n",
    "    for r in random.sample(review_ids.keys(),98):\n",
    "        if r not in ground_truth[movie]:\n",
    "            review_new.append(r)\n",
    "    \n",
    "    \n",
    "    \n",
    "    movie_reviews[movie] = distance_w2v (model,m_id,review_ids,50000)"
   ]
  },
  {
   "cell_type": "code",
   "execution_count": 23,
   "metadata": {
    "ExecuteTime": {
     "end_time": "2021-07-21T13:46:23.312481Z",
     "start_time": "2021-07-21T13:46:22.830449Z"
    }
   },
   "outputs": [
    {
     "name": "stdout",
     "output_type": "stream",
     "text": [
      "\n",
      "#################### 1 ###########################\n",
      "\n",
      "MRR: 0.7210191082802547 MAP: 0.3595541401273885 HAS POSITIVE: 0.7210191082802547\n",
      "\n",
      "#################### 5 ###########################\n",
      "\n",
      "MRR: 0.7696815286624205 MAP: 0.5682590233545646 HAS POSITIVE: 0.845859872611465\n",
      "\n",
      "#################### 20 ###########################\n",
      "\n",
      "MRR: 0.774509509058029 MAP: 0.5836324664349648 HAS POSITIVE: 0.8955414012738854\n",
      "\n",
      "#################### 50 ###########################\n",
      "\n",
      "MRR: 0.7752315255291105 MAP: 0.5862819364272751 HAS POSITIVE: 0.9197452229299363\n",
      "\n",
      "#################### 50000 ###########################\n",
      "\n",
      "MRR: 0.7757641800749724 MAP: 0.5882394605966298 HAS POSITIVE: 1.0\n"
     ]
    }
   ],
   "source": [
    "for KK in [1,5,20,50000]: \n",
    "    i = 0\n",
    "    precision,recall,fs = 0,0,0\n",
    "    MAP, MR, hasP = 0,0,0\n",
    "\n",
    "    for movie in movie_reviews:\n",
    "        if movie not in ground_truth: continue\n",
    "        i+=1\n",
    "        preds = [f for (f,j) in movie_reviews[movie]][0:KK]\n",
    "        golds = [f for f in ground_truth[movie]]\n",
    "\n",
    "        MAP += MAP_K(golds,preds)\n",
    "        MR += MRR(golds,preds)\n",
    "        hasP += HAS_POSITIVE(golds,preds)\n",
    "        \n",
    "    print('\\n#################### ' + str(KK) + ' ###########################\\n')\n",
    "    print('MRR:',MR/i,'MAP:',MAP/i, 'HAS POSITIVE:', hasP/i)"
   ]
  }
 ],
 "metadata": {
  "kernelspec": {
   "display_name": "Python 3",
   "language": "python",
   "name": "python3"
  },
  "language_info": {
   "codemirror_mode": {
    "name": "ipython",
    "version": 3
   },
   "file_extension": ".py",
   "mimetype": "text/x-python",
   "name": "python",
   "nbconvert_exporter": "python",
   "pygments_lexer": "ipython3",
   "version": "3.6.13"
  }
 },
 "nbformat": 4,
 "nbformat_minor": 2
}
