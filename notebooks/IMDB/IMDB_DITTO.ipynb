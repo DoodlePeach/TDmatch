{
 "cells": [
  {
   "cell_type": "code",
   "execution_count": null,
   "metadata": {
    "ExecuteTime": {
     "end_time": "2021-07-23T10:54:18.602618Z",
     "start_time": "2021-07-23T10:54:15.442394Z"
    }
   },
   "outputs": [],
   "source": [
    "import sys\n",
    "sys.path.append('../')\n",
    "from utils import *\n",
    "from graphUtils import *"
   ]
  },
  {
   "cell_type": "markdown",
   "metadata": {
    "id": "hJbOTHQ7L70W"
   },
   "source": [
    "# Data Generation"
   ]
  },
  {
   "cell_type": "code",
   "execution_count": null,
   "metadata": {
    "ExecuteTime": {
     "end_time": "2021-07-23T10:54:30.236147Z",
     "start_time": "2021-07-23T10:54:30.184927Z"
    },
    "id": "SODgrj6JMAdY"
   },
   "outputs": [],
   "source": [
    "import pickle\n",
    "df = pickle.load(open('../../data/imdb/imdb_reviews_1000film.df','rb'))\n",
    "ground_truth = pickle.load(open('../../data/imdb/imdb_GT.pkl','rb'))\n",
    "review_ids = pickle.load(open('../../data/imdb/imdb_reviewIDs.pkl','rb'))\n",
    "row_ids = pickle.load(open('../../data/imdb/imdb_movieIDs.pkl','rb'))\n",
    "id_revs = inv_map = {v: k for k, v in review_ids.items()}"
   ]
  },
  {
   "cell_type": "code",
   "execution_count": null,
   "metadata": {
    "id": "MXWmQEbYMCWT"
   },
   "outputs": [],
   "source": [
    "import datetime\n",
    "import csv\n",
    "movies_dic = {}\n",
    "with open('../../data/imdb/imdb_movielens.csv') as csv_file:\n",
    "    csv_reader = csv.reader(csv_file, delimiter=',')\n",
    "    next(csv_reader)\n",
    "    for row in csv_reader:\n",
    "        if row[12].replace('_',' ') not in movies_dic: \n",
    "            movies_dic[row[12].replace('_',' ')] = []\n",
    "            \n",
    "        temp = [r.replace('_',' ') for r in row[0:10]]\n",
    "        \n",
    "        month,year = '',''\n",
    "        if len(row[10]) > 0:        \n",
    "            month = datetime.date(1900, int(row[10][4::]), 1).strftime('%B')\n",
    "            year = row[10][0:4]\n",
    "        \n",
    "        temp.append(month.lower() + ' ' + year)\n",
    "        temp.append(int(float(row[14])))\n",
    "        \n",
    "        movies_dic[row[12].replace('_',' ')].append(temp)\n",
    "        "
   ]
  },
  {
   "cell_type": "markdown",
   "metadata": {
    "id": "QWVbNe4KL4Cm"
   },
   "source": [
    "# Ditto"
   ]
  },
  {
   "cell_type": "code",
   "execution_count": null,
   "metadata": {
    "colab": {
     "base_uri": "https://localhost:8080/"
    },
    "id": "fs2R_Ro45H-L",
    "outputId": "19593adb-79d5-48b7-8af6-e7c98cf71bbb"
   },
   "outputs": [],
   "source": [
    "!python -m spacy download en_core_web_lg"
   ]
  },
  {
   "cell_type": "code",
   "execution_count": null,
   "metadata": {
    "colab": {
     "base_uri": "https://localhost:8080/",
     "height": 1000
    },
    "id": "beYF8bCT24zc",
    "outputId": "b3e365da-12e6-4243-801a-b9e98bf68e8b"
   },
   "outputs": [],
   "source": [
    "!git clone https://github.com/megagonlabs/ditto\n",
    "%cd ditto\n",
    "!pip install -r requirements.txt\n",
    "!git clone https://github.com/rit-git/Snippext_public\n",
    "%cd Snippext_public\n",
    "!pip install -r requirements.txt\n",
    "%cd ..\n",
    "\n",
    "import nltk\n",
    "nltk.download('stopwords')"
   ]
  },
  {
   "cell_type": "code",
   "execution_count": null,
   "metadata": {
    "colab": {
     "base_uri": "https://localhost:8080/"
    },
    "id": "ONzTUwyC281Z",
    "outputId": "3bbba4b0-92b9-4579-adcc-60427e81551e"
   },
   "outputs": [],
   "source": [
    "!git clone https://github.com/NVIDIA/apex\n",
    "%cd apex\n",
    "!pip install -v --no-cache-dir ./\n",
    "%cd .."
   ]
  },
  {
   "cell_type": "code",
   "execution_count": null,
   "metadata": {
    "colab": {
     "base_uri": "https://localhost:8080/"
    },
    "id": "nj4WBBdh4JmW",
    "outputId": "c873daea-cfc5-4665-a040-8b71d43a5811"
   },
   "outputs": [],
   "source": [
    "# some issue with colab\n",
    "!pip install --upgrade \"urllib3==1.25.4\" awscli"
   ]
  },
  {
   "cell_type": "markdown",
   "metadata": {
    "id": "uHJvE3Dk2tCn"
   },
   "source": [
    "# Train"
   ]
  },
  {
   "cell_type": "code",
   "execution_count": null,
   "metadata": {
    "id": "hNGtvB3lzpXn"
   },
   "outputs": [],
   "source": [
    "import random\n",
    "import re\n",
    "\n",
    "\n",
    "\n",
    "file = open('data/er_magellan/Structured/Beer/train.txt','w')\n",
    "\n",
    "\n",
    "for movie in [m for m in ground_truth.keys()][0:int(0.6*len(ground_truth))]:\n",
    "    if movie not in movies_dic: continue\n",
    "    text = ' '.join(str(m).strip() for m in movies_dic[movie][0] if m not in ['', 'nan'])\n",
    "    #text = movie + ' ' + ' '.join(str(m).strip() for m in movies_dic[movie][0] if m not in ['', 'nan'])\n",
    "\n",
    "    text = re.sub('\\t',' ',text)\n",
    "\n",
    "\n",
    "    row = []\n",
    "    for r in ground_truth[movie]:\n",
    "        rev = re.sub('\\t',' ',review_ids[r])    \n",
    "        rev = re.sub('\\n',' ',rev)\n",
    "        rev = re.sub(' +',' ',rev)\n",
    "\n",
    "\n",
    "        file.write('COL movie VAL ' + text + '\\tCOL movie VAL ' + rev + '\\t1\\n' )\n",
    "\n",
    "        \n",
    "    for r in random.sample(review_ids.keys(),len(review_ids)):  \n",
    "        if r not in ground_truth[movie]:\n",
    "            rev = re.sub('\\t',' ',review_ids[r])  \n",
    "            rev = re.sub('\\n',' ',rev)\n",
    "            rev = re.sub(' +',' ',rev)\n",
    "\n",
    "\n",
    "            file.write('COL movie VAL ' + text + '\\tCOL movie VAL ' + rev + '\\t0\\n' )\n",
    "\n",
    "\n",
    "file = open('data/er_magellan/Structured/Beer/valid.txt','w')\n",
    "\n",
    "\n",
    "for movie in [m for m in ground_truth.keys()][int(0.5*len(ground_truth)):int(0.53*len(ground_truth))]:\n",
    "    if movie not in movies_dic: continue\n",
    "    text = ' '.join(str(m).strip() for m in movies_dic[movie][0] if m not in ['', 'nan'])\n",
    "    #text = movie + ' ' + ' '.join(str(m).strip() for m in movies_dic[movie][0] if m not in ['', 'nan'])\n",
    "\n",
    "    text = re.sub('\\t',' ',text)\n",
    "\n",
    "    row = []\n",
    "    for r in ground_truth[movie]:\n",
    "        rev = re.sub('\\t',' ',review_ids[r])    \n",
    "        rev = re.sub('\\n',' ',rev)\n",
    "        rev = re.sub(' +',' ',rev)\n",
    "\n",
    "        file.write('COL movie VAL ' + text + '\\tCOL movie VAL ' + rev + '\\t1\\n' )\n",
    "\n",
    "        \n",
    "    for r in random.sample(review_ids.keys(),len(review_ids)):  \n",
    "        if r not in ground_truth[movie]:\n",
    "            rev = re.sub('\\t',' ',review_ids[r])    \n",
    "            rev = re.sub('\\n',' ',rev)\n",
    "            rev = re.sub(' +',' ',rev)\n",
    "\n",
    "            file.write('COL movie VAL ' + text + '\\tCOL movie VAL ' + rev + '\\t0\\n' )\n",
    "\n",
    "\n",
    "\n",
    "\n",
    "file = open('data/er_magellan/Structured/Beer/test.txt','w')\n",
    "\n",
    "\n",
    "for movie in [m for m in ground_truth.keys()][int(0.55*len(ground_truth)):int(0.6*len(ground_truth))]:\n",
    "    if movie not in movies_dic: continue\n",
    "    text = ' '.join(str(m).strip() for m in movies_dic[movie][0] if m not in ['', 'nan'])\n",
    "    #text = movie + ' ' + ' '.join(str(m).strip() for m in movies_dic[movie][0] if m not in ['', 'nan'])\n",
    "\n",
    "    text = re.sub('\\t',' ',text)\n",
    "\n",
    "    row = []\n",
    "    for r in ground_truth[movie]:\n",
    "        rev = re.sub('\\t',' ',review_ids[r])    \n",
    "        rev = re.sub('\\n',' ',rev)\n",
    "        rev = re.sub(' +',' ',rev)\n",
    "      \n",
    "        file.write('COL movie VAL ' + text + '\\tCOL movie VAL ' + rev + '\\t1\\n' )\n",
    "        \n",
    "    for r in random.sample(review_ids.keys(),len(review_ids)):  \n",
    "        if r not in ground_truth[movie]:\n",
    "            rev = re.sub('\\t',' ',review_ids[r])    \n",
    "            rev = re.sub('\\n',' ',rev)\n",
    "            rev = re.sub(' +',' ',rev)\n",
    "\n",
    "            file.write('COL movie VAL ' + text + '\\tCOL movie VAL ' + rev + '\\t0\\n' )\n",
    "\n",
    "\n"
   ]
  },
  {
   "cell_type": "code",
   "execution_count": null,
   "metadata": {
    "colab": {
     "base_uri": "https://localhost:8080/"
    },
    "id": "xDgr7Swc22K-",
    "outputId": "dccad8fe-8a28-481e-f9fa-209dab3a6103"
   },
   "outputs": [],
   "source": [
    "# Step 1:\n",
    "# train the wdc model with the save_model flag on\n",
    "# it will produce two files *_dev.pt and *_test.pt which are the \n",
    "# best checkpoints on the dev set and the test set.\n",
    "import time\n",
    "st = time.time()\n",
    "!CUDA_VISIBLE_DEVICES=0 python train_ditto.py \\\n",
    "  --task Structured/Beer \\\n",
    "  --batch_size 128 \\\n",
    "  --max_len 128 \\\n",
    "  --lr 3e-5 \\\n",
    "  --n_epochs 2 \\\n",
    "  --finetuning \\\n",
    "  --lm distilbert \\\n",
    "  --fp16 \\\n",
    "  --save_model \\\n",
    "  --da drop_col\n",
    "\n",
    "print(time.time() - st)"
   ]
  },
  {
   "cell_type": "markdown",
   "metadata": {
    "id": "0Z97Zu1M4CzE"
   },
   "source": [
    "# Test"
   ]
  },
  {
   "cell_type": "code",
   "execution_count": null,
   "metadata": {
    "id": "-k2nAgHR4Fs0"
   },
   "outputs": [],
   "source": [
    "import re,json,random\n",
    "file = open('input/imdb_test.text','w')\n",
    "\n",
    "\n",
    "for movie in [m for m in ground_truth.keys()][int(0.5*len(ground_truth)):int(1*len(ground_truth))]:\n",
    "    if movie not in movies_dic: continue\n",
    "    text = ' '.join(str(m).strip() for m in movies_dic[movie][0] if m not in ['', 'nan'])\n",
    "    #text = movie + ' ' + ' '.join(str(m).strip() for m in movies_dic[movie][0] if m not in ['', 'nan'])\n",
    "\n",
    "    text = re.sub('\\t',' ',text)\n",
    "\n",
    "    row = []\n",
    "    for r in ground_truth[movie]:\n",
    "        rev = re.sub('\\t',' ',review_ids[r])    \n",
    "        rev = re.sub('\\n',' ',rev)\n",
    "        rev = re.sub(' +',' ',rev)\n",
    "        l = [{\"title\" : text}, {\"title\" : rev}]\n",
    "        file.write(json.dumps(l) + '\\n')\n",
    "        \n",
    "    for r in random.sample(review_ids.keys(),800):  \n",
    "        if r not in ground_truth[movie]:\n",
    "            rev = re.sub('\\t',' ',review_ids[r])    \n",
    "            rev = re.sub('\\n',' ',rev)\n",
    "            rev = re.sub(' +',' ',rev)\n",
    "            l = [{\"title\" : text}, {\"title\": rev}]\n",
    "            file.write(json.dumps(l) + '\\n')\n",
    "\n"
   ]
  },
  {
   "cell_type": "code",
   "execution_count": null,
   "metadata": {
    "colab": {
     "base_uri": "https://localhost:8080/"
    },
    "id": "ZaqjEHWYh863",
    "outputId": "f7afdfeb-9416-4040-e692-47efb1b551e4"
   },
   "outputs": [],
   "source": [
    "!mkdir checkpoints\n",
    "!mkdir checkpoints/Structured"
   ]
  },
  {
   "cell_type": "code",
   "execution_count": null,
   "metadata": {
    "id": "xs0jFDqiMki3"
   },
   "outputs": [],
   "source": [
    "!cp Structured_Beer_lm\\=distilbert_da\\=drop_col_dk\\=None_su\\=False_size\\=None_id\\=0_test.pt checkpoints/Structured/Beer.pt"
   ]
  },
  {
   "cell_type": "code",
   "execution_count": null,
   "metadata": {
    "colab": {
     "base_uri": "https://localhost:8080/"
    },
    "id": "tLfFN0KA4gN5",
    "outputId": "e0db546c-2cc8-4ab6-820f-e992bc48a7ea"
   },
   "outputs": [],
   "source": [
    "st = time.time()\n",
    "!CUDA_VISIBLE_DEVICES=0 python matcher.py \\\n",
    "  --input_path input/imdb_test.text \\\n",
    "  --output_path output/imdb_output.jsonl \\\n",
    "  --lm distilbert \\\n",
    "  --use_gpu \\\n",
    "  --fp16 \\\n",
    "  --checkpoint_path checkpoints/"
   ]
  },
  {
   "cell_type": "code",
   "execution_count": null,
   "metadata": {
    "id": "eIjcHE48iUtu"
   },
   "outputs": [],
   "source": [
    "from tqdm import tqdm \n",
    "file = open('output/imdb_output.jsonl','r')\n",
    "\n",
    "lines = []\n",
    "for r in file.readlines():\n",
    "  lines.append(r)\n"
   ]
  },
  {
   "cell_type": "code",
   "execution_count": null,
   "metadata": {
    "colab": {
     "base_uri": "https://localhost:8080/"
    },
    "id": "dd9fECAGi0Iv",
    "outputId": "65a3b536-e667-46bf-b674-3b3f7647aab3"
   },
   "outputs": [],
   "source": [
    "from tqdm import tqdm \n",
    "\n",
    "ditto_movie = {}\n",
    "\n",
    "for movie in tqdm([m for m in ground_truth.keys()][int(0.5*len(ground_truth)):int(1*len(ground_truth))],position=0):\n",
    "    if movie not in movies_dic: continue\n",
    "\n",
    "    ditto_movie [movie] = {}\n",
    "    text = ' '.join(str(m).strip() for m in movies_dic[movie][0] if m not in ['', 'nan'])\n",
    "    #text = movie + ' ' + ' '.join(str(m).strip() for m in movies_dic[movie][0] if m not in ['', 'nan'])\n",
    "\n",
    "    temp = {}\n",
    "    for l in lines:\n",
    "      ll = json.loads(l)\n",
    "\n",
    "      if ll['left']['title'] == text:\n",
    "        rev = ll['right']['title']\n",
    "\n",
    "        if rev not in id_revs: continue\n",
    "    \n",
    "        \n",
    "        if ll['match'] == '0': \n",
    "          score = 1 - ll['match_confidence']\n",
    "        else:\n",
    "          score = ll['match_confidence']\n",
    "\n",
    "        temp[id_revs[rev]] = score\n",
    "      \n",
    "    ditto_movie[movie] = dict(sorted(temp.items(), key=lambda x: x[1],reverse=True))\n",
    "\n",
    "\n"
   ]
  },
  {
   "cell_type": "code",
   "execution_count": null,
   "metadata": {
    "colab": {
     "base_uri": "https://localhost:8080/"
    },
    "id": "YyESv2pKQIn2",
    "outputId": "1480a193-cd69-4a39-9306-951c260b9e24"
   },
   "outputs": [],
   "source": [
    "for KK in [1,5,20,500]: \n",
    "    i = 0\n",
    "    precision,recall,fs = 0,0,0\n",
    "    MAP, MR, hasP = 0,0,0\n",
    "\n",
    "    for movie in ditto_movie:\n",
    "        if movie not in ground_truth: continue\n",
    "        #if row_ids[movie] not in movie_review_d2v: continue\n",
    "        \n",
    "        preds =  [f for (f,j) in   sorted(ditto_movie[movie].items(), key=lambda x: x[1],reverse=True)  ][0:KK]\n",
    "\n",
    "        if len(preds) == 0: continue\n",
    "        golds = [f for f in ground_truth[movie]]\n",
    "        i+=1\n",
    "\n",
    "        MAP += MAP_K(golds,preds)\n",
    "        MR += MRRR(golds,preds)\n",
    "        hasP += HAS_POSITIVE(golds,preds)\n",
    "        \n",
    "    print('\\n#################### ' + str(KK) + ' ###########################\\n')\n",
    "    print('MRR:',MR/i,'MAP:',MAP/i, 'HAS POSITIVE:', hasP/i)\n"
   ]
  }
 ],
 "metadata": {
  "accelerator": "GPU",
  "colab": {
   "collapsed_sections": [],
   "machine_shape": "hm",
   "name": "ditto_IMDB.ipynb",
   "provenance": []
  },
  "kernelspec": {
   "display_name": "Python 3",
   "language": "python",
   "name": "python3"
  },
  "language_info": {
   "codemirror_mode": {
    "name": "ipython",
    "version": 3
   },
   "file_extension": ".py",
   "mimetype": "text/x-python",
   "name": "python",
   "nbconvert_exporter": "python",
   "pygments_lexer": "ipython3",
   "version": "3.6.13"
  }
 },
 "nbformat": 4,
 "nbformat_minor": 1
}
