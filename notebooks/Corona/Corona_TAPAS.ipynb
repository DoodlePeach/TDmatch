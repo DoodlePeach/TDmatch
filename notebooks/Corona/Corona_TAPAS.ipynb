{
 "cells": [
  {
   "cell_type": "code",
   "execution_count": 1,
   "metadata": {
    "colab": {
     "base_uri": "https://localhost:8080/"
    },
    "executionInfo": {
     "elapsed": 349352,
     "status": "ok",
     "timestamp": 1634634646694,
     "user": {
      "displayName": "Naser Ahmadi",
      "photoUrl": "https://lh3.googleusercontent.com/a/default-user=s64",
      "userId": "05278100254213815910"
     },
     "user_tz": -120
    },
    "id": "NvDNRuvAKPuQ",
    "outputId": "017d666e-06e6-4e83-8203-fe94a3218c93"
   },
   "outputs": [
    {
     "name": "stdout",
     "output_type": "stream",
     "text": [
      "Looking in links: https://pytorch-geometric.com/whl/torch-1.7.0+cu102.html\n",
      "Collecting torch-scatter==2.0.2\n",
      "  Downloading torch_scatter-2.0.2.tar.gz (22 kB)\n",
      "Building wheels for collected packages: torch-scatter\n",
      "  Building wheel for torch-scatter (setup.py) ... \u001b[?25l\u001b[?25hdone\n",
      "  Created wheel for torch-scatter: filename=torch_scatter-2.0.2-cp37-cp37m-linux_x86_64.whl size=7756361 sha256=eb8824bc5018e7c9bdab770a16143c36d5bca6ce7424966f66e32bd6716de51f\n",
      "  Stored in directory: /root/.cache/pip/wheels/68/94/3a/203b4e701bab9db29f54b9462e62de45e54b0bf63b4ea5ced6\n",
      "Successfully built torch-scatter\n",
      "Installing collected packages: torch-scatter\n",
      "Successfully installed torch-scatter-2.0.2\n"
     ]
    }
   ],
   "source": [
    "!pip install torch-scatter==2.0.2 -f https://pytorch-geometric.com/whl/torch-1.7.0+cu102.html"
   ]
  },
  {
   "cell_type": "code",
   "execution_count": 2,
   "metadata": {
    "colab": {
     "base_uri": "https://localhost:8080/"
    },
    "executionInfo": {
     "elapsed": 27850,
     "status": "ok",
     "timestamp": 1634634674537,
     "user": {
      "displayName": "Naser Ahmadi",
      "photoUrl": "https://lh3.googleusercontent.com/a/default-user=s64",
      "userId": "05278100254213815910"
     },
     "user_tz": -120
    },
    "id": "WLyIY_XRRwpN",
    "outputId": "52f8185b-3a57-4dca-ee79-889a5b19a6a1"
   },
   "outputs": [
    {
     "name": "stdout",
     "output_type": "stream",
     "text": [
      "rm: cannot remove 'transformers': No such file or directory\n",
      "Cloning into 'transformers'...\n",
      "remote: Enumerating objects: 86905, done.\u001b[K\n",
      "remote: Counting objects: 100% (11/11), done.\u001b[K\n",
      "remote: Compressing objects: 100% (9/9), done.\u001b[K\n",
      "remote: Total 86905 (delta 3), reused 2 (delta 0), pack-reused 86894\u001b[K\n",
      "Receiving objects: 100% (86905/86905), 69.89 MiB | 22.92 MiB/s, done.\n",
      "Resolving deltas: 100% (62534/62534), done.\n",
      "Processing ./transformers\n",
      "\u001b[33m  DEPRECATION: A future pip version will change local packages to be built in-place without first copying to a temporary directory. We recommend you use --use-feature=in-tree-build to test your packages with this new behavior before it becomes the default.\n",
      "   pip 21.3 will remove support for this functionality. You can find discussion regarding this at https://github.com/pypa/pip/issues/7555.\u001b[0m\n",
      "  Installing build dependencies ... \u001b[?25l\u001b[?25hdone\n",
      "  Getting requirements to build wheel ... \u001b[?25l\u001b[?25hdone\n",
      "    Preparing wheel metadata ... \u001b[?25l\u001b[?25hdone\n",
      "Collecting sacremoses\n",
      "  Downloading sacremoses-0.0.46-py3-none-any.whl (895 kB)\n",
      "\u001b[K     |████████████████████████████████| 895 kB 11.6 MB/s \n",
      "\u001b[?25hCollecting huggingface-hub>=0.0.17\n",
      "  Downloading huggingface_hub-0.0.19-py3-none-any.whl (56 kB)\n",
      "\u001b[K     |████████████████████████████████| 56 kB 5.2 MB/s \n",
      "\u001b[?25hRequirement already satisfied: tqdm>=4.27 in /usr/local/lib/python3.7/dist-packages (from transformers==4.12.0.dev0) (4.62.3)\n",
      "Requirement already satisfied: importlib-metadata in /usr/local/lib/python3.7/dist-packages (from transformers==4.12.0.dev0) (4.8.1)\n",
      "Requirement already satisfied: filelock in /usr/local/lib/python3.7/dist-packages (from transformers==4.12.0.dev0) (3.3.0)\n",
      "Collecting pyyaml>=5.1\n",
      "  Downloading PyYAML-6.0-cp37-cp37m-manylinux_2_5_x86_64.manylinux1_x86_64.manylinux_2_12_x86_64.manylinux2010_x86_64.whl (596 kB)\n",
      "\u001b[K     |████████████████████████████████| 596 kB 40.0 MB/s \n",
      "\u001b[?25hRequirement already satisfied: regex!=2019.12.17 in /usr/local/lib/python3.7/dist-packages (from transformers==4.12.0.dev0) (2019.12.20)\n",
      "Requirement already satisfied: packaging>=20.0 in /usr/local/lib/python3.7/dist-packages (from transformers==4.12.0.dev0) (21.0)\n",
      "Collecting tokenizers<0.11,>=0.10.1\n",
      "  Downloading tokenizers-0.10.3-cp37-cp37m-manylinux_2_5_x86_64.manylinux1_x86_64.manylinux_2_12_x86_64.manylinux2010_x86_64.whl (3.3 MB)\n",
      "\u001b[K     |████████████████████████████████| 3.3 MB 35.5 MB/s \n",
      "\u001b[?25hRequirement already satisfied: requests in /usr/local/lib/python3.7/dist-packages (from transformers==4.12.0.dev0) (2.23.0)\n",
      "Requirement already satisfied: numpy>=1.17 in /usr/local/lib/python3.7/dist-packages (from transformers==4.12.0.dev0) (1.19.5)\n",
      "Requirement already satisfied: typing-extensions in /usr/local/lib/python3.7/dist-packages (from huggingface-hub>=0.0.17->transformers==4.12.0.dev0) (3.7.4.3)\n",
      "Requirement already satisfied: pyparsing>=2.0.2 in /usr/local/lib/python3.7/dist-packages (from packaging>=20.0->transformers==4.12.0.dev0) (2.4.7)\n",
      "Requirement already satisfied: zipp>=0.5 in /usr/local/lib/python3.7/dist-packages (from importlib-metadata->transformers==4.12.0.dev0) (3.6.0)\n",
      "Requirement already satisfied: chardet<4,>=3.0.2 in /usr/local/lib/python3.7/dist-packages (from requests->transformers==4.12.0.dev0) (3.0.4)\n",
      "Requirement already satisfied: certifi>=2017.4.17 in /usr/local/lib/python3.7/dist-packages (from requests->transformers==4.12.0.dev0) (2021.5.30)\n",
      "Requirement already satisfied: urllib3!=1.25.0,!=1.25.1,<1.26,>=1.21.1 in /usr/local/lib/python3.7/dist-packages (from requests->transformers==4.12.0.dev0) (1.24.3)\n",
      "Requirement already satisfied: idna<3,>=2.5 in /usr/local/lib/python3.7/dist-packages (from requests->transformers==4.12.0.dev0) (2.10)\n",
      "Requirement already satisfied: click in /usr/local/lib/python3.7/dist-packages (from sacremoses->transformers==4.12.0.dev0) (7.1.2)\n",
      "Requirement already satisfied: joblib in /usr/local/lib/python3.7/dist-packages (from sacremoses->transformers==4.12.0.dev0) (1.0.1)\n",
      "Requirement already satisfied: six in /usr/local/lib/python3.7/dist-packages (from sacremoses->transformers==4.12.0.dev0) (1.15.0)\n",
      "Building wheels for collected packages: transformers\n",
      "  Building wheel for transformers (PEP 517) ... \u001b[?25l\u001b[?25hdone\n",
      "  Created wheel for transformers: filename=transformers-4.12.0.dev0-py3-none-any.whl size=2993398 sha256=61b67b53bfd6aa24beb94c562bf9962b589abf53874860971a1e2d95c51a9fc4\n",
      "  Stored in directory: /tmp/pip-ephem-wheel-cache-q2w2aws3/wheels/49/62/f4/6730819eed4e6468662b1519bf3bf46419b2335990c77f8767\n",
      "Successfully built transformers\n",
      "Installing collected packages: pyyaml, tokenizers, sacremoses, huggingface-hub, transformers\n",
      "  Attempting uninstall: pyyaml\n",
      "    Found existing installation: PyYAML 3.13\n",
      "    Uninstalling PyYAML-3.13:\n",
      "      Successfully uninstalled PyYAML-3.13\n",
      "Successfully installed huggingface-hub-0.0.19 pyyaml-6.0 sacremoses-0.0.46 tokenizers-0.10.3 transformers-4.12.0.dev0\n"
     ]
    }
   ],
   "source": [
    "! rm -r transformers\n",
    "! git clone https://github.com/huggingface/transformers.git\n",
    "! cd transformers\n",
    "! pip install ./transformers"
   ]
  },
  {
   "cell_type": "markdown",
   "metadata": {
    "id": "gF-OReITX2h4"
   },
   "source": [
    "# Prepare Data"
   ]
  },
  {
   "cell_type": "code",
   "execution_count": 2,
   "metadata": {
    "executionInfo": {
     "elapsed": 517,
     "status": "ok",
     "timestamp": 1634643464465,
     "user": {
      "displayName": "Naser Ahmadi",
      "photoUrl": "https://lh3.googleusercontent.com/a/default-user=s64",
      "userId": "05278100254213815910"
     },
     "user_tz": -120
    },
    "id": "K_77v3P7X5Nk"
   },
   "outputs": [],
   "source": [
    "import pickle\n",
    "all_claims = pickle.load(open('../../data/corona/corona_allClaims','rb'))\n",
    "user_claims = pickle.load(open('../../data/corona/user_claims.pkl','rb'))\n",
    "all_tables = pickle.load(open('../../data/corona/corona_tables','rb'))\n",
    "ground_truth = pickle.load(open('../../data/corona/corona_GT.pkl','rb'))"
   ]
  },
  {
   "cell_type": "code",
   "execution_count": 3,
   "metadata": {
    "executionInfo": {
     "elapsed": 4,
     "status": "ok",
     "timestamp": 1634643464910,
     "user": {
      "displayName": "Naser Ahmadi",
      "photoUrl": "https://lh3.googleusercontent.com/a/default-user=s64",
      "userId": "05278100254213815910"
     },
     "user_tz": -120
    },
    "id": "V8mSr7mqZYyy"
   },
   "outputs": [],
   "source": [
    "import pandas as pd\n",
    "\n",
    "corona_tables = []\n",
    "header = ['id','info']\n",
    "\n",
    "i = 0\n",
    "for t in all_tables:\n",
    "  r = ' '.join(t)\n",
    "\n",
    "  corona_tables.append([i, ' '.join(t)])\n",
    "  i += 1\n",
    "\n",
    "df = pd.DataFrame(corona_tables,columns=header)\n",
    "df.to_csv('corona.csv',index=False)\n"
   ]
  },
  {
   "cell_type": "code",
   "execution_count": 4,
   "metadata": {
    "executionInfo": {
     "elapsed": 4,
     "status": "ok",
     "timestamp": 1634643464911,
     "user": {
      "displayName": "Naser Ahmadi",
      "photoUrl": "https://lh3.googleusercontent.com/a/default-user=s64",
      "userId": "05278100254213815910"
     },
     "user_tz": -120
    },
    "id": "LtyoYO8fUjlw"
   },
   "outputs": [],
   "source": [
    "import os\n",
    "#os.mkdir('tables')\n",
    "chunks = [corona_tables[x:x+1000] for x in range(0, len(corona_tables), 1000)]\n",
    "row_address = {}\n",
    "for i in range(0,len(chunks)):\n",
    "  df = pd.DataFrame(chunks[i],columns=header)\n",
    "  df.to_csv(f'table_{i}.csv',index=False)\n",
    "\n",
    "  for r in chunks[i]:\n",
    "    row_address[r[1]] = (f'table_{i}.csv', chunks[i].index(r)   ) "
   ]
  },
  {
   "cell_type": "code",
   "execution_count": 5,
   "metadata": {
    "executionInfo": {
     "elapsed": 4,
     "status": "ok",
     "timestamp": 1634643464911,
     "user": {
      "displayName": "Naser Ahmadi",
      "photoUrl": "https://lh3.googleusercontent.com/a/default-user=s64",
      "userId": "05278100254213815910"
     },
     "user_tz": -120
    },
    "id": "zt4LKFskX5At"
   },
   "outputs": [],
   "source": [
    "header = ['question','table_file','answer_coordinates','answer_text']\n",
    "table = []\n",
    "\n",
    "for q in ground_truth:\n",
    "  if len(ground_truth[q]) == 0 : continue\n",
    "  #if q not in user_claims: continue\n",
    "  for t in ground_truth[q]:\n",
    "    ind = row_address[t][1]\n",
    "    row = [q]\n",
    "    cor,ans = [f'({ind},{1})'],[t]\n",
    "\n",
    "    tfile = '' + row_address[t][0]\n",
    "\n",
    "    row.append(tfile)\n",
    "  \n",
    "    row.append(cor)\n",
    "    row.append(ans)\n",
    "\n",
    "    table.append(row)\n",
    "\n",
    "\n",
    "df = pd.DataFrame(table,columns=header)"
   ]
  },
  {
   "cell_type": "code",
   "execution_count": 6,
   "metadata": {
    "executionInfo": {
     "elapsed": 482,
     "status": "ok",
     "timestamp": 1634643465389,
     "user": {
      "displayName": "Naser Ahmadi",
      "photoUrl": "https://lh3.googleusercontent.com/a/default-user=s64",
      "userId": "05278100254213815910"
     },
     "user_tz": -120
    },
    "id": "CpZfqvopX40M"
   },
   "outputs": [],
   "source": [
    "from sklearn.model_selection import train_test_split\n",
    "\n",
    "train, test = train_test_split(df, test_size=0.3)\n",
    "\n",
    "train.to_csv('queries_train.csv',index=False)\n",
    "test.to_csv('queries_test.csv',index=False)"
   ]
  },
  {
   "cell_type": "markdown",
   "metadata": {
    "id": "EPrYJOn81f0D"
   },
   "source": [
    "## Prepare the data \n",
    "\n",
    "Let's look at the first few rows of the dataset:"
   ]
  },
  {
   "cell_type": "code",
   "execution_count": 8,
   "metadata": {
    "colab": {
     "base_uri": "https://localhost:8080/",
     "height": 204
    },
    "executionInfo": {
     "elapsed": 526,
     "status": "ok",
     "timestamp": 1634643477341,
     "user": {
      "displayName": "Naser Ahmadi",
      "photoUrl": "https://lh3.googleusercontent.com/a/default-user=s64",
      "userId": "05278100254213815910"
     },
     "user_tz": -120
    },
    "id": "2X27wyd805D8",
    "outputId": "61bf5f54-6065-43d8-dac5-cc20ab1d8adc"
   },
   "outputs": [
    {
     "data": {
      "text/html": [
       "<div>\n",
       "<style scoped>\n",
       "    .dataframe tbody tr th:only-of-type {\n",
       "        vertical-align: middle;\n",
       "    }\n",
       "\n",
       "    .dataframe tbody tr th {\n",
       "        vertical-align: top;\n",
       "    }\n",
       "\n",
       "    .dataframe thead th {\n",
       "        text-align: right;\n",
       "    }\n",
       "</style>\n",
       "<table border=\"1\" class=\"dataframe\">\n",
       "  <thead>\n",
       "    <tr style=\"text-align: right;\">\n",
       "      <th></th>\n",
       "      <th>question</th>\n",
       "      <th>table_file</th>\n",
       "      <th>answer_coordinates</th>\n",
       "      <th>answer_text</th>\n",
       "    </tr>\n",
       "  </thead>\n",
       "  <tbody>\n",
       "    <tr>\n",
       "      <th>0</th>\n",
       "      <td>the total death in russia is below 10000.</td>\n",
       "      <td>table_11.csv</td>\n",
       "      <td>['(5,1)']</td>\n",
       "      <td>['total deaths russia 0 0 17 1073 4693 5031']</td>\n",
       "    </tr>\n",
       "    <tr>\n",
       "      <th>1</th>\n",
       "      <td>death count in france is 120 persons</td>\n",
       "      <td>table_10.csv</td>\n",
       "      <td>['(27,1)']</td>\n",
       "      <td>['total deaths france 0 2 3532 24379 28805 289...</td>\n",
       "    </tr>\n",
       "    <tr>\n",
       "      <th>2</th>\n",
       "      <td>the death rate in america is much higher than ...</td>\n",
       "      <td>table_4.csv</td>\n",
       "      <td>['(48,1)']</td>\n",
       "      <td>['total confirmed france 5 100 52827 167299 18...</td>\n",
       "    </tr>\n",
       "    <tr>\n",
       "      <th>3</th>\n",
       "      <td>qatar has 1000 cases so far.</td>\n",
       "      <td>table_5.csv</td>\n",
       "      <td>['(24,1)']</td>\n",
       "      <td>['total confirmed qatar 0 1 781 13409 56910 60...</td>\n",
       "    </tr>\n",
       "    <tr>\n",
       "      <th>4</th>\n",
       "      <td>there are more than 1000 cases in france</td>\n",
       "      <td>table_4.csv</td>\n",
       "      <td>['(48,1)']</td>\n",
       "      <td>['total confirmed france 5 100 52827 167299 18...</td>\n",
       "    </tr>\n",
       "  </tbody>\n",
       "</table>\n",
       "</div>"
      ],
      "text/plain": [
       "                                            question  ...                                        answer_text\n",
       "0          the total death in russia is below 10000.  ...      ['total deaths russia 0 0 17 1073 4693 5031']\n",
       "1               death count in france is 120 persons  ...  ['total deaths france 0 2 3532 24379 28805 289...\n",
       "2  the death rate in america is much higher than ...  ...  ['total confirmed france 5 100 52827 167299 18...\n",
       "3                       qatar has 1000 cases so far.  ...  ['total confirmed qatar 0 1 781 13409 56910 60...\n",
       "4           there are more than 1000 cases in france  ...  ['total confirmed france 5 100 52827 167299 18...\n",
       "\n",
       "[5 rows x 4 columns]"
      ]
     },
     "execution_count": 8,
     "metadata": {},
     "output_type": "execute_result"
    }
   ],
   "source": [
    "import pandas as pd\n",
    "data = pd.read_csv(\"queries_train.csv\")\n",
    "data.head()"
   ]
  },
  {
   "cell_type": "code",
   "execution_count": 9,
   "metadata": {
    "colab": {
     "base_uri": "https://localhost:8080/",
     "height": 359
    },
    "executionInfo": {
     "elapsed": 4,
     "status": "ok",
     "timestamp": 1634643477762,
     "user": {
      "displayName": "Naser Ahmadi",
      "photoUrl": "https://lh3.googleusercontent.com/a/default-user=s64",
      "userId": "05278100254213815910"
     },
     "user_tz": -120
    },
    "id": "BAovAs5s1k10",
    "outputId": "3f991d71-33f9-4e11-ba80-b389114d62ad"
   },
   "outputs": [
    {
     "data": {
      "text/html": [
       "<div>\n",
       "<style scoped>\n",
       "    .dataframe tbody tr th:only-of-type {\n",
       "        vertical-align: middle;\n",
       "    }\n",
       "\n",
       "    .dataframe tbody tr th {\n",
       "        vertical-align: top;\n",
       "    }\n",
       "\n",
       "    .dataframe thead th {\n",
       "        text-align: right;\n",
       "    }\n",
       "</style>\n",
       "<table border=\"1\" class=\"dataframe\">\n",
       "  <thead>\n",
       "    <tr style=\"text-align: right;\">\n",
       "      <th></th>\n",
       "      <th>question</th>\n",
       "      <th>table_file</th>\n",
       "      <th>answer_coordinates</th>\n",
       "      <th>answer_text</th>\n",
       "    </tr>\n",
       "  </thead>\n",
       "  <tbody>\n",
       "    <tr>\n",
       "      <th>0</th>\n",
       "      <td>the total death in russia is below 10000.</td>\n",
       "      <td>table_11.csv</td>\n",
       "      <td>[(5, 1)]</td>\n",
       "      <td>[total deaths russia 0 0 17 1073 4693 5031]</td>\n",
       "    </tr>\n",
       "    <tr>\n",
       "      <th>1</th>\n",
       "      <td>death count in france is 120 persons</td>\n",
       "      <td>table_10.csv</td>\n",
       "      <td>[(27, 1)]</td>\n",
       "      <td>[total deaths france 0 2 3532 24379 28805 28943]</td>\n",
       "    </tr>\n",
       "    <tr>\n",
       "      <th>2</th>\n",
       "      <td>the death rate in america is much higher than ...</td>\n",
       "      <td>table_4.csv</td>\n",
       "      <td>[(48, 1)]</td>\n",
       "      <td>[total confirmed france 5 100 52827 167299 189...</td>\n",
       "    </tr>\n",
       "    <tr>\n",
       "      <th>3</th>\n",
       "      <td>qatar has 1000 cases so far.</td>\n",
       "      <td>table_5.csv</td>\n",
       "      <td>[(24, 1)]</td>\n",
       "      <td>[total confirmed qatar 0 1 781 13409 56910 60259]</td>\n",
       "    </tr>\n",
       "    <tr>\n",
       "      <th>4</th>\n",
       "      <td>there are more than 1000 cases in france</td>\n",
       "      <td>table_4.csv</td>\n",
       "      <td>[(48, 1)]</td>\n",
       "      <td>[total confirmed france 5 100 52827 167299 189...</td>\n",
       "    </tr>\n",
       "    <tr>\n",
       "      <th>5</th>\n",
       "      <td>the number of cases in france is higher than i...</td>\n",
       "      <td>table_4.csv</td>\n",
       "      <td>[(52, 1)]</td>\n",
       "      <td>[total confirmed germany 5 79 71808 163009 183...</td>\n",
       "    </tr>\n",
       "    <tr>\n",
       "      <th>6</th>\n",
       "      <td>the number of deaths in italy is 8000</td>\n",
       "      <td>table_10.csv</td>\n",
       "      <td>[(50, 1)]</td>\n",
       "      <td>[total deaths italy 0 29 12428 27967 33415 33530]</td>\n",
       "    </tr>\n",
       "    <tr>\n",
       "      <th>7</th>\n",
       "      <td>france has the most confirmed cases in europe.</td>\n",
       "      <td>table_4.csv</td>\n",
       "      <td>[(48, 1)]</td>\n",
       "      <td>[total confirmed france 5 100 52827 167299 189...</td>\n",
       "    </tr>\n",
       "    <tr>\n",
       "      <th>8</th>\n",
       "      <td>death number in iran is higher than the us</td>\n",
       "      <td>table_11.csv</td>\n",
       "      <td>[(39, 1)]</td>\n",
       "      <td>[total deaths us 0 1 5367 62996 104381 106180]</td>\n",
       "    </tr>\n",
       "    <tr>\n",
       "      <th>9</th>\n",
       "      <td>the death rate in the world is 20%</td>\n",
       "      <td>table_5.csv</td>\n",
       "      <td>[(74, 1)]</td>\n",
       "      <td>[total confirmed world 9927 86011 857608 32569...</td>\n",
       "    </tr>\n",
       "  </tbody>\n",
       "</table>\n",
       "</div>"
      ],
      "text/plain": [
       "                                            question  ...                                        answer_text\n",
       "0          the total death in russia is below 10000.  ...        [total deaths russia 0 0 17 1073 4693 5031]\n",
       "1               death count in france is 120 persons  ...   [total deaths france 0 2 3532 24379 28805 28943]\n",
       "2  the death rate in america is much higher than ...  ...  [total confirmed france 5 100 52827 167299 189...\n",
       "3                       qatar has 1000 cases so far.  ...  [total confirmed qatar 0 1 781 13409 56910 60259]\n",
       "4           there are more than 1000 cases in france  ...  [total confirmed france 5 100 52827 167299 189...\n",
       "5  the number of cases in france is higher than i...  ...  [total confirmed germany 5 79 71808 163009 183...\n",
       "6              the number of deaths in italy is 8000  ...  [total deaths italy 0 29 12428 27967 33415 33530]\n",
       "7    france has the most confirmed cases in europe.   ...  [total confirmed france 5 100 52827 167299 189...\n",
       "8         death number in iran is higher than the us  ...     [total deaths us 0 1 5367 62996 104381 106180]\n",
       "9                 the death rate in the world is 20%  ...  [total confirmed world 9927 86011 857608 32569...\n",
       "\n",
       "[10 rows x 4 columns]"
      ]
     },
     "execution_count": 9,
     "metadata": {},
     "output_type": "execute_result"
    }
   ],
   "source": [
    "import ast\n",
    "\n",
    "def _parse_answer_coordinates(answer_coordinate_str):\n",
    "  \"\"\"Parses the answer_coordinates of a question.\n",
    "  Args:\n",
    "    answer_coordinate_str: A string representation of a Python list of tuple\n",
    "      strings.\n",
    "      For example: \"['(1, 4)','(1, 3)', ...]\"\n",
    "  \"\"\"\n",
    "\n",
    "  try:\n",
    "    answer_coordinates = []\n",
    "    # make a list of strings\n",
    "    coords = ast.literal_eval(answer_coordinate_str)\n",
    "    # parse each string as a tuple\n",
    "    for row_index, column_index in sorted(\n",
    "        ast.literal_eval(coord) for coord in coords):\n",
    "      answer_coordinates.append((row_index, column_index))\n",
    "  except SyntaxError:\n",
    "    raise ValueError('Unable to evaluate %s' % answer_coordinate_str)\n",
    "  \n",
    "  return answer_coordinates\n",
    "\n",
    "\n",
    "def _parse_answer_text(answer_text):\n",
    "  \"\"\"Populates the answer_texts field of `answer` by parsing `answer_text`.\n",
    "  Args:\n",
    "    answer_text: A string representation of a Python list of strings.\n",
    "      For example: \"[u'test', u'hello', ...]\"\n",
    "    answer: an Answer object.\n",
    "  \"\"\"\n",
    "  try:\n",
    "    answer = []\n",
    "    for value in ast.literal_eval(answer_text):\n",
    "      answer.append(value)\n",
    "  except SyntaxError:\n",
    "    raise ValueError('Unable to evaluate %s' % answer_text)\n",
    "\n",
    "  return answer\n",
    "\n",
    "data['answer_coordinates'] = data['answer_coordinates'].apply(lambda coords_str: _parse_answer_coordinates(coords_str))\n",
    "data['answer_text'] = data['answer_text'].apply(lambda txt: _parse_answer_text(txt))\n",
    "\n",
    "data.head(10)"
   ]
  },
  {
   "cell_type": "code",
   "execution_count": 46,
   "metadata": {
    "colab": {
     "base_uri": "https://localhost:8080/",
     "height": 204
    },
    "executionInfo": {
     "elapsed": 370,
     "status": "ok",
     "timestamp": 1634642467610,
     "user": {
      "displayName": "Naser Ahmadi",
      "photoUrl": "https://lh3.googleusercontent.com/a/default-user=s64",
      "userId": "05278100254213815910"
     },
     "user_tz": -120
    },
    "id": "rSuU56SmJC9W",
    "outputId": "d1d8a3c6-d544-436d-9872-9f1b1021bbad"
   },
   "outputs": [
    {
     "data": {
      "text/html": [
       "<div>\n",
       "<style scoped>\n",
       "    .dataframe tbody tr th:only-of-type {\n",
       "        vertical-align: middle;\n",
       "    }\n",
       "\n",
       "    .dataframe tbody tr th {\n",
       "        vertical-align: top;\n",
       "    }\n",
       "\n",
       "    .dataframe thead th {\n",
       "        text-align: right;\n",
       "    }\n",
       "</style>\n",
       "<table border=\"1\" class=\"dataframe\">\n",
       "  <thead>\n",
       "    <tr style=\"text-align: right;\">\n",
       "      <th></th>\n",
       "      <th>question</th>\n",
       "      <th>table_file</th>\n",
       "      <th>answer_coordinates</th>\n",
       "      <th>answer_text</th>\n",
       "    </tr>\n",
       "  </thead>\n",
       "  <tbody>\n",
       "    <tr>\n",
       "      <th>34</th>\n",
       "      <td>there are 200000 deaths in china.</td>\n",
       "      <td>table_10.csv</td>\n",
       "      <td>[(1, 1)]</td>\n",
       "      <td>[total deaths china 213 2837 3309 4637 4638 4638]</td>\n",
       "    </tr>\n",
       "    <tr>\n",
       "      <th>15</th>\n",
       "      <td>there are 30 cases in morocco</td>\n",
       "      <td>table_5.csv</td>\n",
       "      <td>[(4, 1)]</td>\n",
       "      <td>[total confirmed morocco 0 0 617 4423 7807 7866]</td>\n",
       "    </tr>\n",
       "    <tr>\n",
       "      <th>8</th>\n",
       "      <td>the total death in russia is below 10000.</td>\n",
       "      <td>table_11.csv</td>\n",
       "      <td>[(5, 1)]</td>\n",
       "      <td>[total deaths russia 0 0 17 1073 4693 5031]</td>\n",
       "    </tr>\n",
       "    <tr>\n",
       "      <th>13</th>\n",
       "      <td>the death rate in america more than china</td>\n",
       "      <td>table_4.csv</td>\n",
       "      <td>[(22, 1)]</td>\n",
       "      <td>[total confirmed china 9802 79356 82279 83956 ...</td>\n",
       "    </tr>\n",
       "    <tr>\n",
       "      <th>28</th>\n",
       "      <td>there are 30 cases in colombia</td>\n",
       "      <td>table_4.csv</td>\n",
       "      <td>[(23, 1)]</td>\n",
       "      <td>[total confirmed colombia 0 0 906 6507 27219 3...</td>\n",
       "    </tr>\n",
       "  </tbody>\n",
       "</table>\n",
       "</div>"
      ],
      "text/plain": [
       "                                     question  ...                                        answer_text\n",
       "34          there are 200000 deaths in china.  ...  [total deaths china 213 2837 3309 4637 4638 4638]\n",
       "15              there are 30 cases in morocco  ...   [total confirmed morocco 0 0 617 4423 7807 7866]\n",
       "8   the total death in russia is below 10000.  ...        [total deaths russia 0 0 17 1073 4693 5031]\n",
       "13  the death rate in america more than china  ...  [total confirmed china 9802 79356 82279 83956 ...\n",
       "28             there are 30 cases in colombia  ...  [total confirmed colombia 0 0 906 6507 27219 3...\n",
       "\n",
       "[5 rows x 4 columns]"
      ]
     },
     "execution_count": 46,
     "metadata": {},
     "output_type": "execute_result"
    }
   ],
   "source": [
    "data = data.sort_values(by=['answer_coordinates'], ascending=True)\n",
    "data.head()"
   ]
  },
  {
   "cell_type": "code",
   "execution_count": 10,
   "metadata": {
    "executionInfo": {
     "elapsed": 3333,
     "status": "ok",
     "timestamp": 1634643485014,
     "user": {
      "displayName": "Naser Ahmadi",
      "photoUrl": "https://lh3.googleusercontent.com/a/default-user=s64",
      "userId": "05278100254213815910"
     },
     "user_tz": -120
    },
    "id": "t5iU5byAICWb"
   },
   "outputs": [],
   "source": [
    "import torch\n",
    "from transformers import TapasTokenizer\n",
    "table_csv_path = ''\n",
    "\n",
    "# initialize the tokenizer\n",
    "tokenizer = TapasTokenizer.from_pretrained(\"google/tapas-base\",drop_rows_to_fit=True)"
   ]
  },
  {
   "cell_type": "code",
   "execution_count": 48,
   "metadata": {
    "colab": {
     "base_uri": "https://localhost:8080/",
     "height": 453
    },
    "executionInfo": {
     "elapsed": 915,
     "status": "ok",
     "timestamp": 1634642499310,
     "user": {
      "displayName": "Naser Ahmadi",
      "photoUrl": "https://lh3.googleusercontent.com/a/default-user=s64",
      "userId": "05278100254213815910"
     },
     "user_tz": -120
    },
    "id": "DJLmPPIZ0L39",
    "outputId": "1c30a767-2a0e-482d-889d-53ba05533110"
   },
   "outputs": [
    {
     "data": {
      "text/html": [
       "<div>\n",
       "<style scoped>\n",
       "    .dataframe tbody tr th:only-of-type {\n",
       "        vertical-align: middle;\n",
       "    }\n",
       "\n",
       "    .dataframe tbody tr th {\n",
       "        vertical-align: top;\n",
       "    }\n",
       "\n",
       "    .dataframe thead th {\n",
       "        text-align: right;\n",
       "    }\n",
       "</style>\n",
       "<table border=\"1\" class=\"dataframe\">\n",
       "  <thead>\n",
       "    <tr style=\"text-align: right;\">\n",
       "      <th></th>\n",
       "      <th>id</th>\n",
       "      <th>info</th>\n",
       "    </tr>\n",
       "  </thead>\n",
       "  <tbody>\n",
       "    <tr>\n",
       "      <th>0</th>\n",
       "      <td>1000</td>\n",
       "      <td>total deaths chile 0 0 12 227 1054 1188</td>\n",
       "    </tr>\n",
       "    <tr>\n",
       "      <th>1</th>\n",
       "      <td>1001</td>\n",
       "      <td>total deaths china 213 2837 3309 4637 4638 4638</td>\n",
       "    </tr>\n",
       "    <tr>\n",
       "      <th>2</th>\n",
       "      <td>1002</td>\n",
       "      <td>total deaths colombia 0 0 16 293 916 1014</td>\n",
       "    </tr>\n",
       "    <tr>\n",
       "      <th>3</th>\n",
       "      <td>1003</td>\n",
       "      <td>total deaths comoros 0 0 0 0 2 2</td>\n",
       "    </tr>\n",
       "    <tr>\n",
       "      <th>4</th>\n",
       "      <td>1004</td>\n",
       "      <td>total deaths congo (brazzaville) 0 0 0 9 20 20</td>\n",
       "    </tr>\n",
       "    <tr>\n",
       "      <th>...</th>\n",
       "      <td>...</td>\n",
       "      <td>...</td>\n",
       "    </tr>\n",
       "    <tr>\n",
       "      <th>95</th>\n",
       "      <td>1095</td>\n",
       "      <td>total deaths pakistan 0 0 26 385 1483 1621</td>\n",
       "    </tr>\n",
       "    <tr>\n",
       "      <th>96</th>\n",
       "      <td>1096</td>\n",
       "      <td>total deaths panama 0 0 30 188 336 352</td>\n",
       "    </tr>\n",
       "    <tr>\n",
       "      <th>97</th>\n",
       "      <td>1097</td>\n",
       "      <td>total deaths papua new guinea 0 0 0 0 0 0</td>\n",
       "    </tr>\n",
       "    <tr>\n",
       "      <th>98</th>\n",
       "      <td>1098</td>\n",
       "      <td>total deaths paraguay 0 0 3 10 11 11</td>\n",
       "    </tr>\n",
       "    <tr>\n",
       "      <th>99</th>\n",
       "      <td>1099</td>\n",
       "      <td>total deaths peru 0 0 30 1051 4506 4634</td>\n",
       "    </tr>\n",
       "  </tbody>\n",
       "</table>\n",
       "<p>100 rows × 2 columns</p>\n",
       "</div>"
      ],
      "text/plain": [
       "      id                                             info\n",
       "0   1000          total deaths chile 0 0 12 227 1054 1188\n",
       "1   1001  total deaths china 213 2837 3309 4637 4638 4638\n",
       "2   1002        total deaths colombia 0 0 16 293 916 1014\n",
       "3   1003                 total deaths comoros 0 0 0 0 2 2\n",
       "4   1004   total deaths congo (brazzaville) 0 0 0 9 20 20\n",
       "..   ...                                              ...\n",
       "95  1095       total deaths pakistan 0 0 26 385 1483 1621\n",
       "96  1096           total deaths panama 0 0 30 188 336 352\n",
       "97  1097        total deaths papua new guinea 0 0 0 0 0 0\n",
       "98  1098             total deaths paraguay 0 0 3 10 11 11\n",
       "99  1099          total deaths peru 0 0 30 1051 4506 4634\n",
       "\n",
       "[100 rows x 2 columns]"
      ]
     },
     "metadata": {},
     "output_type": "display_data"
    },
    {
     "name": "stdout",
     "output_type": "stream",
     "text": [
      "there are 200000 deaths in china.\n"
     ]
    },
    {
     "data": {
      "text/plain": [
       "dict_keys(['input_ids', 'attention_mask', 'labels', 'numeric_values', 'numeric_values_scale', 'token_type_ids'])"
      ]
     },
     "execution_count": 48,
     "metadata": {},
     "output_type": "execute_result"
    }
   ],
   "source": [
    "table_csv_path = ''\n",
    "item = data.iloc[0]\n",
    "\n",
    "table = pd.read_csv(table_csv_path + item.table_file).astype(str) \n",
    "\n",
    "display(table)\n",
    "print(item.question)\n",
    "\n",
    "encoding = tokenizer(table=table, queries=item.question, answer_coordinates=item.answer_coordinates, answer_text=item.answer_text,\n",
    "                     truncation=True, padding=\"max_length\", return_tensors=\"pt\")\n",
    "encoding.keys()"
   ]
  },
  {
   "cell_type": "code",
   "execution_count": 49,
   "metadata": {
    "executionInfo": {
     "elapsed": 276,
     "status": "ok",
     "timestamp": 1634642504096,
     "user": {
      "displayName": "Naser Ahmadi",
      "photoUrl": "https://lh3.googleusercontent.com/a/default-user=s64",
      "userId": "05278100254213815910"
     },
     "user_tz": -120
    },
    "id": "C-n9vDTD1-k9"
   },
   "outputs": [],
   "source": [
    "class TableDataset(torch.utils.data.Dataset):\n",
    "    def __init__(self, df, tokenizer):\n",
    "        self.df = df\n",
    "        self.tokenizer = tokenizer\n",
    "\n",
    "    def __getitem__(self, idx):\n",
    "        item = self.df.iloc[idx]\n",
    "        table = pd.read_csv(table_csv_path + item.table_file).astype(str) # TapasTokenizer expects the table data to be text only\n",
    "        encoding = self.tokenizer(table=table,\n",
    "                                   queries=item.question,\n",
    "                                   answer_coordinates=item.answer_coordinates,\n",
    "                                   answer_text=item.answer_text,\n",
    "                                   truncation=True,\n",
    "                                   padding=\"max_length\",\n",
    "                                   return_tensors=\"pt\"\n",
    "         )\n",
    "\n",
    "          # use encodings of second table-question pair in the batch\n",
    "        encoding = {key: val[-1] for key, val in encoding.items()}\n",
    "\n",
    "        #encoding[\"float_answer\"] = torch.tensor(item.float_answer)\n",
    "\n",
    "\n",
    "\n",
    "        return encoding\n",
    "\n",
    "    def __len__(self):\n",
    "        return len(self.df)\n",
    "\n",
    "#data = pd.read_csv('data/queries.csv')\n",
    "train_dataset = TableDataset(df=data, tokenizer=tokenizer)\n",
    "train_dataloader = torch.utils.data.DataLoader(train_dataset, batch_size=8)"
   ]
  },
  {
   "cell_type": "code",
   "execution_count": 50,
   "metadata": {
    "colab": {
     "base_uri": "https://localhost:8080/"
    },
    "executionInfo": {
     "elapsed": 5,
     "status": "ok",
     "timestamp": 1634642505547,
     "user": {
      "displayName": "Naser Ahmadi",
      "photoUrl": "https://lh3.googleusercontent.com/a/default-user=s64",
      "userId": "05278100254213815910"
     },
     "user_tz": -120
    },
    "id": "X4CHgnTzwfNp",
    "outputId": "7e40569c-49ae-4003-b82f-4876fa715847"
   },
   "outputs": [
    {
     "data": {
      "text/plain": [
       "torch.Size([512, 7])"
      ]
     },
     "execution_count": 50,
     "metadata": {},
     "output_type": "execute_result"
    }
   ],
   "source": [
    "train_dataset[0][\"token_type_ids\"].shape"
   ]
  },
  {
   "cell_type": "code",
   "execution_count": null,
   "metadata": {
    "colab": {
     "base_uri": "https://localhost:8080/"
    },
    "executionInfo": {
     "elapsed": 709,
     "status": "ok",
     "timestamp": 1630803541327,
     "user": {
      "displayName": "Naser Ahmadi",
      "photoUrl": "",
      "userId": "05278100254213815910"
     },
     "user_tz": -120
    },
    "id": "bZN1psdBy5_s",
    "outputId": "c526aedb-2d35-43d2-b25a-44075e568df1"
   },
   "outputs": [
    {
     "data": {
      "text/plain": [
       "torch.Size([512])"
      ]
     },
     "execution_count": 82,
     "metadata": {},
     "output_type": "execute_result"
    }
   ],
   "source": [
    "train_dataset[1][\"input_ids\"].shape"
   ]
  },
  {
   "cell_type": "code",
   "execution_count": null,
   "metadata": {
    "id": "pHAyf85k_xQt"
   },
   "outputs": [],
   "source": [
    "batch = next(iter(train_dataloader))"
   ]
  },
  {
   "cell_type": "code",
   "execution_count": null,
   "metadata": {
    "colab": {
     "base_uri": "https://localhost:8080/"
    },
    "executionInfo": {
     "elapsed": 209,
     "status": "ok",
     "timestamp": 1630803548028,
     "user": {
      "displayName": "Naser Ahmadi",
      "photoUrl": "",
      "userId": "05278100254213815910"
     },
     "user_tz": -120
    },
    "id": "FoqySHh-_0JV",
    "outputId": "8137f13b-3054-4f67-d862-855bdf765319"
   },
   "outputs": [
    {
     "data": {
      "text/plain": [
       "torch.Size([8, 512])"
      ]
     },
     "execution_count": 84,
     "metadata": {},
     "output_type": "execute_result"
    }
   ],
   "source": [
    "batch[\"input_ids\"].shape"
   ]
  },
  {
   "cell_type": "code",
   "execution_count": null,
   "metadata": {
    "colab": {
     "base_uri": "https://localhost:8080/"
    },
    "executionInfo": {
     "elapsed": 219,
     "status": "ok",
     "timestamp": 1630803549823,
     "user": {
      "displayName": "Naser Ahmadi",
      "photoUrl": "",
      "userId": "05278100254213815910"
     },
     "user_tz": -120
    },
    "id": "g5pjJCCT_53N",
    "outputId": "0d4c17b4-efd9-4816-eb01-19c2a75a6b26"
   },
   "outputs": [
    {
     "data": {
      "text/plain": [
       "torch.Size([8, 512, 7])"
      ]
     },
     "execution_count": 85,
     "metadata": {},
     "output_type": "execute_result"
    }
   ],
   "source": [
    "batch[\"token_type_ids\"].shape"
   ]
  },
  {
   "cell_type": "markdown",
   "metadata": {
    "id": "xVb1-H-jAEoS"
   },
   "source": [
    "Let's decode the first table-question pair:"
   ]
  },
  {
   "cell_type": "code",
   "execution_count": null,
   "metadata": {
    "colab": {
     "base_uri": "https://localhost:8080/",
     "height": 120
    },
    "executionInfo": {
     "elapsed": 273,
     "status": "ok",
     "timestamp": 1630750015288,
     "user": {
      "displayName": "Naser Ahmadi",
      "photoUrl": "",
      "userId": "05278100254213815910"
     },
     "user_tz": -120
    },
    "id": "1vfjT1JC_7zI",
    "outputId": "d6d96685-1523-490e-e3f3-90aee31d4a77"
   },
   "outputs": [
    {
     "data": {
      "application/vnd.google.colaboratory.intrinsic+json": {
       "type": "string"
      },
      "text/plain": [
       "'[CLS] there are 1 new confirmed cases in afghanistan in february. [SEP] id info 0 new 1 new 2 new 3 new 4 new 5 new 6 new 7 new 8 new 9 new 10 new 11 new 12 new 13 new 14 new 15 new 16 new 17 new 18 new 19 new 20 new 21 new 22 new 23 new 24 new 25 new 26 new 27 new 28 new 29 new 30 new 31 new 32 new 33 new 34 new 35 new 36 new 37 new 38 new 39 new 40 new 41 new 42 new 43 new 44 new 45 new 46 new 47 new 48 new 49 new 50 new 51 new 52 new 53 new 54 new 55 new 56 new 57 new 58 new 59 new 60 new 61 new 62 new 63 new 64 new 65 new 66 new 67 new 68 new 69 new 70 new 71 new 72 new 73 new 74 new 75 new 76 new 77 new 78 new 79 new 80 new 81 new 82 new 83 new 84 new 85 new 86 new 87 new 88 new 89 new 90 new 91 new 92 new 93 new 94 new 95 new 96 new 97 new 98 new 99 new 100 new 101 new 102 new 103 new 104 new 105 new 106 new 107 new 108 new 109 new 110 new 111 new 112 new 113 new 114 new 115 new 116 new 117 new 118 new 119 new 120 new 121 new 122 new 123 new 124 new 125 new 126 new 127 new 128 new 129 new 130 new 131 new 132 new 133 new 134 new 135 new 136 new 137 new 138 new 139 new 140 new 141 new 142 new 143 new 144 new 145 new 146 new 147 new 148 new 149 new 150 new 151 new 152 new 153 new 154 new 155 new 156 new 157 new 158 new 159 new 160 new 161 new 162 new 163 new 164 new 165 new 166 new 167 new 168 new 169 new 170 new 171 new 172 new 173 new 174 new 175 new 176 new 177 new 178 new 179 new 180 new 181 new 182 new 183 new 184 new 185 new 186 new 187 new 188 new 189 new 190 new 191 new 192 new 193 new 194 new 195 new 196 new 197 new 198 new 199 new 200 new 201 new 202 new 203 new 204 new 205 new 206 new 207 new 208 new 209 new 210 new 211 new 212 new 213 new 214 new 215 new 216 new 217 new 218 new 219 new 220 new 221 new 222 new 223 new 224 new 225 new 226 new 227 new 228 new 229 new 230 new 231 new 232 new 233 new 234 new 235 new 236 new 237 new 238 new 239 new 240 new 241 new 242 new 243 new 244 new 245 new 246 new 247 new [PAD]'"
      ]
     },
     "execution_count": 354,
     "metadata": {},
     "output_type": "execute_result"
    }
   ],
   "source": [
    "tokenizer.decode(batch[\"input_ids\"][0])"
   ]
  },
  {
   "cell_type": "code",
   "execution_count": null,
   "metadata": {
    "id": "sujsp8o9DtsY"
   },
   "outputs": [],
   "source": [
    "#first example should not have any prev_labels set\n",
    "assert batch[\"token_type_ids\"][0][:,3].sum() == 0"
   ]
  },
  {
   "cell_type": "markdown",
   "metadata": {
    "id": "EIeql5vfFI6s"
   },
   "source": [
    "Let's decode the second table-question pair and verify some more:"
   ]
  },
  {
   "cell_type": "code",
   "execution_count": null,
   "metadata": {
    "colab": {
     "base_uri": "https://localhost:8080/",
     "height": 120
    },
    "executionInfo": {
     "elapsed": 258,
     "status": "ok",
     "timestamp": 1630750023014,
     "user": {
      "displayName": "Naser Ahmadi",
      "photoUrl": "",
      "userId": "05278100254213815910"
     },
     "user_tz": -120
    },
    "id": "WrNo_qMqFOzi",
    "outputId": "8b7824c1-e03b-4d48-992d-6964c5cfbbc5"
   },
   "outputs": [
    {
     "data": {
      "application/vnd.google.colaboratory.intrinsic+json": {
       "type": "string"
      },
      "text/plain": [
       "'[CLS] there are 1 new cases in afghanistan in february. [SEP] id info 0 new 1 new 2 new 3 new 4 new 5 new 6 new 7 new 8 new 9 new 10 new 11 new 12 new 13 new 14 new 15 new 16 new 17 new 18 new 19 new 20 new 21 new 22 new 23 new 24 new 25 new 26 new 27 new 28 new 29 new 30 new 31 new 32 new 33 new 34 new 35 new 36 new 37 new 38 new 39 new 40 new 41 new 42 new 43 new 44 new 45 new 46 new 47 new 48 new 49 new 50 new 51 new 52 new 53 new 54 new 55 new 56 new 57 new 58 new 59 new 60 new 61 new 62 new 63 new 64 new 65 new 66 new 67 new 68 new 69 new 70 new 71 new 72 new 73 new 74 new 75 new 76 new 77 new 78 new 79 new 80 new 81 new 82 new 83 new 84 new 85 new 86 new 87 new 88 new 89 new 90 new 91 new 92 new 93 new 94 new 95 new 96 new 97 new 98 new 99 new 100 new 101 new 102 new 103 new 104 new 105 new 106 new 107 new 108 new 109 new 110 new 111 new 112 new 113 new 114 new 115 new 116 new 117 new 118 new 119 new 120 new 121 new 122 new 123 new 124 new 125 new 126 new 127 new 128 new 129 new 130 new 131 new 132 new 133 new 134 new 135 new 136 new 137 new 138 new 139 new 140 new 141 new 142 new 143 new 144 new 145 new 146 new 147 new 148 new 149 new 150 new 151 new 152 new 153 new 154 new 155 new 156 new 157 new 158 new 159 new 160 new 161 new 162 new 163 new 164 new 165 new 166 new 167 new 168 new 169 new 170 new 171 new 172 new 173 new 174 new 175 new 176 new 177 new 178 new 179 new 180 new 181 new 182 new 183 new 184 new 185 new 186 new 187 new 188 new 189 new 190 new 191 new 192 new 193 new 194 new 195 new 196 new 197 new 198 new 199 new 200 new 201 new 202 new 203 new 204 new 205 new 206 new 207 new 208 new 209 new 210 new 211 new 212 new 213 new 214 new 215 new 216 new 217 new 218 new 219 new 220 new 221 new 222 new 223 new 224 new 225 new 226 new 227 new 228 new 229 new 230 new 231 new 232 new 233 new 234 new 235 new 236 new 237 new 238 new 239 new 240 new 241 new 242 new 243 new 244 new 245 new 246 new 247 new 248 new'"
      ]
     },
     "execution_count": 356,
     "metadata": {},
     "output_type": "execute_result"
    }
   ],
   "source": [
    "tokenizer.decode(batch[\"input_ids\"][1])"
   ]
  },
  {
   "cell_type": "code",
   "execution_count": null,
   "metadata": {
    "id": "x4PRdYvBE1k3"
   },
   "outputs": [],
   "source": [
    "for id, prev_label in zip(batch[\"input_ids\"][1], batch[\"token_type_ids\"][1][:,3]):\n",
    "  if id != 0:\n",
    "    print(tokenizer.decode([id]), prev_label.item())"
   ]
  },
  {
   "cell_type": "markdown",
   "metadata": {
    "id": "cAem9QnIxoKb"
   },
   "source": [
    "## Define the model\n",
    "\n",
    "Here we initialize the model with a pre-trained base and randomly initialized cell selection head, and move it to the GPU (if available).\n",
    "\n",
    "Note that the `google/tapas-base` checkpoint has (by default) an SQA configuration, so we don't need to specify any additional hyperparameters."
   ]
  },
  {
   "cell_type": "code",
   "execution_count": 51,
   "metadata": {
    "colab": {
     "base_uri": "https://localhost:8080/"
    },
    "executionInfo": {
     "elapsed": 13680,
     "status": "ok",
     "timestamp": 1634642525355,
     "user": {
      "displayName": "Naser Ahmadi",
      "photoUrl": "https://lh3.googleusercontent.com/a/default-user=s64",
      "userId": "05278100254213815910"
     },
     "user_tz": -120
    },
    "id": "_OsPodbiDliR",
    "outputId": "0219e5b1-26fc-459e-c018-aa27cf1b947c"
   },
   "outputs": [
    {
     "name": "stderr",
     "output_type": "stream",
     "text": [
      "Some weights of TapasForQuestionAnswering were not initialized from the model checkpoint at google/tapas-base and are newly initialized: ['output_weights', 'column_output_bias', 'column_output_weights', 'output_bias']\n",
      "You should probably TRAIN this model on a down-stream task to be able to use it for predictions and inference.\n"
     ]
    },
    {
     "data": {
      "text/plain": [
       "TapasForQuestionAnswering(\n",
       "  (tapas): TapasModel(\n",
       "    (embeddings): TapasEmbeddings(\n",
       "      (word_embeddings): Embedding(30522, 768, padding_idx=0)\n",
       "      (position_embeddings): Embedding(1024, 768)\n",
       "      (token_type_embeddings_0): Embedding(3, 768)\n",
       "      (token_type_embeddings_1): Embedding(256, 768)\n",
       "      (token_type_embeddings_2): Embedding(256, 768)\n",
       "      (token_type_embeddings_3): Embedding(2, 768)\n",
       "      (token_type_embeddings_4): Embedding(256, 768)\n",
       "      (token_type_embeddings_5): Embedding(256, 768)\n",
       "      (token_type_embeddings_6): Embedding(10, 768)\n",
       "      (LayerNorm): LayerNorm((768,), eps=1e-12, elementwise_affine=True)\n",
       "      (dropout): Dropout(p=0.07, inplace=False)\n",
       "    )\n",
       "    (encoder): TapasEncoder(\n",
       "      (layer): ModuleList(\n",
       "        (0): TapasLayer(\n",
       "          (attention): TapasAttention(\n",
       "            (self): TapasSelfAttention(\n",
       "              (query): Linear(in_features=768, out_features=768, bias=True)\n",
       "              (key): Linear(in_features=768, out_features=768, bias=True)\n",
       "              (value): Linear(in_features=768, out_features=768, bias=True)\n",
       "              (dropout): Dropout(p=0.0, inplace=False)\n",
       "            )\n",
       "            (output): TapasSelfOutput(\n",
       "              (dense): Linear(in_features=768, out_features=768, bias=True)\n",
       "              (LayerNorm): LayerNorm((768,), eps=1e-12, elementwise_affine=True)\n",
       "              (dropout): Dropout(p=0.07, inplace=False)\n",
       "            )\n",
       "          )\n",
       "          (intermediate): TapasIntermediate(\n",
       "            (dense): Linear(in_features=768, out_features=3072, bias=True)\n",
       "          )\n",
       "          (output): TapasOutput(\n",
       "            (dense): Linear(in_features=3072, out_features=768, bias=True)\n",
       "            (LayerNorm): LayerNorm((768,), eps=1e-12, elementwise_affine=True)\n",
       "            (dropout): Dropout(p=0.07, inplace=False)\n",
       "          )\n",
       "        )\n",
       "        (1): TapasLayer(\n",
       "          (attention): TapasAttention(\n",
       "            (self): TapasSelfAttention(\n",
       "              (query): Linear(in_features=768, out_features=768, bias=True)\n",
       "              (key): Linear(in_features=768, out_features=768, bias=True)\n",
       "              (value): Linear(in_features=768, out_features=768, bias=True)\n",
       "              (dropout): Dropout(p=0.0, inplace=False)\n",
       "            )\n",
       "            (output): TapasSelfOutput(\n",
       "              (dense): Linear(in_features=768, out_features=768, bias=True)\n",
       "              (LayerNorm): LayerNorm((768,), eps=1e-12, elementwise_affine=True)\n",
       "              (dropout): Dropout(p=0.07, inplace=False)\n",
       "            )\n",
       "          )\n",
       "          (intermediate): TapasIntermediate(\n",
       "            (dense): Linear(in_features=768, out_features=3072, bias=True)\n",
       "          )\n",
       "          (output): TapasOutput(\n",
       "            (dense): Linear(in_features=3072, out_features=768, bias=True)\n",
       "            (LayerNorm): LayerNorm((768,), eps=1e-12, elementwise_affine=True)\n",
       "            (dropout): Dropout(p=0.07, inplace=False)\n",
       "          )\n",
       "        )\n",
       "        (2): TapasLayer(\n",
       "          (attention): TapasAttention(\n",
       "            (self): TapasSelfAttention(\n",
       "              (query): Linear(in_features=768, out_features=768, bias=True)\n",
       "              (key): Linear(in_features=768, out_features=768, bias=True)\n",
       "              (value): Linear(in_features=768, out_features=768, bias=True)\n",
       "              (dropout): Dropout(p=0.0, inplace=False)\n",
       "            )\n",
       "            (output): TapasSelfOutput(\n",
       "              (dense): Linear(in_features=768, out_features=768, bias=True)\n",
       "              (LayerNorm): LayerNorm((768,), eps=1e-12, elementwise_affine=True)\n",
       "              (dropout): Dropout(p=0.07, inplace=False)\n",
       "            )\n",
       "          )\n",
       "          (intermediate): TapasIntermediate(\n",
       "            (dense): Linear(in_features=768, out_features=3072, bias=True)\n",
       "          )\n",
       "          (output): TapasOutput(\n",
       "            (dense): Linear(in_features=3072, out_features=768, bias=True)\n",
       "            (LayerNorm): LayerNorm((768,), eps=1e-12, elementwise_affine=True)\n",
       "            (dropout): Dropout(p=0.07, inplace=False)\n",
       "          )\n",
       "        )\n",
       "        (3): TapasLayer(\n",
       "          (attention): TapasAttention(\n",
       "            (self): TapasSelfAttention(\n",
       "              (query): Linear(in_features=768, out_features=768, bias=True)\n",
       "              (key): Linear(in_features=768, out_features=768, bias=True)\n",
       "              (value): Linear(in_features=768, out_features=768, bias=True)\n",
       "              (dropout): Dropout(p=0.0, inplace=False)\n",
       "            )\n",
       "            (output): TapasSelfOutput(\n",
       "              (dense): Linear(in_features=768, out_features=768, bias=True)\n",
       "              (LayerNorm): LayerNorm((768,), eps=1e-12, elementwise_affine=True)\n",
       "              (dropout): Dropout(p=0.07, inplace=False)\n",
       "            )\n",
       "          )\n",
       "          (intermediate): TapasIntermediate(\n",
       "            (dense): Linear(in_features=768, out_features=3072, bias=True)\n",
       "          )\n",
       "          (output): TapasOutput(\n",
       "            (dense): Linear(in_features=3072, out_features=768, bias=True)\n",
       "            (LayerNorm): LayerNorm((768,), eps=1e-12, elementwise_affine=True)\n",
       "            (dropout): Dropout(p=0.07, inplace=False)\n",
       "          )\n",
       "        )\n",
       "        (4): TapasLayer(\n",
       "          (attention): TapasAttention(\n",
       "            (self): TapasSelfAttention(\n",
       "              (query): Linear(in_features=768, out_features=768, bias=True)\n",
       "              (key): Linear(in_features=768, out_features=768, bias=True)\n",
       "              (value): Linear(in_features=768, out_features=768, bias=True)\n",
       "              (dropout): Dropout(p=0.0, inplace=False)\n",
       "            )\n",
       "            (output): TapasSelfOutput(\n",
       "              (dense): Linear(in_features=768, out_features=768, bias=True)\n",
       "              (LayerNorm): LayerNorm((768,), eps=1e-12, elementwise_affine=True)\n",
       "              (dropout): Dropout(p=0.07, inplace=False)\n",
       "            )\n",
       "          )\n",
       "          (intermediate): TapasIntermediate(\n",
       "            (dense): Linear(in_features=768, out_features=3072, bias=True)\n",
       "          )\n",
       "          (output): TapasOutput(\n",
       "            (dense): Linear(in_features=3072, out_features=768, bias=True)\n",
       "            (LayerNorm): LayerNorm((768,), eps=1e-12, elementwise_affine=True)\n",
       "            (dropout): Dropout(p=0.07, inplace=False)\n",
       "          )\n",
       "        )\n",
       "        (5): TapasLayer(\n",
       "          (attention): TapasAttention(\n",
       "            (self): TapasSelfAttention(\n",
       "              (query): Linear(in_features=768, out_features=768, bias=True)\n",
       "              (key): Linear(in_features=768, out_features=768, bias=True)\n",
       "              (value): Linear(in_features=768, out_features=768, bias=True)\n",
       "              (dropout): Dropout(p=0.0, inplace=False)\n",
       "            )\n",
       "            (output): TapasSelfOutput(\n",
       "              (dense): Linear(in_features=768, out_features=768, bias=True)\n",
       "              (LayerNorm): LayerNorm((768,), eps=1e-12, elementwise_affine=True)\n",
       "              (dropout): Dropout(p=0.07, inplace=False)\n",
       "            )\n",
       "          )\n",
       "          (intermediate): TapasIntermediate(\n",
       "            (dense): Linear(in_features=768, out_features=3072, bias=True)\n",
       "          )\n",
       "          (output): TapasOutput(\n",
       "            (dense): Linear(in_features=3072, out_features=768, bias=True)\n",
       "            (LayerNorm): LayerNorm((768,), eps=1e-12, elementwise_affine=True)\n",
       "            (dropout): Dropout(p=0.07, inplace=False)\n",
       "          )\n",
       "        )\n",
       "        (6): TapasLayer(\n",
       "          (attention): TapasAttention(\n",
       "            (self): TapasSelfAttention(\n",
       "              (query): Linear(in_features=768, out_features=768, bias=True)\n",
       "              (key): Linear(in_features=768, out_features=768, bias=True)\n",
       "              (value): Linear(in_features=768, out_features=768, bias=True)\n",
       "              (dropout): Dropout(p=0.0, inplace=False)\n",
       "            )\n",
       "            (output): TapasSelfOutput(\n",
       "              (dense): Linear(in_features=768, out_features=768, bias=True)\n",
       "              (LayerNorm): LayerNorm((768,), eps=1e-12, elementwise_affine=True)\n",
       "              (dropout): Dropout(p=0.07, inplace=False)\n",
       "            )\n",
       "          )\n",
       "          (intermediate): TapasIntermediate(\n",
       "            (dense): Linear(in_features=768, out_features=3072, bias=True)\n",
       "          )\n",
       "          (output): TapasOutput(\n",
       "            (dense): Linear(in_features=3072, out_features=768, bias=True)\n",
       "            (LayerNorm): LayerNorm((768,), eps=1e-12, elementwise_affine=True)\n",
       "            (dropout): Dropout(p=0.07, inplace=False)\n",
       "          )\n",
       "        )\n",
       "        (7): TapasLayer(\n",
       "          (attention): TapasAttention(\n",
       "            (self): TapasSelfAttention(\n",
       "              (query): Linear(in_features=768, out_features=768, bias=True)\n",
       "              (key): Linear(in_features=768, out_features=768, bias=True)\n",
       "              (value): Linear(in_features=768, out_features=768, bias=True)\n",
       "              (dropout): Dropout(p=0.0, inplace=False)\n",
       "            )\n",
       "            (output): TapasSelfOutput(\n",
       "              (dense): Linear(in_features=768, out_features=768, bias=True)\n",
       "              (LayerNorm): LayerNorm((768,), eps=1e-12, elementwise_affine=True)\n",
       "              (dropout): Dropout(p=0.07, inplace=False)\n",
       "            )\n",
       "          )\n",
       "          (intermediate): TapasIntermediate(\n",
       "            (dense): Linear(in_features=768, out_features=3072, bias=True)\n",
       "          )\n",
       "          (output): TapasOutput(\n",
       "            (dense): Linear(in_features=3072, out_features=768, bias=True)\n",
       "            (LayerNorm): LayerNorm((768,), eps=1e-12, elementwise_affine=True)\n",
       "            (dropout): Dropout(p=0.07, inplace=False)\n",
       "          )\n",
       "        )\n",
       "        (8): TapasLayer(\n",
       "          (attention): TapasAttention(\n",
       "            (self): TapasSelfAttention(\n",
       "              (query): Linear(in_features=768, out_features=768, bias=True)\n",
       "              (key): Linear(in_features=768, out_features=768, bias=True)\n",
       "              (value): Linear(in_features=768, out_features=768, bias=True)\n",
       "              (dropout): Dropout(p=0.0, inplace=False)\n",
       "            )\n",
       "            (output): TapasSelfOutput(\n",
       "              (dense): Linear(in_features=768, out_features=768, bias=True)\n",
       "              (LayerNorm): LayerNorm((768,), eps=1e-12, elementwise_affine=True)\n",
       "              (dropout): Dropout(p=0.07, inplace=False)\n",
       "            )\n",
       "          )\n",
       "          (intermediate): TapasIntermediate(\n",
       "            (dense): Linear(in_features=768, out_features=3072, bias=True)\n",
       "          )\n",
       "          (output): TapasOutput(\n",
       "            (dense): Linear(in_features=3072, out_features=768, bias=True)\n",
       "            (LayerNorm): LayerNorm((768,), eps=1e-12, elementwise_affine=True)\n",
       "            (dropout): Dropout(p=0.07, inplace=False)\n",
       "          )\n",
       "        )\n",
       "        (9): TapasLayer(\n",
       "          (attention): TapasAttention(\n",
       "            (self): TapasSelfAttention(\n",
       "              (query): Linear(in_features=768, out_features=768, bias=True)\n",
       "              (key): Linear(in_features=768, out_features=768, bias=True)\n",
       "              (value): Linear(in_features=768, out_features=768, bias=True)\n",
       "              (dropout): Dropout(p=0.0, inplace=False)\n",
       "            )\n",
       "            (output): TapasSelfOutput(\n",
       "              (dense): Linear(in_features=768, out_features=768, bias=True)\n",
       "              (LayerNorm): LayerNorm((768,), eps=1e-12, elementwise_affine=True)\n",
       "              (dropout): Dropout(p=0.07, inplace=False)\n",
       "            )\n",
       "          )\n",
       "          (intermediate): TapasIntermediate(\n",
       "            (dense): Linear(in_features=768, out_features=3072, bias=True)\n",
       "          )\n",
       "          (output): TapasOutput(\n",
       "            (dense): Linear(in_features=3072, out_features=768, bias=True)\n",
       "            (LayerNorm): LayerNorm((768,), eps=1e-12, elementwise_affine=True)\n",
       "            (dropout): Dropout(p=0.07, inplace=False)\n",
       "          )\n",
       "        )\n",
       "        (10): TapasLayer(\n",
       "          (attention): TapasAttention(\n",
       "            (self): TapasSelfAttention(\n",
       "              (query): Linear(in_features=768, out_features=768, bias=True)\n",
       "              (key): Linear(in_features=768, out_features=768, bias=True)\n",
       "              (value): Linear(in_features=768, out_features=768, bias=True)\n",
       "              (dropout): Dropout(p=0.0, inplace=False)\n",
       "            )\n",
       "            (output): TapasSelfOutput(\n",
       "              (dense): Linear(in_features=768, out_features=768, bias=True)\n",
       "              (LayerNorm): LayerNorm((768,), eps=1e-12, elementwise_affine=True)\n",
       "              (dropout): Dropout(p=0.07, inplace=False)\n",
       "            )\n",
       "          )\n",
       "          (intermediate): TapasIntermediate(\n",
       "            (dense): Linear(in_features=768, out_features=3072, bias=True)\n",
       "          )\n",
       "          (output): TapasOutput(\n",
       "            (dense): Linear(in_features=3072, out_features=768, bias=True)\n",
       "            (LayerNorm): LayerNorm((768,), eps=1e-12, elementwise_affine=True)\n",
       "            (dropout): Dropout(p=0.07, inplace=False)\n",
       "          )\n",
       "        )\n",
       "        (11): TapasLayer(\n",
       "          (attention): TapasAttention(\n",
       "            (self): TapasSelfAttention(\n",
       "              (query): Linear(in_features=768, out_features=768, bias=True)\n",
       "              (key): Linear(in_features=768, out_features=768, bias=True)\n",
       "              (value): Linear(in_features=768, out_features=768, bias=True)\n",
       "              (dropout): Dropout(p=0.0, inplace=False)\n",
       "            )\n",
       "            (output): TapasSelfOutput(\n",
       "              (dense): Linear(in_features=768, out_features=768, bias=True)\n",
       "              (LayerNorm): LayerNorm((768,), eps=1e-12, elementwise_affine=True)\n",
       "              (dropout): Dropout(p=0.07, inplace=False)\n",
       "            )\n",
       "          )\n",
       "          (intermediate): TapasIntermediate(\n",
       "            (dense): Linear(in_features=768, out_features=3072, bias=True)\n",
       "          )\n",
       "          (output): TapasOutput(\n",
       "            (dense): Linear(in_features=3072, out_features=768, bias=True)\n",
       "            (LayerNorm): LayerNorm((768,), eps=1e-12, elementwise_affine=True)\n",
       "            (dropout): Dropout(p=0.07, inplace=False)\n",
       "          )\n",
       "        )\n",
       "      )\n",
       "    )\n",
       "    (pooler): TapasPooler(\n",
       "      (dense): Linear(in_features=768, out_features=768, bias=True)\n",
       "      (activation): Tanh()\n",
       "    )\n",
       "  )\n",
       "  (dropout): Dropout(p=0.07, inplace=False)\n",
       ")"
      ]
     },
     "execution_count": 51,
     "metadata": {},
     "output_type": "execute_result"
    }
   ],
   "source": [
    "from transformers import TapasForQuestionAnswering\n",
    "\n",
    "model = TapasForQuestionAnswering.from_pretrained(\"google/tapas-base\")\n",
    "device = torch.device(\"cuda\" if torch.cuda.is_available() else \"cpu\")\n",
    "\n",
    "model.to(device)"
   ]
  },
  {
   "cell_type": "markdown",
   "metadata": {
    "id": "dtvkIFkCzdsg"
   },
   "source": [
    "## Training the model\n",
    "\n",
    "Let's fine-tune the model in well-known PyTorch fashion:"
   ]
  },
  {
   "cell_type": "code",
   "execution_count": 52,
   "metadata": {
    "colab": {
     "base_uri": "https://localhost:8080/"
    },
    "executionInfo": {
     "elapsed": 23114,
     "status": "ok",
     "timestamp": 1634642549845,
     "user": {
      "displayName": "Naser Ahmadi",
      "photoUrl": "https://lh3.googleusercontent.com/a/default-user=s64",
      "userId": "05278100254213815910"
     },
     "user_tz": -120
    },
    "id": "HyEZVmbdzWV9",
    "outputId": "c5bc0cfb-3db2-4d85-8c49-33f7a5b6f429"
   },
   "outputs": [
    {
     "name": "stdout",
     "output_type": "stream",
     "text": [
      "Epoch: 0\n",
      "Loss: 1.7603199481964111\n",
      "Loss: 0.5257381200790405\n",
      "Loss: 0.3227989375591278\n",
      "Loss: 0.12141665816307068\n",
      "Loss: 0.10102341324090958\n",
      "Loss: 0.11608704924583435\n"
     ]
    }
   ],
   "source": [
    "import time\n",
    "\n",
    "st = time.time()\n",
    "from transformers import AdamW\n",
    "\n",
    "optimizer = AdamW(model.parameters(), lr=5e-5)\n",
    "\n",
    "for epoch in range(1):  # loop over the dataset multiple times\n",
    "   print(\"Epoch:\", epoch)\n",
    "   for idx, batch in enumerate(train_dataloader):\n",
    "        # get the inputs;\n",
    "        input_ids = batch[\"input_ids\"].to(device)\n",
    "        attention_mask = batch[\"attention_mask\"].to(device)\n",
    "        token_type_ids = batch[\"token_type_ids\"].to(device)\n",
    "        labels = batch[\"labels\"].to(device)\n",
    "        \n",
    "        # zero the parameter gradients\n",
    "        optimizer.zero_grad()\n",
    "        # forward + backward + optimize\n",
    "        outputs = model(input_ids=input_ids, attention_mask=attention_mask, token_type_ids=token_type_ids,\n",
    "                       labels=labels)\n",
    "        loss = outputs.loss\n",
    "        print(\"Loss:\", loss.item())\n",
    "        loss.backward()\n",
    "        optimizer.step()"
   ]
  },
  {
   "cell_type": "code",
   "execution_count": 21,
   "metadata": {
    "colab": {
     "base_uri": "https://localhost:8080/"
    },
    "executionInfo": {
     "elapsed": 19,
     "status": "ok",
     "timestamp": 1634639871539,
     "user": {
      "displayName": "Naser Ahmadi",
      "photoUrl": "https://lh3.googleusercontent.com/a/default-user=s64",
      "userId": "05278100254213815910"
     },
     "user_tz": -120
    },
    "id": "e_47paH31HVz",
    "outputId": "35bdc2b0-7beb-4305-f884-15990c76c94d"
   },
   "outputs": [
    {
     "name": "stdout",
     "output_type": "stream",
     "text": [
      "5000.853292942047\n"
     ]
    }
   ],
   "source": [
    "print(time.time() - st)"
   ]
  },
  {
   "cell_type": "code",
   "execution_count": 54,
   "metadata": {
    "executionInfo": {
     "elapsed": 2999,
     "status": "ok",
     "timestamp": 1634642585167,
     "user": {
      "displayName": "Naser Ahmadi",
      "photoUrl": "https://lh3.googleusercontent.com/a/default-user=s64",
      "userId": "05278100254213815910"
     },
     "user_tz": -120
    },
    "id": "M0V6h3aocsS_"
   },
   "outputs": [],
   "source": [
    "model.save_pretrained(\"tapas.mdl\")"
   ]
  },
  {
   "cell_type": "markdown",
   "metadata": {
    "id": "kmugNHCN20QF"
   },
   "source": [
    "## Inference\n"
   ]
  },
  {
   "cell_type": "code",
   "execution_count": 1,
   "metadata": {
    "executionInfo": {
     "elapsed": 44546,
     "status": "ok",
     "timestamp": 1634643453170,
     "user": {
      "displayName": "Naser Ahmadi",
      "photoUrl": "https://lh3.googleusercontent.com/a/default-user=s64",
      "userId": "05278100254213815910"
     },
     "user_tz": -120
    },
    "id": "nxE2yxtNUG5j"
   },
   "outputs": [],
   "source": [
    "from transformers import TapasForQuestionAnswering\n",
    "\n",
    "model = TapasForQuestionAnswering.from_pretrained(\"tapas.mdl\")\n",
    "device='cuda'"
   ]
  },
  {
   "cell_type": "code",
   "execution_count": 11,
   "metadata": {
    "executionInfo": {
     "elapsed": 274,
     "status": "ok",
     "timestamp": 1634643490201,
     "user": {
      "displayName": "Naser Ahmadi",
      "photoUrl": "https://lh3.googleusercontent.com/a/default-user=s64",
      "userId": "05278100254213815910"
     },
     "user_tz": -120
    },
    "id": "k6W1UUCkYZjq"
   },
   "outputs": [],
   "source": [
    "test = pd.read_csv(\"queries_test.csv\")"
   ]
  },
  {
   "cell_type": "code",
   "execution_count": 12,
   "metadata": {
    "colab": {
     "base_uri": "https://localhost:8080/"
    },
    "executionInfo": {
     "elapsed": 138194,
     "status": "ok",
     "timestamp": 1634643631054,
     "user": {
      "displayName": "Naser Ahmadi",
      "photoUrl": "https://lh3.googleusercontent.com/a/default-user=s64",
      "userId": "05278100254213815910"
     },
     "user_tz": -120
    },
    "id": "PTf9BQgIVlot",
    "outputId": "7be4391f-1e89-475d-e657-5dcd1417f32a"
   },
   "outputs": [
    {
     "name": "stderr",
     "output_type": "stream",
     "text": [
      "  0%|          | 0/20 [00:00<?, ?it/s]Token indices sequence length is longer than the specified maximum sequence length for this model (1417 > 512). Running this sequence through the model will result in indexing errors.\n",
      "100%|██████████| 20/20 [02:17<00:00,  6.89s/it]\n"
     ]
    }
   ],
   "source": [
    "from tqdm import tqdm\n",
    "preds_tapas = {}\n",
    "\n",
    "for i in tqdm(range(0,len(test)),position=0):\n",
    "  item = test.iloc[i]\n",
    "  queries = [item['question']]\n",
    "  #if queries[0] not in user_claims: continue\n",
    "  table = pd.read_csv(item['table_file']).astype(str)\n",
    "  inputs = tokenizer(table=table, queries=queries, padding='max_length', return_tensors=\"pt\")\n",
    "  outputs = model(**inputs)\n",
    "  predicted_answer_coordinates = tokenizer.convert_logits_to_predictions(\n",
    "          inputs,\n",
    "          outputs.logits.detach()\n",
    "          \n",
    "  )\n",
    "  preds_tapas[item['question']] = [table.iloc[p[0]]['info'] for p in predicted_answer_coordinates[0][0]]\n",
    "  #print(predicted_answer_coordinates)"
   ]
  },
  {
   "cell_type": "code",
   "execution_count": 13,
   "metadata": {
    "executionInfo": {
     "elapsed": 514,
     "status": "ok",
     "timestamp": 1634643644290,
     "user": {
      "displayName": "Naser Ahmadi",
      "photoUrl": "https://lh3.googleusercontent.com/a/default-user=s64",
      "userId": "05278100254213815910"
     },
     "user_tz": -120
    },
    "id": "5fAcNOVsqoVD"
   },
   "outputs": [],
   "source": [
    "########################## METRICS\n",
    "\n",
    "def HAS_POSITIVE(actual,preds):\n",
    "    for i in range(0,len(preds)):\n",
    "        if preds[i] in actual:\n",
    "            return 1\n",
    "    return 0\n",
    "\n",
    "def MRRR(actual,preds):\n",
    "    for i in range(0,len(preds)):\n",
    "        if preds[i] in actual:\n",
    "            return 1/(i+1)\n",
    "    return 0\n",
    "\n",
    "\n",
    "def MAP_K(actual,preds):\n",
    "    precision = 0\n",
    "    hit = 0\n",
    "    for i in range(0,len(preds)):\n",
    "        if preds[i] in actual:\n",
    "            hit += 1\n",
    "            precision += hit/(i+1)\n",
    "    return precision/len(actual)    \n"
   ]
  },
  {
   "cell_type": "code",
   "execution_count": 28,
   "metadata": {
    "colab": {
     "base_uri": "https://localhost:8080/"
    },
    "executionInfo": {
     "elapsed": 401,
     "status": "ok",
     "timestamp": 1634644146246,
     "user": {
      "displayName": "Naser Ahmadi",
      "photoUrl": "https://lh3.googleusercontent.com/a/default-user=s64",
      "userId": "05278100254213815910"
     },
     "user_tz": -120
    },
    "id": "zRnm3iFGUkIX",
    "outputId": "a7cbb750-df3b-40db-910f-1ebb7a14626f"
   },
   "outputs": [
    {
     "name": "stdout",
     "output_type": "stream",
     "text": [
      "\n",
      "#################### 1 ###########################\n",
      "\n",
      "MRR: 0.05263157894736842 MAP: 0.05263157894736842 HAS POSITIVE: 0.05263157894736842\n",
      "\n",
      "#################### 5 ###########################\n",
      "\n",
      "MRR: 0.05263157894736842 MAP: 0.05263157894736842 HAS POSITIVE: 0.05263157894736842\n",
      "\n",
      "#################### 20 ###########################\n",
      "\n",
      "MRR: 0.09114131482552536 MAP: 0.07654231733179102 HAS POSITIVE: 0.47368421052631576\n"
     ]
    }
   ],
   "source": [
    "for KK in [1,5,20]: \n",
    "    i = 0\n",
    "    precision,recall,fs = 0,0,0\n",
    "    MAP, MRR, hasP = 0,0,0\n",
    "\n",
    "    for claim in preds_tapas:\n",
    "        #if len(preds_tapas[claim]) == 0 or claim not in ground_truth: continue\n",
    "        i+=1\n",
    "        preds =  preds_tapas[claim] [0:KK]\n",
    "        golds = [f for f in ground_truth[claim]]\n",
    "\n",
    "        MAP += MAP_K(golds,preds)\n",
    "        MRR += MRRR(golds,preds)\n",
    "        hasP += HAS_POSITIVE(golds,preds)\n",
    "        \n",
    "    print('\\n#################### ' + str(KK) + ' ###########################\\n')\n",
    "    print('MRR:',MRR/i,'MAP:',MAP/i, 'HAS POSITIVE:', hasP/i)\n"
   ]
  }
 ],
 "metadata": {
  "accelerator": "GPU",
  "colab": {
   "collapsed_sections": [],
   "name": "TAPAS_Corona.ipynb",
   "provenance": [
    {
     "file_id": "https://github.com/NielsRogge/Transformers-Tutorials/blob/master/TAPAS/Fine_tuning_TapasForQuestionAnswering_on_SQA.ipynb",
     "timestamp": 1630667511750
    }
   ],
   "toc_visible": true
  },
  "kernelspec": {
   "display_name": "Python 3",
   "language": "python",
   "name": "python3"
  },
  "language_info": {
   "codemirror_mode": {
    "name": "ipython",
    "version": 3
   },
   "file_extension": ".py",
   "mimetype": "text/x-python",
   "name": "python",
   "nbconvert_exporter": "python",
   "pygments_lexer": "ipython3",
   "version": "3.6.13"
  },
  "widgets": {
   "application/vnd.jupyter.widget-state+json": {
    "050888a8e3d64299b45f44f973ec074f": {
     "model_module": "@jupyter-widgets/base",
     "model_module_version": "1.2.0",
     "model_name": "LayoutModel",
     "state": {
      "_model_module": "@jupyter-widgets/base",
      "_model_module_version": "1.2.0",
      "_model_name": "LayoutModel",
      "_view_count": null,
      "_view_module": "@jupyter-widgets/base",
      "_view_module_version": "1.2.0",
      "_view_name": "LayoutView",
      "align_content": null,
      "align_items": null,
      "align_self": null,
      "border": null,
      "bottom": null,
      "display": null,
      "flex": null,
      "flex_flow": null,
      "grid_area": null,
      "grid_auto_columns": null,
      "grid_auto_flow": null,
      "grid_auto_rows": null,
      "grid_column": null,
      "grid_gap": null,
      "grid_row": null,
      "grid_template_areas": null,
      "grid_template_columns": null,
      "grid_template_rows": null,
      "height": null,
      "justify_content": null,
      "justify_items": null,
      "left": null,
      "margin": null,
      "max_height": null,
      "max_width": null,
      "min_height": null,
      "min_width": null,
      "object_fit": null,
      "object_position": null,
      "order": null,
      "overflow": null,
      "overflow_x": null,
      "overflow_y": null,
      "padding": null,
      "right": null,
      "top": null,
      "visibility": null,
      "width": null
     }
    },
    "0ca982ff3d254d93ab584adf91153417": {
     "model_module": "@jupyter-widgets/controls",
     "model_module_version": "1.5.0",
     "model_name": "FloatProgressModel",
     "state": {
      "_dom_classes": [],
      "_model_module": "@jupyter-widgets/controls",
      "_model_module_version": "1.5.0",
      "_model_name": "FloatProgressModel",
      "_view_count": null,
      "_view_module": "@jupyter-widgets/controls",
      "_view_module_version": "1.5.0",
      "_view_name": "ProgressView",
      "bar_style": "success",
      "description": "",
      "description_tooltip": null,
      "layout": "IPY_MODEL_d50aac83d0db4a81bac26f6c76cfa0b8",
      "max": 154,
      "min": 0,
      "orientation": "horizontal",
      "style": "IPY_MODEL_c8944f9d9f8c49c18dc36527c9b21c4c",
      "value": 154
     }
    },
    "0e11256d21e845e2b737575aed537055": {
     "model_module": "@jupyter-widgets/controls",
     "model_module_version": "1.5.0",
     "model_name": "DescriptionStyleModel",
     "state": {
      "_model_module": "@jupyter-widgets/controls",
      "_model_module_version": "1.5.0",
      "_model_name": "DescriptionStyleModel",
      "_view_count": null,
      "_view_module": "@jupyter-widgets/base",
      "_view_module_version": "1.2.0",
      "_view_name": "StyleView",
      "description_width": ""
     }
    },
    "0e9beaa20de84ad3be3cf801d91dd42a": {
     "model_module": "@jupyter-widgets/base",
     "model_module_version": "1.2.0",
     "model_name": "LayoutModel",
     "state": {
      "_model_module": "@jupyter-widgets/base",
      "_model_module_version": "1.2.0",
      "_model_name": "LayoutModel",
      "_view_count": null,
      "_view_module": "@jupyter-widgets/base",
      "_view_module_version": "1.2.0",
      "_view_name": "LayoutView",
      "align_content": null,
      "align_items": null,
      "align_self": null,
      "border": null,
      "bottom": null,
      "display": null,
      "flex": null,
      "flex_flow": null,
      "grid_area": null,
      "grid_auto_columns": null,
      "grid_auto_flow": null,
      "grid_auto_rows": null,
      "grid_column": null,
      "grid_gap": null,
      "grid_row": null,
      "grid_template_areas": null,
      "grid_template_columns": null,
      "grid_template_rows": null,
      "height": null,
      "justify_content": null,
      "justify_items": null,
      "left": null,
      "margin": null,
      "max_height": null,
      "max_width": null,
      "min_height": null,
      "min_width": null,
      "object_fit": null,
      "object_position": null,
      "order": null,
      "overflow": null,
      "overflow_x": null,
      "overflow_y": null,
      "padding": null,
      "right": null,
      "top": null,
      "visibility": null,
      "width": null
     }
    },
    "0f06e2236b16494183ff14410cd432dd": {
     "model_module": "@jupyter-widgets/controls",
     "model_module_version": "1.5.0",
     "model_name": "HBoxModel",
     "state": {
      "_dom_classes": [],
      "_model_module": "@jupyter-widgets/controls",
      "_model_module_version": "1.5.0",
      "_model_name": "HBoxModel",
      "_view_count": null,
      "_view_module": "@jupyter-widgets/controls",
      "_view_module_version": "1.5.0",
      "_view_name": "HBoxView",
      "box_style": "",
      "children": [
       "IPY_MODEL_55f7ea31579f495b92eb85d61dd064bb",
       "IPY_MODEL_b9a3b8604ae3417d876d3fa906124093",
       "IPY_MODEL_a658dd6ec9b448efb23f745e857cba52"
      ],
      "layout": "IPY_MODEL_65d9368538204a7e81a01cacdaa6370f"
     }
    },
    "16aecfc8db2247e78f22f8712761317c": {
     "model_module": "@jupyter-widgets/controls",
     "model_module_version": "1.5.0",
     "model_name": "ProgressStyleModel",
     "state": {
      "_model_module": "@jupyter-widgets/controls",
      "_model_module_version": "1.5.0",
      "_model_name": "ProgressStyleModel",
      "_view_count": null,
      "_view_module": "@jupyter-widgets/base",
      "_view_module_version": "1.2.0",
      "_view_name": "StyleView",
      "bar_color": null,
      "description_width": ""
     }
    },
    "1bbb893abf0e4c2a81e982c1f8924e78": {
     "model_module": "@jupyter-widgets/controls",
     "model_module_version": "1.5.0",
     "model_name": "HTMLModel",
     "state": {
      "_dom_classes": [],
      "_model_module": "@jupyter-widgets/controls",
      "_model_module_version": "1.5.0",
      "_model_name": "HTMLModel",
      "_view_count": null,
      "_view_module": "@jupyter-widgets/controls",
      "_view_module_version": "1.5.0",
      "_view_name": "HTMLView",
      "description": "",
      "description_tooltip": null,
      "layout": "IPY_MODEL_3034d01c4e62487f87eda42801e1381b",
      "placeholder": "​",
      "style": "IPY_MODEL_30a0694842b34af9bc3879bab1412118",
      "value": " 443M/443M [00:16&lt;00:00, 29.0MB/s]"
     }
    },
    "26cab73236db4fe8acf0af39848193b7": {
     "model_module": "@jupyter-widgets/controls",
     "model_module_version": "1.5.0",
     "model_name": "DescriptionStyleModel",
     "state": {
      "_model_module": "@jupyter-widgets/controls",
      "_model_module_version": "1.5.0",
      "_model_name": "DescriptionStyleModel",
      "_view_count": null,
      "_view_module": "@jupyter-widgets/base",
      "_view_module_version": "1.2.0",
      "_view_name": "StyleView",
      "description_width": ""
     }
    },
    "27719b8cee4348b99dfdcd20efcaeba7": {
     "model_module": "@jupyter-widgets/base",
     "model_module_version": "1.2.0",
     "model_name": "LayoutModel",
     "state": {
      "_model_module": "@jupyter-widgets/base",
      "_model_module_version": "1.2.0",
      "_model_name": "LayoutModel",
      "_view_count": null,
      "_view_module": "@jupyter-widgets/base",
      "_view_module_version": "1.2.0",
      "_view_name": "LayoutView",
      "align_content": null,
      "align_items": null,
      "align_self": null,
      "border": null,
      "bottom": null,
      "display": null,
      "flex": null,
      "flex_flow": null,
      "grid_area": null,
      "grid_auto_columns": null,
      "grid_auto_flow": null,
      "grid_auto_rows": null,
      "grid_column": null,
      "grid_gap": null,
      "grid_row": null,
      "grid_template_areas": null,
      "grid_template_columns": null,
      "grid_template_rows": null,
      "height": null,
      "justify_content": null,
      "justify_items": null,
      "left": null,
      "margin": null,
      "max_height": null,
      "max_width": null,
      "min_height": null,
      "min_width": null,
      "object_fit": null,
      "object_position": null,
      "order": null,
      "overflow": null,
      "overflow_x": null,
      "overflow_y": null,
      "padding": null,
      "right": null,
      "top": null,
      "visibility": null,
      "width": null
     }
    },
    "29df0d30919d4bb2b638c8cf9eaf6f60": {
     "model_module": "@jupyter-widgets/controls",
     "model_module_version": "1.5.0",
     "model_name": "HTMLModel",
     "state": {
      "_dom_classes": [],
      "_model_module": "@jupyter-widgets/controls",
      "_model_module_version": "1.5.0",
      "_model_name": "HTMLModel",
      "_view_count": null,
      "_view_module": "@jupyter-widgets/controls",
      "_view_module_version": "1.5.0",
      "_view_name": "HTMLView",
      "description": "",
      "description_tooltip": null,
      "layout": "IPY_MODEL_aade687b83b94aae800e82e59f4285f6",
      "placeholder": "​",
      "style": "IPY_MODEL_4d2026574ac1462c86b72e6ba4d98697",
      "value": "Downloading: 100%"
     }
    },
    "3034d01c4e62487f87eda42801e1381b": {
     "model_module": "@jupyter-widgets/base",
     "model_module_version": "1.2.0",
     "model_name": "LayoutModel",
     "state": {
      "_model_module": "@jupyter-widgets/base",
      "_model_module_version": "1.2.0",
      "_model_name": "LayoutModel",
      "_view_count": null,
      "_view_module": "@jupyter-widgets/base",
      "_view_module_version": "1.2.0",
      "_view_name": "LayoutView",
      "align_content": null,
      "align_items": null,
      "align_self": null,
      "border": null,
      "bottom": null,
      "display": null,
      "flex": null,
      "flex_flow": null,
      "grid_area": null,
      "grid_auto_columns": null,
      "grid_auto_flow": null,
      "grid_auto_rows": null,
      "grid_column": null,
      "grid_gap": null,
      "grid_row": null,
      "grid_template_areas": null,
      "grid_template_columns": null,
      "grid_template_rows": null,
      "height": null,
      "justify_content": null,
      "justify_items": null,
      "left": null,
      "margin": null,
      "max_height": null,
      "max_width": null,
      "min_height": null,
      "min_width": null,
      "object_fit": null,
      "object_position": null,
      "order": null,
      "overflow": null,
      "overflow_x": null,
      "overflow_y": null,
      "padding": null,
      "right": null,
      "top": null,
      "visibility": null,
      "width": null
     }
    },
    "30a0694842b34af9bc3879bab1412118": {
     "model_module": "@jupyter-widgets/controls",
     "model_module_version": "1.5.0",
     "model_name": "DescriptionStyleModel",
     "state": {
      "_model_module": "@jupyter-widgets/controls",
      "_model_module_version": "1.5.0",
      "_model_name": "DescriptionStyleModel",
      "_view_count": null,
      "_view_module": "@jupyter-widgets/base",
      "_view_module_version": "1.2.0",
      "_view_name": "StyleView",
      "description_width": ""
     }
    },
    "33aa768a19714f979677784176bbaff3": {
     "model_module": "@jupyter-widgets/controls",
     "model_module_version": "1.5.0",
     "model_name": "FloatProgressModel",
     "state": {
      "_dom_classes": [],
      "_model_module": "@jupyter-widgets/controls",
      "_model_module_version": "1.5.0",
      "_model_name": "FloatProgressModel",
      "_view_count": null,
      "_view_module": "@jupyter-widgets/controls",
      "_view_module_version": "1.5.0",
      "_view_name": "ProgressView",
      "bar_style": "success",
      "description": "",
      "description_tooltip": null,
      "layout": "IPY_MODEL_eccd8c601d9a4b90b659fb9cd3940d1a",
      "max": 262028,
      "min": 0,
      "orientation": "horizontal",
      "style": "IPY_MODEL_5c2eae0281e34372b70a869b19e0a190",
      "value": 262028
     }
    },
    "39c6cfc8239a48b9aa95260b68831097": {
     "model_module": "@jupyter-widgets/base",
     "model_module_version": "1.2.0",
     "model_name": "LayoutModel",
     "state": {
      "_model_module": "@jupyter-widgets/base",
      "_model_module_version": "1.2.0",
      "_model_name": "LayoutModel",
      "_view_count": null,
      "_view_module": "@jupyter-widgets/base",
      "_view_module_version": "1.2.0",
      "_view_name": "LayoutView",
      "align_content": null,
      "align_items": null,
      "align_self": null,
      "border": null,
      "bottom": null,
      "display": null,
      "flex": null,
      "flex_flow": null,
      "grid_area": null,
      "grid_auto_columns": null,
      "grid_auto_flow": null,
      "grid_auto_rows": null,
      "grid_column": null,
      "grid_gap": null,
      "grid_row": null,
      "grid_template_areas": null,
      "grid_template_columns": null,
      "grid_template_rows": null,
      "height": null,
      "justify_content": null,
      "justify_items": null,
      "left": null,
      "margin": null,
      "max_height": null,
      "max_width": null,
      "min_height": null,
      "min_width": null,
      "object_fit": null,
      "object_position": null,
      "order": null,
      "overflow": null,
      "overflow_x": null,
      "overflow_y": null,
      "padding": null,
      "right": null,
      "top": null,
      "visibility": null,
      "width": null
     }
    },
    "4176fbdcb5144e64b7172755356383de": {
     "model_module": "@jupyter-widgets/controls",
     "model_module_version": "1.5.0",
     "model_name": "HBoxModel",
     "state": {
      "_dom_classes": [],
      "_model_module": "@jupyter-widgets/controls",
      "_model_module_version": "1.5.0",
      "_model_name": "HBoxModel",
      "_view_count": null,
      "_view_module": "@jupyter-widgets/controls",
      "_view_module_version": "1.5.0",
      "_view_name": "HBoxView",
      "box_style": "",
      "children": [
       "IPY_MODEL_b7a0db5aca444dfe8483dbb9b6301d48",
       "IPY_MODEL_33aa768a19714f979677784176bbaff3",
       "IPY_MODEL_bbdc3dccbc5b4fb5a75aaeb0280bb3be"
      ],
      "layout": "IPY_MODEL_050888a8e3d64299b45f44f973ec074f"
     }
    },
    "43d3a49a97ee4d20a7a89e588f559c02": {
     "model_module": "@jupyter-widgets/controls",
     "model_module_version": "1.5.0",
     "model_name": "HTMLModel",
     "state": {
      "_dom_classes": [],
      "_model_module": "@jupyter-widgets/controls",
      "_model_module_version": "1.5.0",
      "_model_name": "HTMLModel",
      "_view_count": null,
      "_view_module": "@jupyter-widgets/controls",
      "_view_module_version": "1.5.0",
      "_view_name": "HTMLView",
      "description": "",
      "description_tooltip": null,
      "layout": "IPY_MODEL_fd0ea32697244f5d877d8e13f4a7977e",
      "placeholder": "​",
      "style": "IPY_MODEL_d9a42f5c9d52486f9beb14a124b5ff0d",
      "value": " 490/490 [00:00&lt;00:00, 8.72kB/s]"
     }
    },
    "46f61cbcde3445c09ad1d0f561486c3a": {
     "model_module": "@jupyter-widgets/controls",
     "model_module_version": "1.5.0",
     "model_name": "DescriptionStyleModel",
     "state": {
      "_model_module": "@jupyter-widgets/controls",
      "_model_module_version": "1.5.0",
      "_model_name": "DescriptionStyleModel",
      "_view_count": null,
      "_view_module": "@jupyter-widgets/base",
      "_view_module_version": "1.2.0",
      "_view_name": "StyleView",
      "description_width": ""
     }
    },
    "4aada65ea5444e3fb12cfd34fe10b881": {
     "model_module": "@jupyter-widgets/controls",
     "model_module_version": "1.5.0",
     "model_name": "DescriptionStyleModel",
     "state": {
      "_model_module": "@jupyter-widgets/controls",
      "_model_module_version": "1.5.0",
      "_model_name": "DescriptionStyleModel",
      "_view_count": null,
      "_view_module": "@jupyter-widgets/base",
      "_view_module_version": "1.2.0",
      "_view_name": "StyleView",
      "description_width": ""
     }
    },
    "4bda6acbf0c1497d999a6477b0c1ce3b": {
     "model_module": "@jupyter-widgets/controls",
     "model_module_version": "1.5.0",
     "model_name": "DescriptionStyleModel",
     "state": {
      "_model_module": "@jupyter-widgets/controls",
      "_model_module_version": "1.5.0",
      "_model_name": "DescriptionStyleModel",
      "_view_count": null,
      "_view_module": "@jupyter-widgets/base",
      "_view_module_version": "1.2.0",
      "_view_name": "StyleView",
      "description_width": ""
     }
    },
    "4d2026574ac1462c86b72e6ba4d98697": {
     "model_module": "@jupyter-widgets/controls",
     "model_module_version": "1.5.0",
     "model_name": "DescriptionStyleModel",
     "state": {
      "_model_module": "@jupyter-widgets/controls",
      "_model_module_version": "1.5.0",
      "_model_name": "DescriptionStyleModel",
      "_view_count": null,
      "_view_module": "@jupyter-widgets/base",
      "_view_module_version": "1.2.0",
      "_view_name": "StyleView",
      "description_width": ""
     }
    },
    "533908bba0ac4a48a76b82de38d046d1": {
     "model_module": "@jupyter-widgets/controls",
     "model_module_version": "1.5.0",
     "model_name": "FloatProgressModel",
     "state": {
      "_dom_classes": [],
      "_model_module": "@jupyter-widgets/controls",
      "_model_module_version": "1.5.0",
      "_model_name": "FloatProgressModel",
      "_view_count": null,
      "_view_module": "@jupyter-widgets/controls",
      "_view_module_version": "1.5.0",
      "_view_name": "ProgressView",
      "bar_style": "success",
      "description": "",
      "description_tooltip": null,
      "layout": "IPY_MODEL_39c6cfc8239a48b9aa95260b68831097",
      "max": 442778215,
      "min": 0,
      "orientation": "horizontal",
      "style": "IPY_MODEL_9fc9d5af76dc4ec89e107d4baf88c4a8",
      "value": 442778215
     }
    },
    "55f7ea31579f495b92eb85d61dd064bb": {
     "model_module": "@jupyter-widgets/controls",
     "model_module_version": "1.5.0",
     "model_name": "HTMLModel",
     "state": {
      "_dom_classes": [],
      "_model_module": "@jupyter-widgets/controls",
      "_model_module_version": "1.5.0",
      "_model_name": "HTMLModel",
      "_view_count": null,
      "_view_module": "@jupyter-widgets/controls",
      "_view_module_version": "1.5.0",
      "_view_name": "HTMLView",
      "description": "",
      "description_tooltip": null,
      "layout": "IPY_MODEL_5b13d77f49b041478058ed229fc32261",
      "placeholder": "​",
      "style": "IPY_MODEL_0e11256d21e845e2b737575aed537055",
      "value": "Downloading: 100%"
     }
    },
    "58a3efb4370e4a358b716cb2e0297d88": {
     "model_module": "@jupyter-widgets/base",
     "model_module_version": "1.2.0",
     "model_name": "LayoutModel",
     "state": {
      "_model_module": "@jupyter-widgets/base",
      "_model_module_version": "1.2.0",
      "_model_name": "LayoutModel",
      "_view_count": null,
      "_view_module": "@jupyter-widgets/base",
      "_view_module_version": "1.2.0",
      "_view_name": "LayoutView",
      "align_content": null,
      "align_items": null,
      "align_self": null,
      "border": null,
      "bottom": null,
      "display": null,
      "flex": null,
      "flex_flow": null,
      "grid_area": null,
      "grid_auto_columns": null,
      "grid_auto_flow": null,
      "grid_auto_rows": null,
      "grid_column": null,
      "grid_gap": null,
      "grid_row": null,
      "grid_template_areas": null,
      "grid_template_columns": null,
      "grid_template_rows": null,
      "height": null,
      "justify_content": null,
      "justify_items": null,
      "left": null,
      "margin": null,
      "max_height": null,
      "max_width": null,
      "min_height": null,
      "min_width": null,
      "object_fit": null,
      "object_position": null,
      "order": null,
      "overflow": null,
      "overflow_x": null,
      "overflow_y": null,
      "padding": null,
      "right": null,
      "top": null,
      "visibility": null,
      "width": null
     }
    },
    "5b13d77f49b041478058ed229fc32261": {
     "model_module": "@jupyter-widgets/base",
     "model_module_version": "1.2.0",
     "model_name": "LayoutModel",
     "state": {
      "_model_module": "@jupyter-widgets/base",
      "_model_module_version": "1.2.0",
      "_model_name": "LayoutModel",
      "_view_count": null,
      "_view_module": "@jupyter-widgets/base",
      "_view_module_version": "1.2.0",
      "_view_name": "LayoutView",
      "align_content": null,
      "align_items": null,
      "align_self": null,
      "border": null,
      "bottom": null,
      "display": null,
      "flex": null,
      "flex_flow": null,
      "grid_area": null,
      "grid_auto_columns": null,
      "grid_auto_flow": null,
      "grid_auto_rows": null,
      "grid_column": null,
      "grid_gap": null,
      "grid_row": null,
      "grid_template_areas": null,
      "grid_template_columns": null,
      "grid_template_rows": null,
      "height": null,
      "justify_content": null,
      "justify_items": null,
      "left": null,
      "margin": null,
      "max_height": null,
      "max_width": null,
      "min_height": null,
      "min_width": null,
      "object_fit": null,
      "object_position": null,
      "order": null,
      "overflow": null,
      "overflow_x": null,
      "overflow_y": null,
      "padding": null,
      "right": null,
      "top": null,
      "visibility": null,
      "width": null
     }
    },
    "5c2eae0281e34372b70a869b19e0a190": {
     "model_module": "@jupyter-widgets/controls",
     "model_module_version": "1.5.0",
     "model_name": "ProgressStyleModel",
     "state": {
      "_model_module": "@jupyter-widgets/controls",
      "_model_module_version": "1.5.0",
      "_model_name": "ProgressStyleModel",
      "_view_count": null,
      "_view_module": "@jupyter-widgets/base",
      "_view_module_version": "1.2.0",
      "_view_name": "StyleView",
      "bar_color": null,
      "description_width": ""
     }
    },
    "65d9368538204a7e81a01cacdaa6370f": {
     "model_module": "@jupyter-widgets/base",
     "model_module_version": "1.2.0",
     "model_name": "LayoutModel",
     "state": {
      "_model_module": "@jupyter-widgets/base",
      "_model_module_version": "1.2.0",
      "_model_name": "LayoutModel",
      "_view_count": null,
      "_view_module": "@jupyter-widgets/base",
      "_view_module_version": "1.2.0",
      "_view_name": "LayoutView",
      "align_content": null,
      "align_items": null,
      "align_self": null,
      "border": null,
      "bottom": null,
      "display": null,
      "flex": null,
      "flex_flow": null,
      "grid_area": null,
      "grid_auto_columns": null,
      "grid_auto_flow": null,
      "grid_auto_rows": null,
      "grid_column": null,
      "grid_gap": null,
      "grid_row": null,
      "grid_template_areas": null,
      "grid_template_columns": null,
      "grid_template_rows": null,
      "height": null,
      "justify_content": null,
      "justify_items": null,
      "left": null,
      "margin": null,
      "max_height": null,
      "max_width": null,
      "min_height": null,
      "min_width": null,
      "object_fit": null,
      "object_position": null,
      "order": null,
      "overflow": null,
      "overflow_x": null,
      "overflow_y": null,
      "padding": null,
      "right": null,
      "top": null,
      "visibility": null,
      "width": null
     }
    },
    "6daaebcacf5941aeae83f18d5d6f7e34": {
     "model_module": "@jupyter-widgets/controls",
     "model_module_version": "1.5.0",
     "model_name": "DescriptionStyleModel",
     "state": {
      "_model_module": "@jupyter-widgets/controls",
      "_model_module_version": "1.5.0",
      "_model_name": "DescriptionStyleModel",
      "_view_count": null,
      "_view_module": "@jupyter-widgets/base",
      "_view_module_version": "1.2.0",
      "_view_name": "StyleView",
      "description_width": ""
     }
    },
    "778b1992655749ed9f130ee15425df0c": {
     "model_module": "@jupyter-widgets/controls",
     "model_module_version": "1.5.0",
     "model_name": "HTMLModel",
     "state": {
      "_dom_classes": [],
      "_model_module": "@jupyter-widgets/controls",
      "_model_module_version": "1.5.0",
      "_model_name": "HTMLModel",
      "_view_count": null,
      "_view_module": "@jupyter-widgets/controls",
      "_view_module_version": "1.5.0",
      "_view_name": "HTMLView",
      "description": "",
      "description_tooltip": null,
      "layout": "IPY_MODEL_c4eccedb340d4e57a22fded61886b0e5",
      "placeholder": "​",
      "style": "IPY_MODEL_26cab73236db4fe8acf0af39848193b7",
      "value": " 154/154 [00:00&lt;00:00, 3.20kB/s]"
     }
    },
    "77e20c6055a34fd5a946e6b460fb912f": {
     "model_module": "@jupyter-widgets/controls",
     "model_module_version": "1.5.0",
     "model_name": "FloatProgressModel",
     "state": {
      "_dom_classes": [],
      "_model_module": "@jupyter-widgets/controls",
      "_model_module_version": "1.5.0",
      "_model_name": "FloatProgressModel",
      "_view_count": null,
      "_view_module": "@jupyter-widgets/controls",
      "_view_module_version": "1.5.0",
      "_view_name": "ProgressView",
      "bar_style": "success",
      "description": "",
      "description_tooltip": null,
      "layout": "IPY_MODEL_cfc5f48ac6f14e5c8ed5157ad250a4d8",
      "max": 490,
      "min": 0,
      "orientation": "horizontal",
      "style": "IPY_MODEL_16aecfc8db2247e78f22f8712761317c",
      "value": 490
     }
    },
    "7ab243ae14e0442e9a2372c94d860dd0": {
     "model_module": "@jupyter-widgets/base",
     "model_module_version": "1.2.0",
     "model_name": "LayoutModel",
     "state": {
      "_model_module": "@jupyter-widgets/base",
      "_model_module_version": "1.2.0",
      "_model_name": "LayoutModel",
      "_view_count": null,
      "_view_module": "@jupyter-widgets/base",
      "_view_module_version": "1.2.0",
      "_view_name": "LayoutView",
      "align_content": null,
      "align_items": null,
      "align_self": null,
      "border": null,
      "bottom": null,
      "display": null,
      "flex": null,
      "flex_flow": null,
      "grid_area": null,
      "grid_auto_columns": null,
      "grid_auto_flow": null,
      "grid_auto_rows": null,
      "grid_column": null,
      "grid_gap": null,
      "grid_row": null,
      "grid_template_areas": null,
      "grid_template_columns": null,
      "grid_template_rows": null,
      "height": null,
      "justify_content": null,
      "justify_items": null,
      "left": null,
      "margin": null,
      "max_height": null,
      "max_width": null,
      "min_height": null,
      "min_width": null,
      "object_fit": null,
      "object_position": null,
      "order": null,
      "overflow": null,
      "overflow_x": null,
      "overflow_y": null,
      "padding": null,
      "right": null,
      "top": null,
      "visibility": null,
      "width": null
     }
    },
    "825c5af8cab84e78b7d688a40886c160": {
     "model_module": "@jupyter-widgets/base",
     "model_module_version": "1.2.0",
     "model_name": "LayoutModel",
     "state": {
      "_model_module": "@jupyter-widgets/base",
      "_model_module_version": "1.2.0",
      "_model_name": "LayoutModel",
      "_view_count": null,
      "_view_module": "@jupyter-widgets/base",
      "_view_module_version": "1.2.0",
      "_view_name": "LayoutView",
      "align_content": null,
      "align_items": null,
      "align_self": null,
      "border": null,
      "bottom": null,
      "display": null,
      "flex": null,
      "flex_flow": null,
      "grid_area": null,
      "grid_auto_columns": null,
      "grid_auto_flow": null,
      "grid_auto_rows": null,
      "grid_column": null,
      "grid_gap": null,
      "grid_row": null,
      "grid_template_areas": null,
      "grid_template_columns": null,
      "grid_template_rows": null,
      "height": null,
      "justify_content": null,
      "justify_items": null,
      "left": null,
      "margin": null,
      "max_height": null,
      "max_width": null,
      "min_height": null,
      "min_width": null,
      "object_fit": null,
      "object_position": null,
      "order": null,
      "overflow": null,
      "overflow_x": null,
      "overflow_y": null,
      "padding": null,
      "right": null,
      "top": null,
      "visibility": null,
      "width": null
     }
    },
    "93ee446c056346c981afff53d92910f1": {
     "model_module": "@jupyter-widgets/base",
     "model_module_version": "1.2.0",
     "model_name": "LayoutModel",
     "state": {
      "_model_module": "@jupyter-widgets/base",
      "_model_module_version": "1.2.0",
      "_model_name": "LayoutModel",
      "_view_count": null,
      "_view_module": "@jupyter-widgets/base",
      "_view_module_version": "1.2.0",
      "_view_name": "LayoutView",
      "align_content": null,
      "align_items": null,
      "align_self": null,
      "border": null,
      "bottom": null,
      "display": null,
      "flex": null,
      "flex_flow": null,
      "grid_area": null,
      "grid_auto_columns": null,
      "grid_auto_flow": null,
      "grid_auto_rows": null,
      "grid_column": null,
      "grid_gap": null,
      "grid_row": null,
      "grid_template_areas": null,
      "grid_template_columns": null,
      "grid_template_rows": null,
      "height": null,
      "justify_content": null,
      "justify_items": null,
      "left": null,
      "margin": null,
      "max_height": null,
      "max_width": null,
      "min_height": null,
      "min_width": null,
      "object_fit": null,
      "object_position": null,
      "order": null,
      "overflow": null,
      "overflow_x": null,
      "overflow_y": null,
      "padding": null,
      "right": null,
      "top": null,
      "visibility": null,
      "width": null
     }
    },
    "95d5583eee8a4bc08220ff81d201272f": {
     "model_module": "@jupyter-widgets/controls",
     "model_module_version": "1.5.0",
     "model_name": "ProgressStyleModel",
     "state": {
      "_model_module": "@jupyter-widgets/controls",
      "_model_module_version": "1.5.0",
      "_model_name": "ProgressStyleModel",
      "_view_count": null,
      "_view_module": "@jupyter-widgets/base",
      "_view_module_version": "1.2.0",
      "_view_name": "StyleView",
      "bar_color": null,
      "description_width": ""
     }
    },
    "9fc9d5af76dc4ec89e107d4baf88c4a8": {
     "model_module": "@jupyter-widgets/controls",
     "model_module_version": "1.5.0",
     "model_name": "ProgressStyleModel",
     "state": {
      "_model_module": "@jupyter-widgets/controls",
      "_model_module_version": "1.5.0",
      "_model_name": "ProgressStyleModel",
      "_view_count": null,
      "_view_module": "@jupyter-widgets/base",
      "_view_module_version": "1.2.0",
      "_view_name": "StyleView",
      "bar_color": null,
      "description_width": ""
     }
    },
    "a658dd6ec9b448efb23f745e857cba52": {
     "model_module": "@jupyter-widgets/controls",
     "model_module_version": "1.5.0",
     "model_name": "HTMLModel",
     "state": {
      "_dom_classes": [],
      "_model_module": "@jupyter-widgets/controls",
      "_model_module_version": "1.5.0",
      "_model_name": "HTMLModel",
      "_view_count": null,
      "_view_module": "@jupyter-widgets/controls",
      "_view_module_version": "1.5.0",
      "_view_name": "HTMLView",
      "description": "",
      "description_tooltip": null,
      "layout": "IPY_MODEL_c5630d50c1c848948cd5ee85d51cced7",
      "placeholder": "​",
      "style": "IPY_MODEL_d708a3a12afa4b7ebd0bb780fcdfb6fe",
      "value": " 1.45k/1.45k [00:00&lt;00:00, 33.8kB/s]"
     }
    },
    "aade687b83b94aae800e82e59f4285f6": {
     "model_module": "@jupyter-widgets/base",
     "model_module_version": "1.2.0",
     "model_name": "LayoutModel",
     "state": {
      "_model_module": "@jupyter-widgets/base",
      "_model_module_version": "1.2.0",
      "_model_name": "LayoutModel",
      "_view_count": null,
      "_view_module": "@jupyter-widgets/base",
      "_view_module_version": "1.2.0",
      "_view_name": "LayoutView",
      "align_content": null,
      "align_items": null,
      "align_self": null,
      "border": null,
      "bottom": null,
      "display": null,
      "flex": null,
      "flex_flow": null,
      "grid_area": null,
      "grid_auto_columns": null,
      "grid_auto_flow": null,
      "grid_auto_rows": null,
      "grid_column": null,
      "grid_gap": null,
      "grid_row": null,
      "grid_template_areas": null,
      "grid_template_columns": null,
      "grid_template_rows": null,
      "height": null,
      "justify_content": null,
      "justify_items": null,
      "left": null,
      "margin": null,
      "max_height": null,
      "max_width": null,
      "min_height": null,
      "min_width": null,
      "object_fit": null,
      "object_position": null,
      "order": null,
      "overflow": null,
      "overflow_x": null,
      "overflow_y": null,
      "padding": null,
      "right": null,
      "top": null,
      "visibility": null,
      "width": null
     }
    },
    "af985fcaef7d4115826acc35971ce0aa": {
     "model_module": "@jupyter-widgets/controls",
     "model_module_version": "1.5.0",
     "model_name": "HBoxModel",
     "state": {
      "_dom_classes": [],
      "_model_module": "@jupyter-widgets/controls",
      "_model_module_version": "1.5.0",
      "_model_name": "HBoxModel",
      "_view_count": null,
      "_view_module": "@jupyter-widgets/controls",
      "_view_module_version": "1.5.0",
      "_view_name": "HBoxView",
      "box_style": "",
      "children": [
       "IPY_MODEL_29df0d30919d4bb2b638c8cf9eaf6f60",
       "IPY_MODEL_77e20c6055a34fd5a946e6b460fb912f",
       "IPY_MODEL_43d3a49a97ee4d20a7a89e588f559c02"
      ],
      "layout": "IPY_MODEL_7ab243ae14e0442e9a2372c94d860dd0"
     }
    },
    "b6666b69977140fbaa8826043cab0faa": {
     "model_module": "@jupyter-widgets/controls",
     "model_module_version": "1.5.0",
     "model_name": "HTMLModel",
     "state": {
      "_dom_classes": [],
      "_model_module": "@jupyter-widgets/controls",
      "_model_module_version": "1.5.0",
      "_model_name": "HTMLModel",
      "_view_count": null,
      "_view_module": "@jupyter-widgets/controls",
      "_view_module_version": "1.5.0",
      "_view_name": "HTMLView",
      "description": "",
      "description_tooltip": null,
      "layout": "IPY_MODEL_58a3efb4370e4a358b716cb2e0297d88",
      "placeholder": "​",
      "style": "IPY_MODEL_4aada65ea5444e3fb12cfd34fe10b881",
      "value": "Downloading: 100%"
     }
    },
    "b7a0db5aca444dfe8483dbb9b6301d48": {
     "model_module": "@jupyter-widgets/controls",
     "model_module_version": "1.5.0",
     "model_name": "HTMLModel",
     "state": {
      "_dom_classes": [],
      "_model_module": "@jupyter-widgets/controls",
      "_model_module_version": "1.5.0",
      "_model_name": "HTMLModel",
      "_view_count": null,
      "_view_module": "@jupyter-widgets/controls",
      "_view_module_version": "1.5.0",
      "_view_name": "HTMLView",
      "description": "",
      "description_tooltip": null,
      "layout": "IPY_MODEL_825c5af8cab84e78b7d688a40886c160",
      "placeholder": "​",
      "style": "IPY_MODEL_46f61cbcde3445c09ad1d0f561486c3a",
      "value": "Downloading: 100%"
     }
    },
    "b9a3b8604ae3417d876d3fa906124093": {
     "model_module": "@jupyter-widgets/controls",
     "model_module_version": "1.5.0",
     "model_name": "FloatProgressModel",
     "state": {
      "_dom_classes": [],
      "_model_module": "@jupyter-widgets/controls",
      "_model_module_version": "1.5.0",
      "_model_name": "FloatProgressModel",
      "_view_count": null,
      "_view_module": "@jupyter-widgets/controls",
      "_view_module_version": "1.5.0",
      "_view_name": "ProgressView",
      "bar_style": "success",
      "description": "",
      "description_tooltip": null,
      "layout": "IPY_MODEL_0e9beaa20de84ad3be3cf801d91dd42a",
      "max": 1452,
      "min": 0,
      "orientation": "horizontal",
      "style": "IPY_MODEL_95d5583eee8a4bc08220ff81d201272f",
      "value": 1452
     }
    },
    "bbdc3dccbc5b4fb5a75aaeb0280bb3be": {
     "model_module": "@jupyter-widgets/controls",
     "model_module_version": "1.5.0",
     "model_name": "HTMLModel",
     "state": {
      "_dom_classes": [],
      "_model_module": "@jupyter-widgets/controls",
      "_model_module_version": "1.5.0",
      "_model_name": "HTMLModel",
      "_view_count": null,
      "_view_module": "@jupyter-widgets/controls",
      "_view_module_version": "1.5.0",
      "_view_name": "HTMLView",
      "description": "",
      "description_tooltip": null,
      "layout": "IPY_MODEL_dfe8d2c537dd4fa2a2eb1956d8289d67",
      "placeholder": "​",
      "style": "IPY_MODEL_6daaebcacf5941aeae83f18d5d6f7e34",
      "value": " 262k/262k [00:00&lt;00:00, 1.53MB/s]"
     }
    },
    "c4eccedb340d4e57a22fded61886b0e5": {
     "model_module": "@jupyter-widgets/base",
     "model_module_version": "1.2.0",
     "model_name": "LayoutModel",
     "state": {
      "_model_module": "@jupyter-widgets/base",
      "_model_module_version": "1.2.0",
      "_model_name": "LayoutModel",
      "_view_count": null,
      "_view_module": "@jupyter-widgets/base",
      "_view_module_version": "1.2.0",
      "_view_name": "LayoutView",
      "align_content": null,
      "align_items": null,
      "align_self": null,
      "border": null,
      "bottom": null,
      "display": null,
      "flex": null,
      "flex_flow": null,
      "grid_area": null,
      "grid_auto_columns": null,
      "grid_auto_flow": null,
      "grid_auto_rows": null,
      "grid_column": null,
      "grid_gap": null,
      "grid_row": null,
      "grid_template_areas": null,
      "grid_template_columns": null,
      "grid_template_rows": null,
      "height": null,
      "justify_content": null,
      "justify_items": null,
      "left": null,
      "margin": null,
      "max_height": null,
      "max_width": null,
      "min_height": null,
      "min_width": null,
      "object_fit": null,
      "object_position": null,
      "order": null,
      "overflow": null,
      "overflow_x": null,
      "overflow_y": null,
      "padding": null,
      "right": null,
      "top": null,
      "visibility": null,
      "width": null
     }
    },
    "c5630d50c1c848948cd5ee85d51cced7": {
     "model_module": "@jupyter-widgets/base",
     "model_module_version": "1.2.0",
     "model_name": "LayoutModel",
     "state": {
      "_model_module": "@jupyter-widgets/base",
      "_model_module_version": "1.2.0",
      "_model_name": "LayoutModel",
      "_view_count": null,
      "_view_module": "@jupyter-widgets/base",
      "_view_module_version": "1.2.0",
      "_view_name": "LayoutView",
      "align_content": null,
      "align_items": null,
      "align_self": null,
      "border": null,
      "bottom": null,
      "display": null,
      "flex": null,
      "flex_flow": null,
      "grid_area": null,
      "grid_auto_columns": null,
      "grid_auto_flow": null,
      "grid_auto_rows": null,
      "grid_column": null,
      "grid_gap": null,
      "grid_row": null,
      "grid_template_areas": null,
      "grid_template_columns": null,
      "grid_template_rows": null,
      "height": null,
      "justify_content": null,
      "justify_items": null,
      "left": null,
      "margin": null,
      "max_height": null,
      "max_width": null,
      "min_height": null,
      "min_width": null,
      "object_fit": null,
      "object_position": null,
      "order": null,
      "overflow": null,
      "overflow_x": null,
      "overflow_y": null,
      "padding": null,
      "right": null,
      "top": null,
      "visibility": null,
      "width": null
     }
    },
    "c8944f9d9f8c49c18dc36527c9b21c4c": {
     "model_module": "@jupyter-widgets/controls",
     "model_module_version": "1.5.0",
     "model_name": "ProgressStyleModel",
     "state": {
      "_model_module": "@jupyter-widgets/controls",
      "_model_module_version": "1.5.0",
      "_model_name": "ProgressStyleModel",
      "_view_count": null,
      "_view_module": "@jupyter-widgets/base",
      "_view_module_version": "1.2.0",
      "_view_name": "StyleView",
      "bar_color": null,
      "description_width": ""
     }
    },
    "cfc5f48ac6f14e5c8ed5157ad250a4d8": {
     "model_module": "@jupyter-widgets/base",
     "model_module_version": "1.2.0",
     "model_name": "LayoutModel",
     "state": {
      "_model_module": "@jupyter-widgets/base",
      "_model_module_version": "1.2.0",
      "_model_name": "LayoutModel",
      "_view_count": null,
      "_view_module": "@jupyter-widgets/base",
      "_view_module_version": "1.2.0",
      "_view_name": "LayoutView",
      "align_content": null,
      "align_items": null,
      "align_self": null,
      "border": null,
      "bottom": null,
      "display": null,
      "flex": null,
      "flex_flow": null,
      "grid_area": null,
      "grid_auto_columns": null,
      "grid_auto_flow": null,
      "grid_auto_rows": null,
      "grid_column": null,
      "grid_gap": null,
      "grid_row": null,
      "grid_template_areas": null,
      "grid_template_columns": null,
      "grid_template_rows": null,
      "height": null,
      "justify_content": null,
      "justify_items": null,
      "left": null,
      "margin": null,
      "max_height": null,
      "max_width": null,
      "min_height": null,
      "min_width": null,
      "object_fit": null,
      "object_position": null,
      "order": null,
      "overflow": null,
      "overflow_x": null,
      "overflow_y": null,
      "padding": null,
      "right": null,
      "top": null,
      "visibility": null,
      "width": null
     }
    },
    "d50aac83d0db4a81bac26f6c76cfa0b8": {
     "model_module": "@jupyter-widgets/base",
     "model_module_version": "1.2.0",
     "model_name": "LayoutModel",
     "state": {
      "_model_module": "@jupyter-widgets/base",
      "_model_module_version": "1.2.0",
      "_model_name": "LayoutModel",
      "_view_count": null,
      "_view_module": "@jupyter-widgets/base",
      "_view_module_version": "1.2.0",
      "_view_name": "LayoutView",
      "align_content": null,
      "align_items": null,
      "align_self": null,
      "border": null,
      "bottom": null,
      "display": null,
      "flex": null,
      "flex_flow": null,
      "grid_area": null,
      "grid_auto_columns": null,
      "grid_auto_flow": null,
      "grid_auto_rows": null,
      "grid_column": null,
      "grid_gap": null,
      "grid_row": null,
      "grid_template_areas": null,
      "grid_template_columns": null,
      "grid_template_rows": null,
      "height": null,
      "justify_content": null,
      "justify_items": null,
      "left": null,
      "margin": null,
      "max_height": null,
      "max_width": null,
      "min_height": null,
      "min_width": null,
      "object_fit": null,
      "object_position": null,
      "order": null,
      "overflow": null,
      "overflow_x": null,
      "overflow_y": null,
      "padding": null,
      "right": null,
      "top": null,
      "visibility": null,
      "width": null
     }
    },
    "d708a3a12afa4b7ebd0bb780fcdfb6fe": {
     "model_module": "@jupyter-widgets/controls",
     "model_module_version": "1.5.0",
     "model_name": "DescriptionStyleModel",
     "state": {
      "_model_module": "@jupyter-widgets/controls",
      "_model_module_version": "1.5.0",
      "_model_name": "DescriptionStyleModel",
      "_view_count": null,
      "_view_module": "@jupyter-widgets/base",
      "_view_module_version": "1.2.0",
      "_view_name": "StyleView",
      "description_width": ""
     }
    },
    "d9a42f5c9d52486f9beb14a124b5ff0d": {
     "model_module": "@jupyter-widgets/controls",
     "model_module_version": "1.5.0",
     "model_name": "DescriptionStyleModel",
     "state": {
      "_model_module": "@jupyter-widgets/controls",
      "_model_module_version": "1.5.0",
      "_model_name": "DescriptionStyleModel",
      "_view_count": null,
      "_view_module": "@jupyter-widgets/base",
      "_view_module_version": "1.2.0",
      "_view_name": "StyleView",
      "description_width": ""
     }
    },
    "db38a48ed3b448abb5672cf48941a2b1": {
     "model_module": "@jupyter-widgets/controls",
     "model_module_version": "1.5.0",
     "model_name": "HBoxModel",
     "state": {
      "_dom_classes": [],
      "_model_module": "@jupyter-widgets/controls",
      "_model_module_version": "1.5.0",
      "_model_name": "HBoxModel",
      "_view_count": null,
      "_view_module": "@jupyter-widgets/controls",
      "_view_module_version": "1.5.0",
      "_view_name": "HBoxView",
      "box_style": "",
      "children": [
       "IPY_MODEL_fdbaee2b56f6415196a0b7c975371563",
       "IPY_MODEL_0ca982ff3d254d93ab584adf91153417",
       "IPY_MODEL_778b1992655749ed9f130ee15425df0c"
      ],
      "layout": "IPY_MODEL_27719b8cee4348b99dfdcd20efcaeba7"
     }
    },
    "dfe8d2c537dd4fa2a2eb1956d8289d67": {
     "model_module": "@jupyter-widgets/base",
     "model_module_version": "1.2.0",
     "model_name": "LayoutModel",
     "state": {
      "_model_module": "@jupyter-widgets/base",
      "_model_module_version": "1.2.0",
      "_model_name": "LayoutModel",
      "_view_count": null,
      "_view_module": "@jupyter-widgets/base",
      "_view_module_version": "1.2.0",
      "_view_name": "LayoutView",
      "align_content": null,
      "align_items": null,
      "align_self": null,
      "border": null,
      "bottom": null,
      "display": null,
      "flex": null,
      "flex_flow": null,
      "grid_area": null,
      "grid_auto_columns": null,
      "grid_auto_flow": null,
      "grid_auto_rows": null,
      "grid_column": null,
      "grid_gap": null,
      "grid_row": null,
      "grid_template_areas": null,
      "grid_template_columns": null,
      "grid_template_rows": null,
      "height": null,
      "justify_content": null,
      "justify_items": null,
      "left": null,
      "margin": null,
      "max_height": null,
      "max_width": null,
      "min_height": null,
      "min_width": null,
      "object_fit": null,
      "object_position": null,
      "order": null,
      "overflow": null,
      "overflow_x": null,
      "overflow_y": null,
      "padding": null,
      "right": null,
      "top": null,
      "visibility": null,
      "width": null
     }
    },
    "e639c10c71b74dec9cbd69852ddbcb1a": {
     "model_module": "@jupyter-widgets/controls",
     "model_module_version": "1.5.0",
     "model_name": "HBoxModel",
     "state": {
      "_dom_classes": [],
      "_model_module": "@jupyter-widgets/controls",
      "_model_module_version": "1.5.0",
      "_model_name": "HBoxModel",
      "_view_count": null,
      "_view_module": "@jupyter-widgets/controls",
      "_view_module_version": "1.5.0",
      "_view_name": "HBoxView",
      "box_style": "",
      "children": [
       "IPY_MODEL_b6666b69977140fbaa8826043cab0faa",
       "IPY_MODEL_533908bba0ac4a48a76b82de38d046d1",
       "IPY_MODEL_1bbb893abf0e4c2a81e982c1f8924e78"
      ],
      "layout": "IPY_MODEL_ec2cd57469e34963b1db1fbd7e56ff9e"
     }
    },
    "ec2cd57469e34963b1db1fbd7e56ff9e": {
     "model_module": "@jupyter-widgets/base",
     "model_module_version": "1.2.0",
     "model_name": "LayoutModel",
     "state": {
      "_model_module": "@jupyter-widgets/base",
      "_model_module_version": "1.2.0",
      "_model_name": "LayoutModel",
      "_view_count": null,
      "_view_module": "@jupyter-widgets/base",
      "_view_module_version": "1.2.0",
      "_view_name": "LayoutView",
      "align_content": null,
      "align_items": null,
      "align_self": null,
      "border": null,
      "bottom": null,
      "display": null,
      "flex": null,
      "flex_flow": null,
      "grid_area": null,
      "grid_auto_columns": null,
      "grid_auto_flow": null,
      "grid_auto_rows": null,
      "grid_column": null,
      "grid_gap": null,
      "grid_row": null,
      "grid_template_areas": null,
      "grid_template_columns": null,
      "grid_template_rows": null,
      "height": null,
      "justify_content": null,
      "justify_items": null,
      "left": null,
      "margin": null,
      "max_height": null,
      "max_width": null,
      "min_height": null,
      "min_width": null,
      "object_fit": null,
      "object_position": null,
      "order": null,
      "overflow": null,
      "overflow_x": null,
      "overflow_y": null,
      "padding": null,
      "right": null,
      "top": null,
      "visibility": null,
      "width": null
     }
    },
    "eccd8c601d9a4b90b659fb9cd3940d1a": {
     "model_module": "@jupyter-widgets/base",
     "model_module_version": "1.2.0",
     "model_name": "LayoutModel",
     "state": {
      "_model_module": "@jupyter-widgets/base",
      "_model_module_version": "1.2.0",
      "_model_name": "LayoutModel",
      "_view_count": null,
      "_view_module": "@jupyter-widgets/base",
      "_view_module_version": "1.2.0",
      "_view_name": "LayoutView",
      "align_content": null,
      "align_items": null,
      "align_self": null,
      "border": null,
      "bottom": null,
      "display": null,
      "flex": null,
      "flex_flow": null,
      "grid_area": null,
      "grid_auto_columns": null,
      "grid_auto_flow": null,
      "grid_auto_rows": null,
      "grid_column": null,
      "grid_gap": null,
      "grid_row": null,
      "grid_template_areas": null,
      "grid_template_columns": null,
      "grid_template_rows": null,
      "height": null,
      "justify_content": null,
      "justify_items": null,
      "left": null,
      "margin": null,
      "max_height": null,
      "max_width": null,
      "min_height": null,
      "min_width": null,
      "object_fit": null,
      "object_position": null,
      "order": null,
      "overflow": null,
      "overflow_x": null,
      "overflow_y": null,
      "padding": null,
      "right": null,
      "top": null,
      "visibility": null,
      "width": null
     }
    },
    "fd0ea32697244f5d877d8e13f4a7977e": {
     "model_module": "@jupyter-widgets/base",
     "model_module_version": "1.2.0",
     "model_name": "LayoutModel",
     "state": {
      "_model_module": "@jupyter-widgets/base",
      "_model_module_version": "1.2.0",
      "_model_name": "LayoutModel",
      "_view_count": null,
      "_view_module": "@jupyter-widgets/base",
      "_view_module_version": "1.2.0",
      "_view_name": "LayoutView",
      "align_content": null,
      "align_items": null,
      "align_self": null,
      "border": null,
      "bottom": null,
      "display": null,
      "flex": null,
      "flex_flow": null,
      "grid_area": null,
      "grid_auto_columns": null,
      "grid_auto_flow": null,
      "grid_auto_rows": null,
      "grid_column": null,
      "grid_gap": null,
      "grid_row": null,
      "grid_template_areas": null,
      "grid_template_columns": null,
      "grid_template_rows": null,
      "height": null,
      "justify_content": null,
      "justify_items": null,
      "left": null,
      "margin": null,
      "max_height": null,
      "max_width": null,
      "min_height": null,
      "min_width": null,
      "object_fit": null,
      "object_position": null,
      "order": null,
      "overflow": null,
      "overflow_x": null,
      "overflow_y": null,
      "padding": null,
      "right": null,
      "top": null,
      "visibility": null,
      "width": null
     }
    },
    "fdbaee2b56f6415196a0b7c975371563": {
     "model_module": "@jupyter-widgets/controls",
     "model_module_version": "1.5.0",
     "model_name": "HTMLModel",
     "state": {
      "_dom_classes": [],
      "_model_module": "@jupyter-widgets/controls",
      "_model_module_version": "1.5.0",
      "_model_name": "HTMLModel",
      "_view_count": null,
      "_view_module": "@jupyter-widgets/controls",
      "_view_module_version": "1.5.0",
      "_view_name": "HTMLView",
      "description": "",
      "description_tooltip": null,
      "layout": "IPY_MODEL_93ee446c056346c981afff53d92910f1",
      "placeholder": "​",
      "style": "IPY_MODEL_4bda6acbf0c1497d999a6477b0c1ce3b",
      "value": "Downloading: 100%"
     }
    }
   }
  }
 },
 "nbformat": 4,
 "nbformat_minor": 1
}
